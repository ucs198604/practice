{
 "cells": [
  {
   "cell_type": "code",
   "execution_count": 130,
   "metadata": {},
   "outputs": [],
   "source": [
    "# selenium for mac\n",
    "# headless mode OK\n",
    "\n",
    "import requests\n",
    "from lxml import html\n",
    "import bs4\n",
    "import selenium\n",
    "from selenium import webdriver\n",
    "import re\n",
    "\n",
    "# headless\n",
    "from selenium.webdriver.chrome.options import Options\n",
    "chrome_options = Options() # 啟動無頭模式\n",
    "chrome_options.add_argument('--headless')  #規避google bug\n",
    "chrome_options.add_argument('--disable-gpu')\n",
    "\n",
    "# 指定 chromedriver location, create browser object, add headless option\n",
    "chromedriver = '/usr/local/bin/chromedriver'\n",
    "# chromedriver = \"C:\\webdriver\\chromedriver.exe\"\n",
    "browser = webdriver.Chrome(chromedriver, options=chrome_options)\n",
    "\n",
    "#positions = ['0050','006208','00692','1216','1402','2317','2832','2887','2888']\n",
    "#url = 'https://goodinfo.tw/StockInfo/StockDividendSchedule.asp?STOCK_ID=1216'\n",
    "#div_url = 'https://goodinfo.tw/StockInfo/StockDividendSchedule.asp?STOCK_ID='\n",
    "#browser.get(url)\n",
    "#htmltext = browser.page_source\n",
    "\n",
    "\n",
    "# 將 result 丟給 beautifulSoup 分析\n",
    "# display result\n",
    "#soup = bs4.BeautifulSoup(htmltext,'lxml')\n",
    "#print(soup.prettify())\n",
    "\n",
    "# browser.close()"
   ]
  },
  {
   "cell_type": "code",
   "execution_count": 131,
   "metadata": {},
   "outputs": [
    {
     "data": {
      "text/plain": [
       "'0050,006208,00692,1216,1402,2317,2823,2887,2888'"
      ]
     },
     "execution_count": 131,
     "metadata": {},
     "output_type": "execute_result"
    }
   ],
   "source": [
    "\n",
    "positions"
   ]
  },
  {
   "cell_type": "code",
   "execution_count": 86,
   "metadata": {},
   "outputs": [],
   "source": [
    "# 對應 text\n",
    "text_all =[\n",
    "\"股利發放年度\",\n",
    "\"股利所屬盈餘期間\",\n",
    "\"股東會日期\",\n",
    "\"除息交易日\",  # 除息日程\n",
    "\"除息參考價\", \n",
    "\"填息完成日\", \n",
    "\"填息花費日數\", \n",
    "\"現金股利發放日\", \n",
    "\"除權交易日\", # 除權日程\n",
    "\"除權參考價\", \n",
    "\"填權完成日\", \n",
    "\"填權花費日數\", \n",
    "\"現金股利盈餘\",\n",
    "\"現金股利公積\",\n",
    "\"現金股利合計\",\n",
    "\"股票股利盈餘\",\n",
    "'股票股利公積',\n",
    "\"股票股利合計\",\n",
    "\"股利合計\"]\n",
    "\n",
    "\n",
    "def get_div(positions):\n",
    "    # input position\n",
    "    #positions = '0050,006208,00692,1216,1402,2317,2832,2887,2888'\n",
    "    positions = positions.split(',')\n",
    "    list_dict_info = []  # dict of stock\n",
    "    for pos in positions:\n",
    "        try:\n",
    "            div_url = 'https://goodinfo.tw/StockInfo/StockDividendSchedule.asp?STOCK_ID='\n",
    "            browser.get(div_url+pos)\n",
    "            htmltext = browser.page_source\n",
    "            soup = bs4.BeautifulSoup(htmltext,'lxml')\n",
    "            \n",
    "            # search for title\n",
    "            pattern = r'\\((\\d+)\\) (\\w*) '\n",
    "            title_text = soup.title.text[:]\n",
    "            title_tuple = re.findall(pattern,title_text)[0]\n",
    "            dict_info = {}\n",
    "            \n",
    "            # 內容\n",
    "            contents = soup.select('#divDetail')[0].select('#row0')[0].select('td')\n",
    "            dict_info = {title:value.text for title, value in zip(text_all,contents)}\n",
    "            \n",
    "            # append ticker/name\n",
    "            dict_info['ticker'] = title_tuple[0]  # 'ticker' = '0050'\n",
    "            dict_info['name'] = title_tuple[1] # 'name' = '統一'\n",
    "            \n",
    "            list_dict_info.append(dict_info)\n",
    "            \n",
    "        except:\n",
    "            print(f'查尋 {pos} 時發生錯誤')\n",
    "        \n",
    "    \n",
    "    return list_dict_info"
   ]
  },
  {
   "cell_type": "code",
   "execution_count": 91,
   "metadata": {},
   "outputs": [
    {
     "data": {
      "text/plain": [
       "'2020'"
      ]
     },
     "execution_count": 91,
     "metadata": {},
     "output_type": "execute_result"
    }
   ],
   "source": [
    "list_dict_info[0]['股利發放年度']"
   ]
  },
  {
   "cell_type": "code",
   "execution_count": 129,
   "metadata": {
    "scrolled": true
   },
   "outputs": [
    {
     "name": "stdout",
     "output_type": "stream",
     "text": [
      "【2020】[0050/元大台灣50]　　　 股利合計 2.9； 除息交易日 2020/01/31\n",
      "【2020】[006208/富邦台50]　　 股利合計 0.48； 除息交易日 2020/07/21即將除息\n",
      "【2020】[00692/富邦公司治理]　　 股利合計 0.23； 除息交易日 2020/07/21即將除息\n",
      "【2020】[1216/統一]　　　　　　　 股利合計 2.5； 除息交易日 2020/08/06即將除息\n",
      "【2020】[1402/遠東新]　　　　　　 股利合計 1.5； 除息交易日 2020/07/27即將除息\n",
      "【2020】[2317/鴻海]　　　　　　　 股利合計 4.2； 除息交易日 2020/07/23即將除息\n",
      "【2020】[2832/台產]　　　　　　　 股利合計 1； 除息交易日 2020/06/12\n",
      "【2020】[2887/台新金]　　　　　　 股利合計 0.8； 除息交易日 \n",
      "【2020】[2888/新光金]　　　　　　 股利合計 0.4； 除息交易日 \n"
     ]
    }
   ],
   "source": [
    "for item in list_dict_info:\n",
    "    ticker_name = f\"[{item['ticker']}/{item['name']}]\"\n",
    "    ticker_name = ticker_name+ chr(12288)*(16-len(ticker_name))\n",
    "    item['除息交易日']= '20'+item['除息交易日'].replace(r\"'\",r'/') if item['除息交易日']!='' else item['除息交易日']\n",
    "    print(f\"【{item['股利發放年度']}】{ticker_name} 股利合計 {item['股利合計']}   除息交易日 {item['除息交易日']}\")"
   ]
  },
  {
   "cell_type": "code",
   "execution_count": 88,
   "metadata": {},
   "outputs": [
    {
     "data": {
      "text/plain": [
       "[{'股利發放年度': '2020',\n",
       "  '股利所屬盈餘期間': '2020全年',\n",
       "  '股東會日期': '',\n",
       "  '除息交易日': \"20'01/31\",\n",
       "  '除息參考價': '89.25',\n",
       "  '填息完成日': \"20'02/06\",\n",
       "  '填息花費日數': '5',\n",
       "  '現金股利發放日': '',\n",
       "  '除權交易日': '',\n",
       "  '除權參考價': '',\n",
       "  '填權完成日': '',\n",
       "  '填權花費日數': '',\n",
       "  '現金股利盈餘': '2.9',\n",
       "  '現金股利公積': '0',\n",
       "  '現金股利合計': '2.9',\n",
       "  '股票股利盈餘': '0',\n",
       "  '股票股利公積': '0',\n",
       "  '股票股利合計': '0',\n",
       "  '股利合計': '2.9',\n",
       "  'ticker': '0050',\n",
       "  'name': '元大台灣50'},\n",
       " {'股利發放年度': '2020',\n",
       "  '股利所屬盈餘期間': '2020全年',\n",
       "  '股東會日期': '',\n",
       "  '除息交易日': \"20'07/21即將除息\",\n",
       "  '除息參考價': '',\n",
       "  '填息完成日': '',\n",
       "  '填息花費日數': '',\n",
       "  '現金股利發放日': '',\n",
       "  '除權交易日': '',\n",
       "  '除權參考價': '',\n",
       "  '填權完成日': '',\n",
       "  '填權花費日數': '',\n",
       "  '現金股利盈餘': '0.48',\n",
       "  '現金股利公積': '0',\n",
       "  '現金股利合計': '0.48',\n",
       "  '股票股利盈餘': '0',\n",
       "  '股票股利公積': '0',\n",
       "  '股票股利合計': '0',\n",
       "  '股利合計': '0.48',\n",
       "  'ticker': '006208',\n",
       "  'name': '富邦台50'},\n",
       " {'股利發放年度': '2020',\n",
       "  '股利所屬盈餘期間': '2020全年',\n",
       "  '股東會日期': '',\n",
       "  '除息交易日': \"20'07/21即將除息\",\n",
       "  '除息參考價': '',\n",
       "  '填息完成日': '',\n",
       "  '填息花費日數': '',\n",
       "  '現金股利發放日': '',\n",
       "  '除權交易日': '',\n",
       "  '除權參考價': '',\n",
       "  '填權完成日': '',\n",
       "  '填權花費日數': '',\n",
       "  '現金股利盈餘': '0.23',\n",
       "  '現金股利公積': '0',\n",
       "  '現金股利合計': '0.23',\n",
       "  '股票股利盈餘': '0',\n",
       "  '股票股利公積': '0',\n",
       "  '股票股利合計': '0',\n",
       "  '股利合計': '0.23',\n",
       "  'ticker': '00692',\n",
       "  'name': '富邦公司治理'},\n",
       " {'股利發放年度': '2020',\n",
       "  '股利所屬盈餘期間': '2019全年',\n",
       "  '股東會日期': \"20'06/24\",\n",
       "  '除息交易日': \"20'08/06即將除息\",\n",
       "  '除息參考價': '',\n",
       "  '填息完成日': '',\n",
       "  '填息花費日數': '',\n",
       "  '現金股利發放日': \"20'09/11即將發放\",\n",
       "  '除權交易日': '',\n",
       "  '除權參考價': '',\n",
       "  '填權完成日': '',\n",
       "  '填權花費日數': '',\n",
       "  '現金股利盈餘': '2.5',\n",
       "  '現金股利公積': '0',\n",
       "  '現金股利合計': '2.5',\n",
       "  '股票股利盈餘': '0',\n",
       "  '股票股利公積': '0',\n",
       "  '股票股利合計': '0',\n",
       "  '股利合計': '2.5',\n",
       "  'ticker': '1216',\n",
       "  'name': '統一'},\n",
       " {'股利發放年度': '2020',\n",
       "  '股利所屬盈餘期間': '2019全年',\n",
       "  '股東會日期': \"20'06/30\",\n",
       "  '除息交易日': \"20'07/27即將除息\",\n",
       "  '除息參考價': '',\n",
       "  '填息完成日': '',\n",
       "  '填息花費日數': '',\n",
       "  '現金股利發放日': \"20'08/20即將發放\",\n",
       "  '除權交易日': '',\n",
       "  '除權參考價': '',\n",
       "  '填權完成日': '',\n",
       "  '填權花費日數': '',\n",
       "  '現金股利盈餘': '1.5',\n",
       "  '現金股利公積': '0',\n",
       "  '現金股利合計': '1.5',\n",
       "  '股票股利盈餘': '0',\n",
       "  '股票股利公積': '0',\n",
       "  '股票股利合計': '0',\n",
       "  '股利合計': '1.5',\n",
       "  'ticker': '1402',\n",
       "  'name': '遠東新'},\n",
       " {'股利發放年度': '2020',\n",
       "  '股利所屬盈餘期間': '2019全年',\n",
       "  '股東會日期': \"20'06/23\",\n",
       "  '除息交易日': \"20'07/23即將除息\",\n",
       "  '除息參考價': '',\n",
       "  '填息完成日': '',\n",
       "  '填息花費日數': '',\n",
       "  '現金股利發放日': \"20'08/21即將發放\",\n",
       "  '除權交易日': '',\n",
       "  '除權參考價': '',\n",
       "  '填權完成日': '',\n",
       "  '填權花費日數': '',\n",
       "  '現金股利盈餘': '4.2',\n",
       "  '現金股利公積': '0',\n",
       "  '現金股利合計': '4.2',\n",
       "  '股票股利盈餘': '0',\n",
       "  '股票股利公積': '0',\n",
       "  '股票股利合計': '0',\n",
       "  '股利合計': '4.2',\n",
       "  'ticker': '2317',\n",
       "  'name': '鴻海'},\n",
       " {'股利發放年度': '2020',\n",
       "  '股利所屬盈餘期間': '2019全年',\n",
       "  '股東會日期': '',\n",
       "  '除息交易日': \"20'06/12\",\n",
       "  '除息參考價': '19.5',\n",
       "  '填息完成日': '',\n",
       "  '填息花費日數': '',\n",
       "  '現金股利發放日': \"20'07/10\",\n",
       "  '除權交易日': '',\n",
       "  '除權參考價': '',\n",
       "  '填權完成日': '',\n",
       "  '填權花費日數': '',\n",
       "  '現金股利盈餘': '1',\n",
       "  '現金股利公積': '0',\n",
       "  '現金股利合計': '1',\n",
       "  '股票股利盈餘': '0',\n",
       "  '股票股利公積': '0',\n",
       "  '股票股利合計': '0',\n",
       "  '股利合計': '1',\n",
       "  'ticker': '2832',\n",
       "  'name': '台產'},\n",
       " {'股利發放年度': '2020',\n",
       "  '股利所屬盈餘期間': '2019全年',\n",
       "  '股東會日期': \"20'06/12\",\n",
       "  '除息交易日': '',\n",
       "  '除息參考價': '',\n",
       "  '填息完成日': '',\n",
       "  '填息花費日數': '',\n",
       "  '現金股利發放日': '',\n",
       "  '除權交易日': '',\n",
       "  '除權參考價': '',\n",
       "  '填權完成日': '',\n",
       "  '填權花費日數': '',\n",
       "  '現金股利盈餘': '0.57',\n",
       "  '現金股利公積': '0',\n",
       "  '現金股利合計': '0.57',\n",
       "  '股票股利盈餘': '0.23',\n",
       "  '股票股利公積': '0',\n",
       "  '股票股利合計': '0.23',\n",
       "  '股利合計': '0.8',\n",
       "  'ticker': '2887',\n",
       "  'name': '台新金'},\n",
       " {'股利發放年度': '2020',\n",
       "  '股利所屬盈餘期間': '2019全年',\n",
       "  '股東會日期': \"20'06/19\",\n",
       "  '除息交易日': '',\n",
       "  '除息參考價': '',\n",
       "  '填息完成日': '',\n",
       "  '填息花費日數': '',\n",
       "  '現金股利發放日': '',\n",
       "  '除權交易日': '',\n",
       "  '除權參考價': '',\n",
       "  '填權完成日': '',\n",
       "  '填權花費日數': '',\n",
       "  '現金股利盈餘': '0.4',\n",
       "  '現金股利公積': '0',\n",
       "  '現金股利合計': '0.4',\n",
       "  '股票股利盈餘': '0',\n",
       "  '股票股利公積': '0',\n",
       "  '股票股利合計': '0',\n",
       "  '股利合計': '0.4',\n",
       "  'ticker': '2888',\n",
       "  'name': '新光金'}]"
      ]
     },
     "execution_count": 88,
     "metadata": {},
     "output_type": "execute_result"
    }
   ],
   "source": [
    "list_dict_info"
   ]
  },
  {
   "cell_type": "code",
   "execution_count": 132,
   "metadata": {},
   "outputs": [],
   "source": [
    "positions = '0050,2330,2317,2454,3008,1310,2412,1303,2891,2882,1216'\n",
    "list_dict_info = get_div(positions)"
   ]
  },
  {
   "cell_type": "code",
   "execution_count": 133,
   "metadata": {},
   "outputs": [
    {
     "name": "stdout",
     "output_type": "stream",
     "text": [
      "【2020】[0050/元大台灣50]　　　 股利合計 2.9   除息交易日 2020/01/31\n",
      "【2020】[006208/富邦台50]　　 股利合計 0.48   除息交易日 2020/07/21即將除息\n",
      "【2020】[00692/富邦公司治理]　　 股利合計 0.23   除息交易日 2020/07/21即將除息\n",
      "【2020】[1216/統一]　　　　　　　 股利合計 2.5   除息交易日 2020/08/06即將除息\n",
      "【2020】[1402/遠東新]　　　　　　 股利合計 1.5   除息交易日 2020/07/27即將除息\n",
      "【2020】[2317/鴻海]　　　　　　　 股利合計 4.2   除息交易日 2020/07/23即將除息\n",
      "【2020】[2832/台產]　　　　　　　 股利合計 1   除息交易日 2020/06/12\n",
      "【2020】[2887/台新金]　　　　　　 股利合計 0.8   除息交易日 \n",
      "【2020】[2888/新光金]　　　　　　 股利合計 0.4   除息交易日 \n"
     ]
    }
   ],
   "source": [
    "for item in list_dict_info:\n",
    "    ticker_name = f\"[{item['ticker']}/{item['name']}]\"\n",
    "    ticker_name = ticker_name+ chr(12288)*(16-len(ticker_name))\n",
    "    item['除息交易日']= '20'+item['除息交易日'].replace(r\"'\",r'/') if item['除息交易日']!='' else item['除息交易日']\n",
    "    print(f\"【{item['股利發放年度']}】{ticker_name} 股利合計 {item['股利合計']}   除息交易日 {item['除息交易日']}\")"
   ]
  },
  {
   "cell_type": "code",
   "execution_count": 69,
   "metadata": {},
   "outputs": [
    {
     "data": {
      "text/plain": [
       "[('1216', '統一')]"
      ]
     },
     "execution_count": 69,
     "metadata": {},
     "output_type": "execute_result"
    }
   ],
   "source": [
    "title_tuple"
   ]
  },
  {
   "cell_type": "code",
   "execution_count": null,
   "metadata": {},
   "outputs": [],
   "source": [
    "#positions = '0050,006208,00692,1216,1402,2317,2823,2887,2888'"
   ]
  },
  {
   "cell_type": "code",
   "execution_count": 70,
   "metadata": {},
   "outputs": [],
   "source": [
    "pattern = r'\\((\\d+)\\) (\\w*) '\n",
    "title_text = soup.title.text[:]\n",
    "title_tuple = re.findall(pattern,title_text)[0]\n",
    "dict_info['']=title_tuple[1]"
   ]
  },
  {
   "cell_type": "code",
   "execution_count": 51,
   "metadata": {},
   "outputs": [],
   "source": []
  },
  {
   "cell_type": "code",
   "execution_count": 42,
   "metadata": {},
   "outputs": [
    {
     "data": {
      "text/plain": [
       "19"
      ]
     },
     "execution_count": 42,
     "metadata": {},
     "output_type": "execute_result"
    }
   ],
   "source": [
    "contents = soup.select('#divDetail')[0].select('#row0')[0].select('td')\n",
    "len(contents)"
   ]
  },
  {
   "cell_type": "code",
   "execution_count": 66,
   "metadata": {},
   "outputs": [],
   "source": [
    "dict_info = {title:value.text for title, value in zip(text_all,contents)}"
   ]
  },
  {
   "cell_type": "code",
   "execution_count": 71,
   "metadata": {},
   "outputs": [
    {
     "data": {
      "text/plain": [
       "{'股利發放年度': '2020',\n",
       " '股利所屬盈餘期間': '2019全年',\n",
       " '股東會日期': \"20'06/24\",\n",
       " '除息交易日': \"20'08/06即將除息\",\n",
       " '除息參考價': '',\n",
       " '填息完成日': '',\n",
       " '填息花費日數': '',\n",
       " '現金股利發放日': \"20'09/11即將發放\",\n",
       " '除權交易日': '',\n",
       " '除權參考價': '',\n",
       " '填權完成日': '',\n",
       " '填權花費日數': '',\n",
       " '現金股利盈餘': '2.5',\n",
       " '現金股利公積': '0',\n",
       " '現金股利合計': '2.5',\n",
       " '股票股利盈餘': '0',\n",
       " '股票股利公積': '0',\n",
       " '股票股利合計': '0',\n",
       " '股利合計': '2.5',\n",
       " '股票名稱': '統一'}"
      ]
     },
     "execution_count": 71,
     "metadata": {},
     "output_type": "execute_result"
    }
   ],
   "source": [
    "dict_info"
   ]
  },
  {
   "cell_type": "code",
   "execution_count": 40,
   "metadata": {},
   "outputs": [],
   "source": [
    "text_all =[\n",
    "\"股利發放年度\",\n",
    "\"股利所屬盈餘期間\",\n",
    "\"股東會日期\",\n",
    "\"除息交易日\",  # 除息日程\n",
    "\"除息參考價\", \n",
    "\"填息完成日\", \n",
    "\"填息花費日數\", \n",
    "\"現金股利發放日\", \n",
    "\"除權交易日\", # 除權日程\n",
    "\"除權參考價\", \n",
    "\"填權完成日\", \n",
    "\"填權花費日數\", \n",
    "\"現金股利盈餘\",\n",
    "\"現金股利公積\",\n",
    "\"現金股利合計\",\n",
    "\"股票股利盈餘\",\n",
    "'股票股利公積',\n",
    "\"股票股利合計\",\n",
    "\"股利合計\"]"
   ]
  },
  {
   "cell_type": "code",
   "execution_count": 41,
   "metadata": {},
   "outputs": [
    {
     "data": {
      "text/plain": [
       "19"
      ]
     },
     "execution_count": 41,
     "metadata": {},
     "output_type": "execute_result"
    }
   ],
   "source": [
    "len(text_all)"
   ]
  },
  {
   "cell_type": "code",
   "execution_count": 36,
   "metadata": {},
   "outputs": [
    {
     "name": "stdout",
     "output_type": "stream",
     "text": [
      "股利發放年度\n",
      "股利所屬盈餘期間\n",
      "股東會日期\n",
      "除息日程\n",
      "除權日程\n",
      "股東股利 (元/股)\n",
      "除息交易日\n",
      "除息參考價\n",
      "填息完成日\n",
      "填息花費日數\n",
      "現金股利發放日\n",
      "除權交易日\n",
      "除權參考價\n",
      "填權完成日\n",
      "填權花費日數\n",
      "現金股利\n",
      "股票股利\n",
      "股利合計\n",
      "盈餘\n",
      "公積\n",
      "合計\n",
      "盈餘\n",
      "公積\n",
      "合計\n"
     ]
    }
   ],
   "source": [
    "title_text = soup.select('#divDetail')[0].select('thead')[0].select('td')\n",
    "for item in title_text:\n",
    "    print(item.text)"
   ]
  },
  {
   "cell_type": "code",
   "execution_count": null,
   "metadata": {},
   "outputs": [],
   "source": []
  }
 ],
 "metadata": {
  "kernelspec": {
   "display_name": "Python 3",
   "language": "python",
   "name": "python3"
  },
  "language_info": {
   "codemirror_mode": {
    "name": "ipython",
    "version": 3
   },
   "file_extension": ".py",
   "mimetype": "text/x-python",
   "name": "python",
   "nbconvert_exporter": "python",
   "pygments_lexer": "ipython3",
   "version": "3.7.4"
  }
 },
 "nbformat": 4,
 "nbformat_minor": 4
}
