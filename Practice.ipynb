{
 "cells": [
  {
   "cell_type": "code",
   "execution_count": 13,
   "metadata": {},
   "outputs": [],
   "source": [
    "import antigravity"
   ]
  },
  {
   "cell_type": "code",
   "execution_count": 12,
   "metadata": {},
   "outputs": [],
   "source": [
    "a:int = 'st'"
   ]
  },
  {
   "cell_type": "code",
   "execution_count": 13,
   "metadata": {},
   "outputs": [
    {
     "data": {
      "text/plain": [
       "'st'"
      ]
     },
     "execution_count": 13,
     "metadata": {},
     "output_type": "execute_result"
    }
   ],
   "source": [
    "a"
   ]
  },
  {
   "cell_type": "code",
   "execution_count": 11,
   "metadata": {},
   "outputs": [
    {
     "data": {
      "text/plain": [
       "'1'"
      ]
     },
     "execution_count": 11,
     "metadata": {},
     "output_type": "execute_result"
    }
   ],
   "source": [
    "def return_str(x:int):\n",
    "    return str(x)\n",
    "\n",
    "return_str('1')"
   ]
  },
  {
   "cell_type": "code",
   "execution_count": 38,
   "metadata": {},
   "outputs": [],
   "source": [
    "def double_text_double_sep(*args,**kwargs):\n",
    "    # modifying args\n",
    "    texts = []\n",
    "    for arg in args:\n",
    "        texts.append(arg)\n",
    "        texts.append(arg)\n",
    "    for key, value in kwargs.items():\n",
    "        kwargs[key]=value+value\n",
    "    return print(*texts, **kwargs)"
   ]
  },
  {
   "cell_type": "code",
   "execution_count": 41,
   "metadata": {},
   "outputs": [
    {
     "name": "stdout",
     "output_type": "stream",
     "text": [
      "a--a--b--b--c--c\n"
     ]
    }
   ],
   "source": [
    "double_text_double_sep('a','b','c',sep='-')"
   ]
  },
  {
   "cell_type": "code",
   "execution_count": 3,
   "metadata": {},
   "outputs": [
    {
     "data": {
      "text/plain": [
       "[1, 2, 3]"
      ]
     },
     "execution_count": 3,
     "metadata": {},
     "output_type": "execute_result"
    }
   ],
   "source": [
    "def modify_list(the_list):\n",
    "    the_list = the_list + ['.']\n",
    "    return\n",
    "\n",
    "modified_list = [1,2,3]\n",
    "\n",
    "modify_list(modified_list)\n",
    "modified_list"
   ]
  },
  {
   "cell_type": "code",
   "execution_count": 4,
   "metadata": {},
   "outputs": [
    {
     "data": {
      "text/plain": [
       "[1, 2, 3, '.']"
      ]
     },
     "execution_count": 4,
     "metadata": {},
     "output_type": "execute_result"
    }
   ],
   "source": [
    "def modify_list(the_list):\n",
    "    the_list.append('.')\n",
    "    return\n",
    "\n",
    "modified_list = [1,2,3]\n",
    "\n",
    "modify_list(modified_list)\n",
    "modified_list"
   ]
  },
  {
   "cell_type": "code",
   "execution_count": 99,
   "metadata": {},
   "outputs": [],
   "source": [
    "from collections import Counter\n",
    "c = Counter('The default factory is called without arguments to produce')\n",
    "del c['T']"
   ]
  },
  {
   "cell_type": "code",
   "execution_count": 100,
   "metadata": {},
   "outputs": [
    {
     "data": {
      "text/plain": [
       "Counter({'h': 2,\n",
       "         'e': 5,\n",
       "         ' ': 8,\n",
       "         'd': 3,\n",
       "         'f': 2,\n",
       "         'a': 4,\n",
       "         'u': 4,\n",
       "         'l': 3,\n",
       "         't': 6,\n",
       "         'c': 3,\n",
       "         'o': 4,\n",
       "         'r': 3,\n",
       "         'y': 1,\n",
       "         'i': 2,\n",
       "         's': 2,\n",
       "         'w': 1,\n",
       "         'g': 1,\n",
       "         'm': 1,\n",
       "         'n': 1,\n",
       "         'p': 1})"
      ]
     },
     "execution_count": 100,
     "metadata": {},
     "output_type": "execute_result"
    }
   ],
   "source": [
    "c"
   ]
  },
  {
   "cell_type": "code",
   "execution_count": 33,
   "metadata": {},
   "outputs": [
    {
     "data": {
      "text/plain": [
       "[PosixPath('/Users/yukuo/.EasyOCR/model'),\n",
       " PosixPath('/Users/yukuo/.Trash/.DS_Store'),\n",
       " PosixPath('/Users/yukuo/.Trash/.DS_Store 00-33-41-542'),\n",
       " PosixPath('/Users/yukuo/.Trash/16.mp4'),\n",
       " PosixPath('/Users/yukuo/.Trash/DCM-20210210T020603Z-001.zip'),\n",
       " PosixPath('/Users/yukuo/.Trash/ID1.jpg'),\n",
       " PosixPath('/Users/yukuo/.Trash/ID2.jpg'),\n",
       " PosixPath('/Users/yukuo/.Trash/IMG_7530.jpg'),\n",
       " PosixPath('/Users/yukuo/.Trash/JPG-20210210T023618Z-001.zip'),\n",
       " PosixPath('/Users/yukuo/.Trash/Mark Myers - A Smarter Way to Learn JavaScript_ The new approach that uses technology to cut your effort in half-CreateSpace Independent Publishing Platform (2014).pdf'),\n",
       " PosixPath('/Users/yukuo/.Trash/QPS.png'),\n",
       " PosixPath('/Users/yukuo/.Trash/advanced_exercise_3.zip'),\n",
       " PosixPath('/Users/yukuo/.Trash/ffmpeg'),\n",
       " PosixPath('/Users/yukuo/.Trash/ffmpeg 01-39-07-614'),\n",
       " PosixPath('/Users/yukuo/.Trash/ffmpeg 2'),\n",
       " PosixPath('/Users/yukuo/.Trash/ffmpeg-100993-g8e0a4d2d4d.7z'),\n",
       " PosixPath('/Users/yukuo/.Trash/ffmpeg-snapshot.tar.bz2'),\n",
       " PosixPath('/Users/yukuo/.Trash/img_out.png'),\n",
       " PosixPath('/Users/yukuo/.Trash/img_out2.png'),\n",
       " PosixPath('/Users/yukuo/.Trash/to_zip2'),\n",
       " PosixPath('/Users/yukuo/.Trash/to_zip2 2.12.48 AM'),\n",
       " PosixPath('/Users/yukuo/.Trash/untitled folder'),\n",
       " PosixPath('/Users/yukuo/.Trash/【合集】史嘉琳博士｜英语语音学｜美语｜口语发音 (P1. 1 史嘉琳博士｜英语语音学｜美语｜口语发音).flv.download'),\n",
       " PosixPath('/Users/yukuo/.Trash/【合集】史嘉琳博士｜英语语音学｜美语｜口语发音 (P16. 16 史嘉琳博士｜英语语音学｜美语｜口语发音).cmt.xml'),\n",
       " PosixPath('/Users/yukuo/.anaconda/navigator'),\n",
       " PosixPath('/Users/yukuo/.bash_sessions/00FE73C6-F615-44E8-8D73-037573821612.history'),\n",
       " PosixPath('/Users/yukuo/.bash_sessions/00FE73C6-F615-44E8-8D73-037573821612.historynew'),\n",
       " PosixPath('/Users/yukuo/.bash_sessions/00FE73C6-F615-44E8-8D73-037573821612.session'),\n",
       " PosixPath('/Users/yukuo/.bash_sessions/062C6D61-4BC9-46B0-BD81-60666337A18A.history'),\n",
       " PosixPath('/Users/yukuo/.bash_sessions/062C6D61-4BC9-46B0-BD81-60666337A18A.historynew'),\n",
       " PosixPath('/Users/yukuo/.bash_sessions/062C6D61-4BC9-46B0-BD81-60666337A18A.session'),\n",
       " PosixPath('/Users/yukuo/.bash_sessions/0AAE79B8-A8B1-4A85-9107-E1C31BFF9F75.history'),\n",
       " PosixPath('/Users/yukuo/.bash_sessions/0AAE79B8-A8B1-4A85-9107-E1C31BFF9F75.historynew'),\n",
       " PosixPath('/Users/yukuo/.bash_sessions/0AAE79B8-A8B1-4A85-9107-E1C31BFF9F75.session'),\n",
       " PosixPath('/Users/yukuo/.bash_sessions/0B18085D-14CB-4E7C-A0CF-3452335AE0E6.history'),\n",
       " PosixPath('/Users/yukuo/.bash_sessions/0B18085D-14CB-4E7C-A0CF-3452335AE0E6.historynew'),\n",
       " PosixPath('/Users/yukuo/.bash_sessions/0B18085D-14CB-4E7C-A0CF-3452335AE0E6.session'),\n",
       " PosixPath('/Users/yukuo/.bash_sessions/0D370ACC-7346-4D04-9EAE-BEE05D20DC40.history'),\n",
       " PosixPath('/Users/yukuo/.bash_sessions/0D370ACC-7346-4D04-9EAE-BEE05D20DC40.historynew'),\n",
       " PosixPath('/Users/yukuo/.bash_sessions/0D370ACC-7346-4D04-9EAE-BEE05D20DC40.session'),\n",
       " PosixPath('/Users/yukuo/.bash_sessions/1227A03B-9DF8-4C0C-A084-6869E3869F01.history'),\n",
       " PosixPath('/Users/yukuo/.bash_sessions/1227A03B-9DF8-4C0C-A084-6869E3869F01.historynew'),\n",
       " PosixPath('/Users/yukuo/.bash_sessions/1227A03B-9DF8-4C0C-A084-6869E3869F01.session'),\n",
       " PosixPath('/Users/yukuo/.bash_sessions/14BE0B0F-1049-4413-AA30-D82C2DCF2A21.history'),\n",
       " PosixPath('/Users/yukuo/.bash_sessions/14BE0B0F-1049-4413-AA30-D82C2DCF2A21.historynew'),\n",
       " PosixPath('/Users/yukuo/.bash_sessions/14BE0B0F-1049-4413-AA30-D82C2DCF2A21.session'),\n",
       " PosixPath('/Users/yukuo/.bash_sessions/15A71F4E-0033-4A6B-8CC4-219DD2559E2E.history'),\n",
       " PosixPath('/Users/yukuo/.bash_sessions/15A71F4E-0033-4A6B-8CC4-219DD2559E2E.historynew'),\n",
       " PosixPath('/Users/yukuo/.bash_sessions/15A71F4E-0033-4A6B-8CC4-219DD2559E2E.session'),\n",
       " PosixPath('/Users/yukuo/.bash_sessions/1FA2F111-A8BE-48A2-B1F4-C5F527C6B45F.historynew'),\n",
       " PosixPath('/Users/yukuo/.bash_sessions/1FE29124-F579-4CED-B260-F2F6316498CE.history'),\n",
       " PosixPath('/Users/yukuo/.bash_sessions/1FE29124-F579-4CED-B260-F2F6316498CE.historynew'),\n",
       " PosixPath('/Users/yukuo/.bash_sessions/1FE29124-F579-4CED-B260-F2F6316498CE.session'),\n",
       " PosixPath('/Users/yukuo/.bash_sessions/205DEF29-D5B8-47FB-8B9F-42B93B43F427.history'),\n",
       " PosixPath('/Users/yukuo/.bash_sessions/205DEF29-D5B8-47FB-8B9F-42B93B43F427.historynew'),\n",
       " PosixPath('/Users/yukuo/.bash_sessions/205DEF29-D5B8-47FB-8B9F-42B93B43F427.session'),\n",
       " PosixPath('/Users/yukuo/.bash_sessions/26A788AE-0868-4CCE-B62E-482F196FE44D.history'),\n",
       " PosixPath('/Users/yukuo/.bash_sessions/26A788AE-0868-4CCE-B62E-482F196FE44D.historynew'),\n",
       " PosixPath('/Users/yukuo/.bash_sessions/26A788AE-0868-4CCE-B62E-482F196FE44D.session'),\n",
       " PosixPath('/Users/yukuo/.bash_sessions/2DD2A409-CB52-436B-81CF-C704F7E65857.history'),\n",
       " PosixPath('/Users/yukuo/.bash_sessions/2DD2A409-CB52-436B-81CF-C704F7E65857.historynew'),\n",
       " PosixPath('/Users/yukuo/.bash_sessions/2DD2A409-CB52-436B-81CF-C704F7E65857.session'),\n",
       " PosixPath('/Users/yukuo/.bash_sessions/2EE2A400-901A-4078-A14C-988A9438B2CE.history'),\n",
       " PosixPath('/Users/yukuo/.bash_sessions/2EE2A400-901A-4078-A14C-988A9438B2CE.historynew'),\n",
       " PosixPath('/Users/yukuo/.bash_sessions/2EE2A400-901A-4078-A14C-988A9438B2CE.session'),\n",
       " PosixPath('/Users/yukuo/.bash_sessions/313E0462-EACA-4D70-92C7-5691D72A53B6.history'),\n",
       " PosixPath('/Users/yukuo/.bash_sessions/313E0462-EACA-4D70-92C7-5691D72A53B6.historynew'),\n",
       " PosixPath('/Users/yukuo/.bash_sessions/313E0462-EACA-4D70-92C7-5691D72A53B6.session'),\n",
       " PosixPath('/Users/yukuo/.bash_sessions/325A38FF-0DB0-482E-A85E-7FBA1CDD3A92.history'),\n",
       " PosixPath('/Users/yukuo/.bash_sessions/325A38FF-0DB0-482E-A85E-7FBA1CDD3A92.historynew'),\n",
       " PosixPath('/Users/yukuo/.bash_sessions/325A38FF-0DB0-482E-A85E-7FBA1CDD3A92.session'),\n",
       " PosixPath('/Users/yukuo/.bash_sessions/36632517-9D25-4700-AA89-20AD67A253AA.history'),\n",
       " PosixPath('/Users/yukuo/.bash_sessions/36632517-9D25-4700-AA89-20AD67A253AA.historynew'),\n",
       " PosixPath('/Users/yukuo/.bash_sessions/36632517-9D25-4700-AA89-20AD67A253AA.session'),\n",
       " PosixPath('/Users/yukuo/.bash_sessions/375F2767-AFD2-4983-8BD7-38A5600FA497.history'),\n",
       " PosixPath('/Users/yukuo/.bash_sessions/375F2767-AFD2-4983-8BD7-38A5600FA497.historynew'),\n",
       " PosixPath('/Users/yukuo/.bash_sessions/375F2767-AFD2-4983-8BD7-38A5600FA497.session'),\n",
       " PosixPath('/Users/yukuo/.bash_sessions/39420281-ECE5-45C1-99E3-9B99A89435E2.history'),\n",
       " PosixPath('/Users/yukuo/.bash_sessions/39420281-ECE5-45C1-99E3-9B99A89435E2.historynew'),\n",
       " PosixPath('/Users/yukuo/.bash_sessions/39420281-ECE5-45C1-99E3-9B99A89435E2.session'),\n",
       " PosixPath('/Users/yukuo/.bash_sessions/3C934D89-5712-44E1-A621-7F2E8FEA350F.history'),\n",
       " PosixPath('/Users/yukuo/.bash_sessions/3C934D89-5712-44E1-A621-7F2E8FEA350F.historynew'),\n",
       " PosixPath('/Users/yukuo/.bash_sessions/3C934D89-5712-44E1-A621-7F2E8FEA350F.session'),\n",
       " PosixPath('/Users/yukuo/.bash_sessions/3FF5B394-A7E4-4509-B530-9B80F5FF00DA.history'),\n",
       " PosixPath('/Users/yukuo/.bash_sessions/3FF5B394-A7E4-4509-B530-9B80F5FF00DA.historynew'),\n",
       " PosixPath('/Users/yukuo/.bash_sessions/3FF5B394-A7E4-4509-B530-9B80F5FF00DA.session'),\n",
       " PosixPath('/Users/yukuo/.bash_sessions/41606B6D-46AC-4B87-80DF-82E9B00343BB.history'),\n",
       " PosixPath('/Users/yukuo/.bash_sessions/41606B6D-46AC-4B87-80DF-82E9B00343BB.historynew'),\n",
       " PosixPath('/Users/yukuo/.bash_sessions/41606B6D-46AC-4B87-80DF-82E9B00343BB.session'),\n",
       " PosixPath('/Users/yukuo/.bash_sessions/438DDEEB-53BE-46D4-923B-86E5BAE57F06.history'),\n",
       " PosixPath('/Users/yukuo/.bash_sessions/438DDEEB-53BE-46D4-923B-86E5BAE57F06.historynew'),\n",
       " PosixPath('/Users/yukuo/.bash_sessions/438DDEEB-53BE-46D4-923B-86E5BAE57F06.session'),\n",
       " PosixPath('/Users/yukuo/.bash_sessions/47B977DC-7CB8-41AC-9E89-EA4A208599EE.historynew'),\n",
       " PosixPath('/Users/yukuo/.bash_sessions/4B177389-494A-4871-8154-6DBD9DA4B72E.history'),\n",
       " PosixPath('/Users/yukuo/.bash_sessions/4B177389-494A-4871-8154-6DBD9DA4B72E.historynew'),\n",
       " PosixPath('/Users/yukuo/.bash_sessions/4B177389-494A-4871-8154-6DBD9DA4B72E.session'),\n",
       " PosixPath('/Users/yukuo/.bash_sessions/4C3C6DC7-6550-439F-A930-A8BB7B650CCD.history'),\n",
       " PosixPath('/Users/yukuo/.bash_sessions/4C3C6DC7-6550-439F-A930-A8BB7B650CCD.historynew'),\n",
       " PosixPath('/Users/yukuo/.bash_sessions/4C3C6DC7-6550-439F-A930-A8BB7B650CCD.session'),\n",
       " PosixPath('/Users/yukuo/.bash_sessions/4FB805E6-1F4B-4A6A-9353-EC4A80605209.history'),\n",
       " PosixPath('/Users/yukuo/.bash_sessions/4FB805E6-1F4B-4A6A-9353-EC4A80605209.historynew'),\n",
       " PosixPath('/Users/yukuo/.bash_sessions/4FB805E6-1F4B-4A6A-9353-EC4A80605209.session'),\n",
       " PosixPath('/Users/yukuo/.bash_sessions/5798FC93-7122-4BC3-9110-BE9066F3AB3A.history'),\n",
       " PosixPath('/Users/yukuo/.bash_sessions/5798FC93-7122-4BC3-9110-BE9066F3AB3A.historynew'),\n",
       " PosixPath('/Users/yukuo/.bash_sessions/5798FC93-7122-4BC3-9110-BE9066F3AB3A.session'),\n",
       " PosixPath('/Users/yukuo/.bash_sessions/5AA79D9F-EB7C-49D6-93EA-B83F7C94BFF5.history'),\n",
       " PosixPath('/Users/yukuo/.bash_sessions/5AA79D9F-EB7C-49D6-93EA-B83F7C94BFF5.historynew'),\n",
       " PosixPath('/Users/yukuo/.bash_sessions/5AA79D9F-EB7C-49D6-93EA-B83F7C94BFF5.session'),\n",
       " PosixPath('/Users/yukuo/.bash_sessions/5D86FCA7-61C2-4303-A87E-91F4CF230283.history'),\n",
       " PosixPath('/Users/yukuo/.bash_sessions/5D86FCA7-61C2-4303-A87E-91F4CF230283.historynew'),\n",
       " PosixPath('/Users/yukuo/.bash_sessions/5D86FCA7-61C2-4303-A87E-91F4CF230283.session'),\n",
       " PosixPath('/Users/yukuo/.bash_sessions/5F39DF4C-64BA-46DE-A34F-B03013BF45DE.historynew'),\n",
       " PosixPath('/Users/yukuo/.bash_sessions/5FB8B655-B066-4638-94BA-C289FF778C01.history'),\n",
       " PosixPath('/Users/yukuo/.bash_sessions/5FB8B655-B066-4638-94BA-C289FF778C01.historynew'),\n",
       " PosixPath('/Users/yukuo/.bash_sessions/5FB8B655-B066-4638-94BA-C289FF778C01.session'),\n",
       " PosixPath('/Users/yukuo/.bash_sessions/65AE2738-889A-404B-9158-D60A9F30203E.history'),\n",
       " PosixPath('/Users/yukuo/.bash_sessions/65AE2738-889A-404B-9158-D60A9F30203E.historynew'),\n",
       " PosixPath('/Users/yukuo/.bash_sessions/65AE2738-889A-404B-9158-D60A9F30203E.session'),\n",
       " PosixPath('/Users/yukuo/.bash_sessions/66BF7318-1A2C-4D48-993B-207A8659C03B.history'),\n",
       " PosixPath('/Users/yukuo/.bash_sessions/66BF7318-1A2C-4D48-993B-207A8659C03B.historynew'),\n",
       " PosixPath('/Users/yukuo/.bash_sessions/66BF7318-1A2C-4D48-993B-207A8659C03B.session'),\n",
       " PosixPath('/Users/yukuo/.bash_sessions/674F0A23-2F72-4CD3-AE8E-EF5AB49FBFB0.history'),\n",
       " PosixPath('/Users/yukuo/.bash_sessions/674F0A23-2F72-4CD3-AE8E-EF5AB49FBFB0.historynew'),\n",
       " PosixPath('/Users/yukuo/.bash_sessions/674F0A23-2F72-4CD3-AE8E-EF5AB49FBFB0.session'),\n",
       " PosixPath('/Users/yukuo/.bash_sessions/7034979F-545A-4259-B8D3-C13D6BC24B54.history'),\n",
       " PosixPath('/Users/yukuo/.bash_sessions/7034979F-545A-4259-B8D3-C13D6BC24B54.historynew'),\n",
       " PosixPath('/Users/yukuo/.bash_sessions/7034979F-545A-4259-B8D3-C13D6BC24B54.session'),\n",
       " PosixPath('/Users/yukuo/.bash_sessions/71AA07E7-9FA0-48A8-A754-494AE6DAF92E.historynew'),\n",
       " PosixPath('/Users/yukuo/.bash_sessions/743F9826-8E6F-4043-B0C7-241302F21C53.history'),\n",
       " PosixPath('/Users/yukuo/.bash_sessions/743F9826-8E6F-4043-B0C7-241302F21C53.historynew'),\n",
       " PosixPath('/Users/yukuo/.bash_sessions/743F9826-8E6F-4043-B0C7-241302F21C53.session'),\n",
       " PosixPath('/Users/yukuo/.bash_sessions/77EE2F51-60BE-4708-BD59-50D4D8F97A59.history'),\n",
       " PosixPath('/Users/yukuo/.bash_sessions/77EE2F51-60BE-4708-BD59-50D4D8F97A59.historynew'),\n",
       " PosixPath('/Users/yukuo/.bash_sessions/77EE2F51-60BE-4708-BD59-50D4D8F97A59.session'),\n",
       " PosixPath('/Users/yukuo/.bash_sessions/79205D60-8615-4D95-9206-B5C3DCF49A98.history'),\n",
       " PosixPath('/Users/yukuo/.bash_sessions/79205D60-8615-4D95-9206-B5C3DCF49A98.historynew'),\n",
       " PosixPath('/Users/yukuo/.bash_sessions/79205D60-8615-4D95-9206-B5C3DCF49A98.session'),\n",
       " PosixPath('/Users/yukuo/.bash_sessions/79FDF19B-682B-4B51-9D11-58081B753BD3.history'),\n",
       " PosixPath('/Users/yukuo/.bash_sessions/79FDF19B-682B-4B51-9D11-58081B753BD3.historynew'),\n",
       " PosixPath('/Users/yukuo/.bash_sessions/79FDF19B-682B-4B51-9D11-58081B753BD3.session'),\n",
       " PosixPath('/Users/yukuo/.bash_sessions/7BDB5896-1292-4155-8EE4-15D3AE985898.history'),\n",
       " PosixPath('/Users/yukuo/.bash_sessions/7BDB5896-1292-4155-8EE4-15D3AE985898.historynew'),\n",
       " PosixPath('/Users/yukuo/.bash_sessions/7BDB5896-1292-4155-8EE4-15D3AE985898.session'),\n",
       " PosixPath('/Users/yukuo/.bash_sessions/7BE83F40-5594-4F94-A6B2-F6D358D78F16.history'),\n",
       " PosixPath('/Users/yukuo/.bash_sessions/7BE83F40-5594-4F94-A6B2-F6D358D78F16.historynew'),\n",
       " PosixPath('/Users/yukuo/.bash_sessions/7BE83F40-5594-4F94-A6B2-F6D358D78F16.session'),\n",
       " PosixPath('/Users/yukuo/.bash_sessions/7E032F40-9277-4E19-BFF4-8B96274E349E.history'),\n",
       " PosixPath('/Users/yukuo/.bash_sessions/7E032F40-9277-4E19-BFF4-8B96274E349E.historynew'),\n",
       " PosixPath('/Users/yukuo/.bash_sessions/7E032F40-9277-4E19-BFF4-8B96274E349E.session'),\n",
       " PosixPath('/Users/yukuo/.bash_sessions/80709699-C8D8-4692-80FA-0895205B77D2.history'),\n",
       " PosixPath('/Users/yukuo/.bash_sessions/80709699-C8D8-4692-80FA-0895205B77D2.historynew'),\n",
       " PosixPath('/Users/yukuo/.bash_sessions/80709699-C8D8-4692-80FA-0895205B77D2.session'),\n",
       " PosixPath('/Users/yukuo/.bash_sessions/85D0ACBF-435E-4D9C-9FCA-6B3752B9723A.history'),\n",
       " PosixPath('/Users/yukuo/.bash_sessions/85D0ACBF-435E-4D9C-9FCA-6B3752B9723A.historynew'),\n",
       " PosixPath('/Users/yukuo/.bash_sessions/85D0ACBF-435E-4D9C-9FCA-6B3752B9723A.session'),\n",
       " PosixPath('/Users/yukuo/.bash_sessions/860A5B94-1134-4E2C-8D46-E4C205F8B962.history'),\n",
       " PosixPath('/Users/yukuo/.bash_sessions/860A5B94-1134-4E2C-8D46-E4C205F8B962.historynew'),\n",
       " PosixPath('/Users/yukuo/.bash_sessions/860A5B94-1134-4E2C-8D46-E4C205F8B962.session'),\n",
       " PosixPath('/Users/yukuo/.bash_sessions/8800204C-519C-41C5-97E7-6A7E515F26F6.history'),\n",
       " PosixPath('/Users/yukuo/.bash_sessions/8800204C-519C-41C5-97E7-6A7E515F26F6.historynew'),\n",
       " PosixPath('/Users/yukuo/.bash_sessions/8800204C-519C-41C5-97E7-6A7E515F26F6.session'),\n",
       " PosixPath('/Users/yukuo/.bash_sessions/8AE193AC-854E-4988-B9D8-607E81E593F4.history'),\n",
       " PosixPath('/Users/yukuo/.bash_sessions/8AE193AC-854E-4988-B9D8-607E81E593F4.historynew'),\n",
       " PosixPath('/Users/yukuo/.bash_sessions/8AE193AC-854E-4988-B9D8-607E81E593F4.session'),\n",
       " PosixPath('/Users/yukuo/.bash_sessions/8B64A3CF-5D9F-49D0-8C3F-A64CCF85B0C0.history'),\n",
       " PosixPath('/Users/yukuo/.bash_sessions/8B64A3CF-5D9F-49D0-8C3F-A64CCF85B0C0.historynew'),\n",
       " PosixPath('/Users/yukuo/.bash_sessions/8B64A3CF-5D9F-49D0-8C3F-A64CCF85B0C0.session'),\n",
       " PosixPath('/Users/yukuo/.bash_sessions/8B6864CF-B6C0-4B00-9B79-3BC87B1CE4EB.history'),\n",
       " PosixPath('/Users/yukuo/.bash_sessions/8B6864CF-B6C0-4B00-9B79-3BC87B1CE4EB.historynew'),\n",
       " PosixPath('/Users/yukuo/.bash_sessions/8B6864CF-B6C0-4B00-9B79-3BC87B1CE4EB.session'),\n",
       " PosixPath('/Users/yukuo/.bash_sessions/9186D46D-8BBE-4249-B5D1-EE01B051CAA3.history'),\n",
       " PosixPath('/Users/yukuo/.bash_sessions/9186D46D-8BBE-4249-B5D1-EE01B051CAA3.historynew'),\n",
       " PosixPath('/Users/yukuo/.bash_sessions/9186D46D-8BBE-4249-B5D1-EE01B051CAA3.session'),\n",
       " PosixPath('/Users/yukuo/.bash_sessions/9419ED24-A11A-42CF-B6D3-C189A9406E09.history'),\n",
       " PosixPath('/Users/yukuo/.bash_sessions/9419ED24-A11A-42CF-B6D3-C189A9406E09.historynew'),\n",
       " PosixPath('/Users/yukuo/.bash_sessions/9419ED24-A11A-42CF-B6D3-C189A9406E09.session'),\n",
       " PosixPath('/Users/yukuo/.bash_sessions/997B4C21-9492-4708-B310-5B65F7E3E67E.history'),\n",
       " PosixPath('/Users/yukuo/.bash_sessions/997B4C21-9492-4708-B310-5B65F7E3E67E.historynew'),\n",
       " PosixPath('/Users/yukuo/.bash_sessions/997B4C21-9492-4708-B310-5B65F7E3E67E.session'),\n",
       " PosixPath('/Users/yukuo/.bash_sessions/9AA61380-A4F6-482F-B6E9-479E6783163F.history'),\n",
       " PosixPath('/Users/yukuo/.bash_sessions/9AA61380-A4F6-482F-B6E9-479E6783163F.historynew'),\n",
       " PosixPath('/Users/yukuo/.bash_sessions/9AA61380-A4F6-482F-B6E9-479E6783163F.session'),\n",
       " PosixPath('/Users/yukuo/.bash_sessions/A0033DE1-3DCB-4D55-97C3-CE61CE47E7AE.history'),\n",
       " PosixPath('/Users/yukuo/.bash_sessions/A0033DE1-3DCB-4D55-97C3-CE61CE47E7AE.historynew'),\n",
       " PosixPath('/Users/yukuo/.bash_sessions/A0033DE1-3DCB-4D55-97C3-CE61CE47E7AE.session'),\n",
       " PosixPath('/Users/yukuo/.bash_sessions/A558118F-872F-48E8-8F96-680798BF8637.history'),\n",
       " PosixPath('/Users/yukuo/.bash_sessions/A558118F-872F-48E8-8F96-680798BF8637.historynew'),\n",
       " PosixPath('/Users/yukuo/.bash_sessions/A558118F-872F-48E8-8F96-680798BF8637.session'),\n",
       " PosixPath('/Users/yukuo/.bash_sessions/A6E9F3BD-3EA2-47BA-B0D3-F31FC57C96BE.history'),\n",
       " PosixPath('/Users/yukuo/.bash_sessions/A6E9F3BD-3EA2-47BA-B0D3-F31FC57C96BE.historynew'),\n",
       " PosixPath('/Users/yukuo/.bash_sessions/A6E9F3BD-3EA2-47BA-B0D3-F31FC57C96BE.session'),\n",
       " PosixPath('/Users/yukuo/.bash_sessions/AAA44F41-B54F-437B-ABA6-962FA4B0D939.history'),\n",
       " PosixPath('/Users/yukuo/.bash_sessions/AAA44F41-B54F-437B-ABA6-962FA4B0D939.historynew'),\n",
       " PosixPath('/Users/yukuo/.bash_sessions/AAA44F41-B54F-437B-ABA6-962FA4B0D939.session'),\n",
       " PosixPath('/Users/yukuo/.bash_sessions/AF60FE75-68E2-47E1-8F12-DBFA7FA6D233.history'),\n",
       " PosixPath('/Users/yukuo/.bash_sessions/AF60FE75-68E2-47E1-8F12-DBFA7FA6D233.historynew'),\n",
       " PosixPath('/Users/yukuo/.bash_sessions/AF60FE75-68E2-47E1-8F12-DBFA7FA6D233.session'),\n",
       " PosixPath('/Users/yukuo/.bash_sessions/B69E75AD-BE17-4455-82CF-A7549D71563B.history'),\n",
       " PosixPath('/Users/yukuo/.bash_sessions/B69E75AD-BE17-4455-82CF-A7549D71563B.historynew'),\n",
       " PosixPath('/Users/yukuo/.bash_sessions/B69E75AD-BE17-4455-82CF-A7549D71563B.session'),\n",
       " PosixPath('/Users/yukuo/.bash_sessions/B6AFDAAA-8DA2-4689-B50D-580578698E1C.history'),\n",
       " PosixPath('/Users/yukuo/.bash_sessions/B6AFDAAA-8DA2-4689-B50D-580578698E1C.historynew'),\n",
       " PosixPath('/Users/yukuo/.bash_sessions/B6AFDAAA-8DA2-4689-B50D-580578698E1C.session'),\n",
       " PosixPath('/Users/yukuo/.bash_sessions/B71EFC59-89B7-4E11-866E-964E7A7A3F9E.history'),\n",
       " PosixPath('/Users/yukuo/.bash_sessions/B71EFC59-89B7-4E11-866E-964E7A7A3F9E.historynew'),\n",
       " PosixPath('/Users/yukuo/.bash_sessions/B71EFC59-89B7-4E11-866E-964E7A7A3F9E.session'),\n",
       " PosixPath('/Users/yukuo/.bash_sessions/B95DBEC8-4329-4589-97B4-11F14D669ED1.history'),\n",
       " PosixPath('/Users/yukuo/.bash_sessions/B95DBEC8-4329-4589-97B4-11F14D669ED1.historynew'),\n",
       " PosixPath('/Users/yukuo/.bash_sessions/B95DBEC8-4329-4589-97B4-11F14D669ED1.session'),\n",
       " PosixPath('/Users/yukuo/.bash_sessions/BD51F080-3ACA-4B64-BE41-9398F0A17722.history'),\n",
       " PosixPath('/Users/yukuo/.bash_sessions/BD51F080-3ACA-4B64-BE41-9398F0A17722.historynew'),\n",
       " PosixPath('/Users/yukuo/.bash_sessions/BD51F080-3ACA-4B64-BE41-9398F0A17722.session'),\n",
       " PosixPath('/Users/yukuo/.bash_sessions/BECE1DFA-2BBF-4292-9EC6-7DB20AC3BDA8.history'),\n",
       " PosixPath('/Users/yukuo/.bash_sessions/BECE1DFA-2BBF-4292-9EC6-7DB20AC3BDA8.historynew'),\n",
       " PosixPath('/Users/yukuo/.bash_sessions/BECE1DFA-2BBF-4292-9EC6-7DB20AC3BDA8.session'),\n",
       " PosixPath('/Users/yukuo/.bash_sessions/C0080366-9A65-4E24-981D-2096043BF6AA.history'),\n",
       " PosixPath('/Users/yukuo/.bash_sessions/C0080366-9A65-4E24-981D-2096043BF6AA.historynew'),\n",
       " PosixPath('/Users/yukuo/.bash_sessions/C0080366-9A65-4E24-981D-2096043BF6AA.session'),\n",
       " PosixPath('/Users/yukuo/.bash_sessions/C50EE2CC-E958-478A-8787-2C65FD4A4508.history'),\n",
       " PosixPath('/Users/yukuo/.bash_sessions/C50EE2CC-E958-478A-8787-2C65FD4A4508.historynew'),\n",
       " PosixPath('/Users/yukuo/.bash_sessions/C5AB718A-0212-488C-A577-7F26FD569850.history'),\n",
       " PosixPath('/Users/yukuo/.bash_sessions/C5AB718A-0212-488C-A577-7F26FD569850.historynew'),\n",
       " PosixPath('/Users/yukuo/.bash_sessions/C5AB718A-0212-488C-A577-7F26FD569850.session'),\n",
       " PosixPath('/Users/yukuo/.bash_sessions/CD22A58F-CC44-4578-9B76-74D6622984F8.historynew'),\n",
       " PosixPath('/Users/yukuo/.bash_sessions/CD22A58F-CC44-4578-9B76-74D6622984F8.session'),\n",
       " PosixPath('/Users/yukuo/.bash_sessions/D0BF83F3-DBDA-49FA-8A31-D1B114DF97BF.history'),\n",
       " PosixPath('/Users/yukuo/.bash_sessions/D0BF83F3-DBDA-49FA-8A31-D1B114DF97BF.historynew'),\n",
       " PosixPath('/Users/yukuo/.bash_sessions/D0BF83F3-DBDA-49FA-8A31-D1B114DF97BF.session'),\n",
       " PosixPath('/Users/yukuo/.bash_sessions/D91F1022-6ABF-40E8-B879-C10069982067.history'),\n",
       " PosixPath('/Users/yukuo/.bash_sessions/D91F1022-6ABF-40E8-B879-C10069982067.historynew'),\n",
       " PosixPath('/Users/yukuo/.bash_sessions/D91F1022-6ABF-40E8-B879-C10069982067.session'),\n",
       " PosixPath('/Users/yukuo/.bash_sessions/D9B16FB8-C0F8-4DCD-85B3-3022B4FBE3F3.history'),\n",
       " PosixPath('/Users/yukuo/.bash_sessions/D9B16FB8-C0F8-4DCD-85B3-3022B4FBE3F3.historynew'),\n",
       " PosixPath('/Users/yukuo/.bash_sessions/D9B16FB8-C0F8-4DCD-85B3-3022B4FBE3F3.session'),\n",
       " PosixPath('/Users/yukuo/.bash_sessions/DB4A41D0-38D9-45F6-A411-237D557E2D6B.history'),\n",
       " PosixPath('/Users/yukuo/.bash_sessions/DB4A41D0-38D9-45F6-A411-237D557E2D6B.historynew'),\n",
       " PosixPath('/Users/yukuo/.bash_sessions/DB4A41D0-38D9-45F6-A411-237D557E2D6B.session'),\n",
       " PosixPath('/Users/yukuo/.bash_sessions/DB8CE1C1-AC15-4EC7-8BB0-81ECD5E5C3B0.history'),\n",
       " PosixPath('/Users/yukuo/.bash_sessions/DB8CE1C1-AC15-4EC7-8BB0-81ECD5E5C3B0.historynew'),\n",
       " PosixPath('/Users/yukuo/.bash_sessions/DB8CE1C1-AC15-4EC7-8BB0-81ECD5E5C3B0.session'),\n",
       " PosixPath('/Users/yukuo/.bash_sessions/DF64359E-41BA-40FE-BD50-0D5A8129F521.history'),\n",
       " PosixPath('/Users/yukuo/.bash_sessions/DF64359E-41BA-40FE-BD50-0D5A8129F521.historynew'),\n",
       " PosixPath('/Users/yukuo/.bash_sessions/DF64359E-41BA-40FE-BD50-0D5A8129F521.session'),\n",
       " PosixPath('/Users/yukuo/.bash_sessions/DFCBA0AD-B2EC-42A6-8182-9ECB1306EA6D.historynew'),\n",
       " PosixPath('/Users/yukuo/.bash_sessions/E103659F-6DC3-4EC1-9533-795CA108717C.history'),\n",
       " PosixPath('/Users/yukuo/.bash_sessions/E103659F-6DC3-4EC1-9533-795CA108717C.historynew'),\n",
       " PosixPath('/Users/yukuo/.bash_sessions/E103659F-6DC3-4EC1-9533-795CA108717C.session'),\n",
       " PosixPath('/Users/yukuo/.bash_sessions/E8240E95-B3FC-4018-A83E-08B32D26D146.history'),\n",
       " PosixPath('/Users/yukuo/.bash_sessions/E8240E95-B3FC-4018-A83E-08B32D26D146.historynew'),\n",
       " PosixPath('/Users/yukuo/.bash_sessions/E8240E95-B3FC-4018-A83E-08B32D26D146.session'),\n",
       " PosixPath('/Users/yukuo/.bash_sessions/E948AD73-8ACA-4364-9379-59B505B8F3B5.history'),\n",
       " PosixPath('/Users/yukuo/.bash_sessions/E948AD73-8ACA-4364-9379-59B505B8F3B5.historynew'),\n",
       " PosixPath('/Users/yukuo/.bash_sessions/E948AD73-8ACA-4364-9379-59B505B8F3B5.session'),\n",
       " PosixPath('/Users/yukuo/.bash_sessions/EB7B3D06-14FF-427D-9FEB-1968937FD75F.history'),\n",
       " PosixPath('/Users/yukuo/.bash_sessions/EB7B3D06-14FF-427D-9FEB-1968937FD75F.historynew'),\n",
       " PosixPath('/Users/yukuo/.bash_sessions/EB7B3D06-14FF-427D-9FEB-1968937FD75F.session'),\n",
       " PosixPath('/Users/yukuo/.bash_sessions/EE59841B-42D7-4CEE-995B-330D1F10943B.history'),\n",
       " PosixPath('/Users/yukuo/.bash_sessions/EE59841B-42D7-4CEE-995B-330D1F10943B.historynew'),\n",
       " PosixPath('/Users/yukuo/.bash_sessions/EE59841B-42D7-4CEE-995B-330D1F10943B.session'),\n",
       " PosixPath('/Users/yukuo/.bash_sessions/F2E91964-F442-4662-9A2C-5221527CB606.history'),\n",
       " PosixPath('/Users/yukuo/.bash_sessions/F2E91964-F442-4662-9A2C-5221527CB606.historynew'),\n",
       " PosixPath('/Users/yukuo/.bash_sessions/F2E91964-F442-4662-9A2C-5221527CB606.session'),\n",
       " PosixPath('/Users/yukuo/.bash_sessions/F63FF75F-A4D4-4991-AF2C-AE49FDF243DB.history'),\n",
       " PosixPath('/Users/yukuo/.bash_sessions/F63FF75F-A4D4-4991-AF2C-AE49FDF243DB.historynew'),\n",
       " PosixPath('/Users/yukuo/.bash_sessions/F63FF75F-A4D4-4991-AF2C-AE49FDF243DB.session'),\n",
       " PosixPath('/Users/yukuo/.bash_sessions/F66136DA-A843-4338-B3A2-869839AC5BC2.history'),\n",
       " PosixPath('/Users/yukuo/.bash_sessions/F66136DA-A843-4338-B3A2-869839AC5BC2.historynew'),\n",
       " PosixPath('/Users/yukuo/.bash_sessions/F66136DA-A843-4338-B3A2-869839AC5BC2.session'),\n",
       " PosixPath('/Users/yukuo/.bash_sessions/FC543590-5E5E-4F60-81FB-8634471DE218.history'),\n",
       " PosixPath('/Users/yukuo/.bash_sessions/FC543590-5E5E-4F60-81FB-8634471DE218.historynew'),\n",
       " PosixPath('/Users/yukuo/.bash_sessions/FC543590-5E5E-4F60-81FB-8634471DE218.session'),\n",
       " PosixPath('/Users/yukuo/.bash_sessions/FD77C1AC-266D-4A65-A669-02107ADDEABA.historynew'),\n",
       " PosixPath('/Users/yukuo/.bash_sessions/FDFE2863-2408-46B3-B49F-2003850F120A.history'),\n",
       " PosixPath('/Users/yukuo/.bash_sessions/FDFE2863-2408-46B3-B49F-2003850F120A.historynew'),\n",
       " PosixPath('/Users/yukuo/.bash_sessions/FDFE2863-2408-46B3-B49F-2003850F120A.session'),\n",
       " PosixPath('/Users/yukuo/.bash_sessions/FE1D2A58-6531-433F-A024-7BA82BEA906D.history'),\n",
       " PosixPath('/Users/yukuo/.bash_sessions/FE1D2A58-6531-433F-A024-7BA82BEA906D.historynew'),\n",
       " PosixPath('/Users/yukuo/.bash_sessions/FE1D2A58-6531-433F-A024-7BA82BEA906D.session'),\n",
       " PosixPath('/Users/yukuo/.bash_sessions/FF6A082C-B9E4-4277-AF4C-529E1F2C7A22.history'),\n",
       " PosixPath('/Users/yukuo/.bash_sessions/FF6A082C-B9E4-4277-AF4C-529E1F2C7A22.historynew'),\n",
       " PosixPath('/Users/yukuo/.bash_sessions/FF6A082C-B9E4-4277-AF4C-529E1F2C7A22.session'),\n",
       " PosixPath('/Users/yukuo/.bash_sessions/_expiration_check_timestamp'),\n",
       " PosixPath('/Users/yukuo/.conda/environments.txt'),\n",
       " PosixPath('/Users/yukuo/.conda/pkgs'),\n",
       " PosixPath('/Users/yukuo/.config/www.na-mic.org'),\n",
       " PosixPath('/Users/yukuo/.idlerc/breakpoints.lst'),\n",
       " PosixPath('/Users/yukuo/.idlerc/recent-files.lst'),\n",
       " PosixPath('/Users/yukuo/.ipynb_checkpoints/Untitled-checkpoint.ipynb'),\n",
       " PosixPath('/Users/yukuo/.ipynb_checkpoints/temp-checkpoint.ipynb'),\n",
       " PosixPath('/Users/yukuo/.ipython/extensions'),\n",
       " PosixPath('/Users/yukuo/.ipython/nbextensions'),\n",
       " PosixPath('/Users/yukuo/.ipython/profile_default'),\n",
       " PosixPath('/Users/yukuo/.jupyter/lab'),\n",
       " PosixPath('/Users/yukuo/.jupyter/migrated'),\n",
       " PosixPath('/Users/yukuo/.jupyter/nbconfig'),\n",
       " PosixPath('/Users/yukuo/.keras/datasets'),\n",
       " PosixPath('/Users/yukuo/.keras/keras.json'),\n",
       " PosixPath('/Users/yukuo/.keras/models'),\n",
       " PosixPath('/Users/yukuo/.kite/editors.json'),\n",
       " PosixPath('/Users/yukuo/.kite/installid'),\n",
       " PosixPath('/Users/yukuo/.kite/kite-vscode-config.json'),\n",
       " PosixPath('/Users/yukuo/.kite/kited_has_run'),\n",
       " PosixPath('/Users/yukuo/.kite/libraries'),\n",
       " PosixPath('/Users/yukuo/.kite/license.json'),\n",
       " PosixPath('/Users/yukuo/.kite/logs'),\n",
       " PosixPath('/Users/yukuo/.kite/message.log'),\n",
       " PosixPath('/Users/yukuo/.kite/notifications'),\n",
       " PosixPath('/Users/yukuo/.kite/session.json'),\n",
       " PosixPath('/Users/yukuo/.kite/settings.json'),\n",
       " PosixPath('/Users/yukuo/.kite/user'),\n",
       " PosixPath('/Users/yukuo/.local/share'),\n",
       " PosixPath('/Users/yukuo/.matplotlib/fontlist-v300.json'),\n",
       " PosixPath('/Users/yukuo/.matplotlib/fontlist-v310.json'),\n",
       " PosixPath('/Users/yukuo/.matplotlib/tex.cache'),\n",
       " PosixPath('/Users/yukuo/.pylint.d/Schedule1.stats'),\n",
       " PosixPath('/Users/yukuo/.pylint.d/checkPw1.stats'),\n",
       " PosixPath('/Users/yukuo/.pylint.d/gui_web9_class1.stats'),\n",
       " PosixPath('/Users/yukuo/.pylint.d/oop1.stats'),\n",
       " PosixPath('/Users/yukuo/.pylint.d/pyperclip1.stats'),\n",
       " PosixPath('/Users/yukuo/.pylint.d/python_test1.stats'),\n",
       " PosixPath('/Users/yukuo/.pylint.d/simple1.stats'),\n",
       " PosixPath('/Users/yukuo/.pylint.d/test1.stats'),\n",
       " PosixPath('/Users/yukuo/.pylint.d/test21.stats'),\n",
       " PosixPath('/Users/yukuo/.spyder-py3/.ropeproject'),\n",
       " PosixPath('/Users/yukuo/.spyder-py3/autosave'),\n",
       " PosixPath('/Users/yukuo/.spyder-py3/config'),\n",
       " PosixPath('/Users/yukuo/.spyder-py3/db'),\n",
       " PosixPath('/Users/yukuo/.spyder-py3/defaults'),\n",
       " PosixPath('/Users/yukuo/.spyder-py3/history.py'),\n",
       " PosixPath('/Users/yukuo/.spyder-py3/history_internal.py'),\n",
       " PosixPath('/Users/yukuo/.spyder-py3/langconfig'),\n",
       " PosixPath('/Users/yukuo/.spyder-py3/log.txt'),\n",
       " PosixPath('/Users/yukuo/.spyder-py3/logging_test.txt'),\n",
       " PosixPath('/Users/yukuo/.spyder-py3/lsp_root_path'),\n",
       " PosixPath('/Users/yukuo/.spyder-py3/my.log'),\n",
       " PosixPath('/Users/yukuo/.spyder-py3/not_active_path'),\n",
       " PosixPath('/Users/yukuo/.spyder-py3/onlinehelp'),\n",
       " PosixPath('/Users/yukuo/.spyder-py3/path'),\n",
       " PosixPath('/Users/yukuo/.spyder-py3/pdb_history.sqlite'),\n",
       " PosixPath('/Users/yukuo/.spyder-py3/plugins'),\n",
       " PosixPath('/Users/yukuo/.spyder-py3/profiler.results'),\n",
       " PosixPath('/Users/yukuo/.spyder-py3/spyder.ini'),\n",
       " PosixPath('/Users/yukuo/.spyder-py3/spyder.ini.bak'),\n",
       " PosixPath('/Users/yukuo/.spyder-py3/spyder.lock'),\n",
       " PosixPath('/Users/yukuo/.spyder-py3/temp.py'),\n",
       " PosixPath('/Users/yukuo/.spyder-py3/template.py'),\n",
       " PosixPath('/Users/yukuo/.spyder-py3/untitled0.py'),\n",
       " PosixPath('/Users/yukuo/.spyder-py3/workingdir'),\n",
       " PosixPath('/Users/yukuo/.vim/pack'),\n",
       " PosixPath('/Users/yukuo/.vmware/VMWMediaProvider'),\n",
       " PosixPath('/Users/yukuo/.vscode/argv.json'),\n",
       " PosixPath('/Users/yukuo/.vscode/extensions'),\n",
       " PosixPath('/Users/yukuo/Applications/.DS_Store'),\n",
       " PosixPath('/Users/yukuo/Applications/.localized'),\n",
       " PosixPath('/Users/yukuo/Applications/Chrome Apps.localized'),\n",
       " PosixPath('/Users/yukuo/Data/.DS_Store'),\n",
       " PosixPath('/Users/yukuo/Data/20151023_EZ100_MAC_DRIVER_v10_11'),\n",
       " PosixPath('/Users/yukuo/Desktop/.DS_Store'),\n",
       " PosixPath('/Users/yukuo/Desktop/.ipynb_checkpoints'),\n",
       " PosixPath('/Users/yukuo/Desktop/.localized'),\n",
       " PosixPath('/Users/yukuo/Desktop/2018.pdf'),\n",
       " PosixPath('/Users/yukuo/Desktop/Abd MRI'),\n",
       " PosixPath('/Users/yukuo/Desktop/BUSHBERG - The Essential Physics for Medical Imaging,  3rd ed..pdf'),\n",
       " PosixPath('/Users/yukuo/Desktop/CV_ML'),\n",
       " PosixPath('/Users/yukuo/Desktop/Fundamentals of Body CT,  4th ed..pdf'),\n",
       " PosixPath('/Users/yukuo/Desktop/Fundamentals of abodminal radiology'),\n",
       " PosixPath('/Users/yukuo/Desktop/General'),\n",
       " PosixPath('/Users/yukuo/Desktop/HUSSAIN - Liver MRI - Correlation with other Imaging Modalities and Histopathology,  2nd ed..pdf'),\n",
       " PosixPath('/Users/yukuo/Desktop/MRI intro'),\n",
       " PosixPath('/Users/yukuo/Desktop/Mentori'),\n",
       " PosixPath('/Users/yukuo/Desktop/Pearls and Pitfalls'),\n",
       " PosixPath('/Users/yukuo/Desktop/Python for finance FinLab'),\n",
       " PosixPath('/Users/yukuo/Desktop/Python101'),\n",
       " PosixPath('/Users/yukuo/Desktop/Resume_ChengKaiWen_Kevin_EN_V07.pdf'),\n",
       " PosixPath('/Users/yukuo/Desktop/SEMELKA - Abdominal-Pelvic MRI,  3rd ed..pdf'),\n",
       " PosixPath('/Users/yukuo/Desktop/Swimming'),\n",
       " PosixPath('/Users/yukuo/Desktop/Texture'),\n",
       " PosixPath('/Users/yukuo/Desktop/To read'),\n",
       " PosixPath('/Users/yukuo/Desktop/[The Requisites] Ziessman - Nuclear Medicine, 4th ed.pdf'),\n",
       " PosixPath('/Users/yukuo/Desktop/_JS_practice'),\n",
       " PosixPath('/Users/yukuo/Desktop/_Python_projects'),\n",
       " PosixPath('/Users/yukuo/Desktop/_self'),\n",
       " PosixPath('/Users/yukuo/Desktop/_web9_scraping'),\n",
       " PosixPath('/Users/yukuo/Desktop/algorithm'),\n",
       " PosixPath('/Users/yukuo/Desktop/backup'),\n",
       " PosixPath('/Users/yukuo/Desktop/duty-arranger'),\n",
       " PosixPath('/Users/yukuo/Desktop/duty.xlsm'),\n",
       " PosixPath('/Users/yukuo/Desktop/practice'),\n",
       " PosixPath('/Users/yukuo/Desktop/python-deepdive-master'),\n",
       " PosixPath('/Users/yukuo/Desktop/raw.png'),\n",
       " PosixPath('/Users/yukuo/Desktop/rsroc2017.pdf'),\n",
       " PosixPath('/Users/yukuo/Desktop/台股爬蟲.ipynb'),\n",
       " PosixPath('/Users/yukuo/Desktop/心經'),\n",
       " PosixPath('/Users/yukuo/Desktop/英語語音學 (含發音練習) 一 - 臺大開放式課程 (NTU OpenCourseWare).html'),\n",
       " PosixPath('/Users/yukuo/Desktop/電子書 alias'),\n",
       " PosixPath('/Users/yukuo/Documents/.DS_Store'),\n",
       " PosixPath('/Users/yukuo/Documents/.evernote'),\n",
       " PosixPath('/Users/yukuo/Documents/.localized'),\n",
       " PosixPath('/Users/yukuo/Documents/Horos Data'),\n",
       " PosixPath('/Users/yukuo/Documents/OSC_Logs'),\n",
       " PosixPath('/Users/yukuo/Documents/OsiriX Data'),\n",
       " PosixPath('/Users/yukuo/Documents/SlicerDICOMDatabase'),\n",
       " PosixPath('/Users/yukuo/Documents/WebEx'),\n",
       " PosixPath('/Users/yukuo/Documents/Zoom'),\n",
       " PosixPath('/Users/yukuo/Documents/__pycache__'),\n",
       " PosixPath('/Users/yukuo/Documents/duty_arranger.py'),\n",
       " PosixPath('/Users/yukuo/Documents/簡政治 - Mri- Brain.txt'),\n",
       " PosixPath('/Users/yukuo/Downloads/.DS_Store'),\n",
       " PosixPath('/Users/yukuo/Downloads/.localized'),\n",
       " PosixPath('/Users/yukuo/Downloads/DCM'),\n",
       " PosixPath('/Users/yukuo/Downloads/JPG'),\n",
       " PosixPath('/Users/yukuo/Downloads/JavaScript and JQuery Interactive Front-End Web Development by Jon Duckett (z-lib.org).pdf.download'),\n",
       " PosixPath('/Users/yukuo/Downloads/Learn Javascript Visually by Ivelin Demirov (z-lib.org).pdf.download'),\n",
       " PosixPath('/Users/yukuo/Downloads/New Folder With Items'),\n",
       " PosixPath('/Users/yukuo/Downloads/OsiriX_Lite.dmg.download'),\n",
       " PosixPath('/Users/yukuo/Downloads/PopcornTime'),\n",
       " PosixPath('/Users/yukuo/Downloads/advanced_exercise_1'),\n",
       " PosixPath('/Users/yukuo/Downloads/advanced_exercise_3'),\n",
       " PosixPath('/Users/yukuo/Downloads/~$017-考題.docx'),\n",
       " PosixPath('/Users/yukuo/Downloads/~$21 3T MRI 第一次規格委員會議議程 20200619.docx'),\n",
       " PosixPath('/Users/yukuo/English/.DS_Store'),\n",
       " PosixPath('/Users/yukuo/English/字彙的力量'),\n",
       " PosixPath('/Users/yukuo/Google Drive/.DS_Store'),\n",
       " PosixPath('/Users/yukuo/Google Drive/.tmp.drivedownload'),\n",
       " PosixPath('/Users/yukuo/Google Drive/10707-10805(Acetate).gsheet'),\n",
       " PosixPath('/Users/yukuo/Google Drive/109年放射線部高階超快速CT採購規格表(公告修改)1081004.doc'),\n",
       " PosixPath('/Users/yukuo/Google Drive/2017邀請組'),\n",
       " PosixPath('/Users/yukuo/Google Drive/20191111 建議規格.docx'),\n",
       " PosixPath('/Users/yukuo/Google Drive/Angiography.gsheet'),\n",
       " PosixPath('/Users/yukuo/Google Drive/Colab Notebooks'),\n",
       " PosixPath('/Users/yukuo/Google Drive/Finance.gsheet'),\n",
       " PosixPath('/Users/yukuo/Google Drive/Finance_copy.gsheet'),\n",
       " PosixPath('/Users/yukuo/Google Drive/HW1_郭昱.ipynb'),\n",
       " PosixPath('/Users/yukuo/Google Drive/Icon\\r'),\n",
       " PosixPath('/Users/yukuo/Google Drive/Life.gsheet'),\n",
       " PosixPath('/Users/yukuo/Google Drive/Linear Algebra and Its Applications.pdf'),\n",
       " PosixPath('/Users/yukuo/Google Drive/ML .gsheet'),\n",
       " PosixPath('/Users/yukuo/Google Drive/ML NM.gsheet'),\n",
       " PosixPath('/Users/yukuo/Google Drive/Mentori'),\n",
       " PosixPath('/Users/yukuo/Google Drive/NM'),\n",
       " PosixPath('/Users/yukuo/Google Drive/OCR_output_20210122_213443.gsheet'),\n",
       " PosixPath('/Users/yukuo/Google Drive/Procedure.gsheet'),\n",
       " PosixPath('/Users/yukuo/Google Drive/Python_learn.ipynb'),\n",
       " PosixPath('/Users/yukuo/Google Drive/RSNA 2017 Digital Posters My.gsheet'),\n",
       " PosixPath('/Users/yukuo/Google Drive/RSNA 2017 Digital Posters.gsheet'),\n",
       " PosixPath('/Users/yukuo/Google Drive/TAE'),\n",
       " PosixPath('/Users/yukuo/Google Drive/To Do List.gsheet'),\n",
       " PosixPath('/Users/yukuo/Google Drive/VGHTPE Radiology.gsite'),\n",
       " PosixPath('/Users/yukuo/Google Drive/_NM progress.gsheet'),\n",
       " PosixPath('/Users/yukuo/Google Drive/_Radiology Progress.gsheet'),\n",
       " PosixPath('/Users/yukuo/Google Drive/_Texture Y90'),\n",
       " PosixPath('/Users/yukuo/Google Drive/_北榮'),\n",
       " PosixPath('/Users/yukuo/Google Drive/audio_only.m4a'),\n",
       " PosixPath('/Users/yukuo/Google Drive/playback.m3u'),\n",
       " PosixPath('/Users/yukuo/Google Drive/reconstruction procedure.docx'),\n",
       " PosixPath('/Users/yukuo/Google Drive/test.xlsm'),\n",
       " PosixPath('/Users/yukuo/Google Drive/ucs198604_HW2 - 郭昱.ipynb'),\n",
       " PosixPath('/Users/yukuo/Google Drive/ucs198604_HW2.ipynb'),\n",
       " PosixPath('/Users/yukuo/Google Drive/ucs198604_HW3_roc - 郭昱.ipynb'),\n",
       " PosixPath('/Users/yukuo/Google Drive/ucs198604_HW3_roc.ipynb'),\n",
       " PosixPath('/Users/yukuo/Google Drive/ucs198604_HW3_roc2 - 郭昱.ipynb'),\n",
       " PosixPath('/Users/yukuo/Google Drive/ucs198604_HW3_roc2.ipynb'),\n",
       " PosixPath('/Users/yukuo/Google Drive/以下檔案的副本： Finance.gsheet'),\n",
       " PosixPath('/Users/yukuo/Google Drive/前20人   to Kuo Yu case list  PETMR till20190520.xlsx'),\n",
       " PosixPath('/Users/yukuo/Google Drive/北榮雜檔'),\n",
       " PosixPath('/Users/yukuo/Google Drive/員工機車位申請單.doc'),\n",
       " PosixPath('/Users/yukuo/Google Drive/基金入門(二)基金的選擇及操作方式 - 市場先生.pdf'),\n",
       " PosixPath('/Users/yukuo/Google Drive/專科.gsheet'),\n",
       " PosixPath('/Users/yukuo/Google Drive/專科考試.gsheet'),\n",
       " PosixPath('/Users/yukuo/Google Drive/教學總醫師'),\n",
       " PosixPath('/Users/yukuo/Google Drive/時間管理三大表格.xlsx 的副本.xlsx'),\n",
       " PosixPath('/Users/yukuo/Google Drive/無標題表單.gform'),\n",
       " PosixPath('/Users/yukuo/Google Drive/舊版Angio排程.gsheet'),\n",
       " PosixPath('/Users/yukuo/Google Drive/行政總醫師'),\n",
       " PosixPath('/Users/yukuo/Google Drive/通訊錄2008_all_1.4.doc'),\n",
       " PosixPath('/Users/yukuo/Google Drive/陽明'),\n",
       " PosixPath('/Users/yukuo/Google Drive/雜檔'),\n",
       " PosixPath('/Users/yukuo/Google Drive (i54941417@gs.ncku.edu.tw)/.DS_Store'),\n",
       " PosixPath('/Users/yukuo/Google Drive (i54941417@gs.ncku.edu.tw)/.tmp.drivedownload'),\n",
       " PosixPath('/Users/yukuo/Google Drive (i54941417@gs.ncku.edu.tw)/Icon\\r'),\n",
       " PosixPath('/Users/yukuo/Google Drive (i54941417@gs.ncku.edu.tw)/Kuo Yu CEST.gshortcut'),\n",
       " PosixPath('/Users/yukuo/Japanese/.DS_Store'),\n",
       " PosixPath('/Users/yukuo/Japanese/文法'),\n",
       " PosixPath('/Users/yukuo/Library/.DS_Store'),\n",
       " PosixPath('/Users/yukuo/Library/.localized'),\n",
       " PosixPath('/Users/yukuo/Library/Accounts'),\n",
       " PosixPath('/Users/yukuo/Library/Application Scripts'),\n",
       " PosixPath('/Users/yukuo/Library/Application Support'),\n",
       " PosixPath('/Users/yukuo/Library/Assistant'),\n",
       " PosixPath('/Users/yukuo/Library/Assistants'),\n",
       " PosixPath('/Users/yukuo/Library/Audio'),\n",
       " PosixPath('/Users/yukuo/Library/Autosave Information'),\n",
       " PosixPath('/Users/yukuo/Library/Caches'),\n",
       " PosixPath('/Users/yukuo/Library/Calendars'),\n",
       " PosixPath('/Users/yukuo/Library/CallServices'),\n",
       " PosixPath('/Users/yukuo/Library/ColorPickers'),\n",
       " PosixPath('/Users/yukuo/Library/Colors'),\n",
       " PosixPath('/Users/yukuo/Library/Compositions'),\n",
       " PosixPath('/Users/yukuo/Library/ContainerManager'),\n",
       " PosixPath('/Users/yukuo/Library/Containers'),\n",
       " PosixPath('/Users/yukuo/Library/Cookies'),\n",
       " PosixPath('/Users/yukuo/Library/CoreData'),\n",
       " PosixPath('/Users/yukuo/Library/CoreFollowUp'),\n",
       " PosixPath('/Users/yukuo/Library/DataDeliveryServices'),\n",
       " PosixPath('/Users/yukuo/Library/Dictionaries'),\n",
       " PosixPath('/Users/yukuo/Library/Family'),\n",
       " PosixPath('/Users/yukuo/Library/Favorites'),\n",
       " PosixPath('/Users/yukuo/Library/FileProvider'),\n",
       " PosixPath('/Users/yukuo/Library/FontCollections'),\n",
       " PosixPath('/Users/yukuo/Library/Fonts'),\n",
       " PosixPath('/Users/yukuo/Library/FrontBoard'),\n",
       " PosixPath('/Users/yukuo/Library/GameKit'),\n",
       " PosixPath('/Users/yukuo/Library/Google'),\n",
       " PosixPath('/Users/yukuo/Library/Group Containers'),\n",
       " PosixPath('/Users/yukuo/Library/HTTPStorages'),\n",
       " PosixPath('/Users/yukuo/Library/HomeKit'),\n",
       " PosixPath('/Users/yukuo/Library/IdentityServices'),\n",
       " PosixPath('/Users/yukuo/Library/Input Methods'),\n",
       " PosixPath('/Users/yukuo/Library/Internet Plug-Ins'),\n",
       " PosixPath('/Users/yukuo/Library/Jupyter'),\n",
       " PosixPath('/Users/yukuo/Library/Keyboard'),\n",
       " PosixPath('/Users/yukuo/Library/Keyboard Layouts'),\n",
       " PosixPath('/Users/yukuo/Library/KeyboardServices'),\n",
       " PosixPath('/Users/yukuo/Library/Keychains'),\n",
       " PosixPath('/Users/yukuo/Library/LanguageModeling'),\n",
       " PosixPath('/Users/yukuo/Library/LaunchAgents'),\n",
       " PosixPath('/Users/yukuo/Library/Logs'),\n",
       " PosixPath('/Users/yukuo/Library/Mail'),\n",
       " PosixPath('/Users/yukuo/Library/Maps'),\n",
       " PosixPath('/Users/yukuo/Library/Messages'),\n",
       " PosixPath('/Users/yukuo/Library/Metadata'),\n",
       " PosixPath('/Users/yukuo/Library/Mobile Documents'),\n",
       " PosixPath('/Users/yukuo/Library/PDF Services'),\n",
       " PosixPath('/Users/yukuo/Library/Passes'),\n",
       " PosixPath('/Users/yukuo/Library/PersonalizationPortrait'),\n",
       " PosixPath('/Users/yukuo/Library/Personas'),\n",
       " PosixPath('/Users/yukuo/Library/PreferencePanes'),\n",
       " PosixPath('/Users/yukuo/Library/Preferences'),\n",
       " PosixPath('/Users/yukuo/Library/Printers'),\n",
       " PosixPath('/Users/yukuo/Library/PubSub'),\n",
       " PosixPath('/Users/yukuo/Library/Receipts'),\n",
       " PosixPath('/Users/yukuo/Library/Reminders'),\n",
       " PosixPath('/Users/yukuo/Library/Safari'),\n",
       " PosixPath('/Users/yukuo/Library/SafariSafeBrowsing'),\n",
       " PosixPath('/Users/yukuo/Library/Saved Application State'),\n",
       " PosixPath('/Users/yukuo/Library/Saved Searches'),\n",
       " PosixPath('/Users/yukuo/Library/Screen Savers'),\n",
       " PosixPath('/Users/yukuo/Library/ScreenRecordings'),\n",
       " PosixPath('/Users/yukuo/Library/Scripts'),\n",
       " PosixPath('/Users/yukuo/Library/Services'),\n",
       " PosixPath('/Users/yukuo/Library/Sharing'),\n",
       " PosixPath('/Users/yukuo/Library/Sounds'),\n",
       " PosixPath('/Users/yukuo/Library/Speech'),\n",
       " PosixPath('/Users/yukuo/Library/Spelling'),\n",
       " PosixPath('/Users/yukuo/Library/Staging'),\n",
       " PosixPath('/Users/yukuo/Library/Suggestions'),\n",
       " PosixPath('/Users/yukuo/Library/SyncedPreferences'),\n",
       " PosixPath('/Users/yukuo/Library/Translation'),\n",
       " PosixPath('/Users/yukuo/Library/Trial'),\n",
       " PosixPath('/Users/yukuo/Library/UIKitSystem'),\n",
       " PosixPath('/Users/yukuo/Library/VoiceTrigger'),\n",
       " PosixPath('/Users/yukuo/Library/Voices'),\n",
       " PosixPath('/Users/yukuo/Library/WebKit'),\n",
       " PosixPath('/Users/yukuo/Library/Workflows'),\n",
       " PosixPath('/Users/yukuo/Library/com.apple.icloud.searchpartyd'),\n",
       " PosixPath('/Users/yukuo/Library/com.apple.internal.ck'),\n",
       " PosixPath('/Users/yukuo/Library/iMovie'),\n",
       " PosixPath('/Users/yukuo/Library/iTunes'),\n",
       " PosixPath('/Users/yukuo/Library/mixpanel-c361f25b17135001126a1ef612221a2d-properties.plist'),\n",
       " PosixPath('/Users/yukuo/Library/studentd'),\n",
       " PosixPath('/Users/yukuo/Movies/.DS_Store'),\n",
       " PosixPath('/Users/yukuo/Movies/.localized'),\n",
       " PosixPath('/Users/yukuo/Movies/Monosnap'),\n",
       " PosixPath('/Users/yukuo/Movies/TV'),\n",
       " PosixPath('/Users/yukuo/Music/.DS_Store'),\n",
       " PosixPath('/Users/yukuo/Music/.localized'),\n",
       " PosixPath('/Users/yukuo/Music/Music'),\n",
       " PosixPath('/Users/yukuo/Music/iTunes'),\n",
       " PosixPath('/Users/yukuo/OneDrive/.849C9593-D756-4E56-8D6E-42412F2A707B'),\n",
       " PosixPath('/Users/yukuo/OneDrive/.DS_Store'),\n",
       " PosixPath('/Users/yukuo/OneDrive/20201207題目.docx'),\n",
       " PosixPath('/Users/yukuo/OneDrive/20201215考題 .docx'),\n",
       " PosixPath('/Users/yukuo/OneDrive/CV'),\n",
       " PosixPath('/Users/yukuo/OneDrive/English'),\n",
       " PosixPath('/Users/yukuo/OneDrive/Icon\\r'),\n",
       " PosixPath('/Users/yukuo/OneDrive/JW_CEST.pptx'),\n",
       " PosixPath('/Users/yukuo/OneDrive/Manuscript_Final_20201104123822_AJCR0123464R1.pdf'),\n",
       " PosixPath('/Users/yukuo/OneDrive/NM'),\n",
       " PosixPath('/Users/yukuo/OneDrive/NM CV study'),\n",
       " PosixPath('/Users/yukuo/OneDrive/NM care'),\n",
       " PosixPath('/Users/yukuo/OneDrive/Personal'),\n",
       " PosixPath('/Users/yukuo/OneDrive/The Science of Happiness'),\n",
       " PosixPath('/Users/yukuo/OneDrive/Utility'),\n",
       " PosixPath('/Users/yukuo/OneDrive/VGHTPE'),\n",
       " PosixPath('/Users/yukuo/OneDrive/共享 temp.docx'),\n",
       " PosixPath('/Users/yukuo/OneDrive/圖片'),\n",
       " PosixPath('/Users/yukuo/OneDrive/文件'),\n",
       " PosixPath('/Users/yukuo/OneDrive/電子書'),\n",
       " PosixPath('/Users/yukuo/Pictures/.DS_Store'),\n",
       " PosixPath('/Users/yukuo/Pictures/.localized'),\n",
       " PosixPath('/Users/yukuo/Pictures/Photo Booth Library'),\n",
       " PosixPath('/Users/yukuo/Pictures/Photos Library.photoslibrary'),\n",
       " PosixPath('/Users/yukuo/Pictures/mountains-4000x2664-forest-lake-clouds-sky-4k-16034.jpg'),\n",
       " PosixPath('/Users/yukuo/Public/.com.apple.timemachine.supported'),\n",
       " PosixPath('/Users/yukuo/Public/.localized'),\n",
       " PosixPath('/Users/yukuo/Public/Drop Box'),\n",
       " PosixPath('/Users/yukuo/build/duty_arranger'),\n",
       " PosixPath('/Users/yukuo/dist/duty_arranger'),\n",
       " PosixPath('/Users/yukuo/dist/duty_arranger_mac.zip'),\n",
       " PosixPath('/Users/yukuo/opt/anaconda3'),\n",
       " PosixPath('/Users/yukuo/放專2/.DS_Store'),\n",
       " PosixPath('/Users/yukuo/放專2/2001-2015交換考題'),\n",
       " PosixPath('/Users/yukuo/放專2/2014~17考古題分科整理'),\n",
       " PosixPath('/Users/yukuo/放專2/2018 交換'),\n",
       " PosixPath('/Users/yukuo/放專2/Oral'),\n",
       " PosixPath('/Users/yukuo/放專2/Print2'),\n",
       " PosixPath('/Users/yukuo/放專2/Slide'),\n",
       " PosixPath('/Users/yukuo/放專2/交換.apkg'),\n",
       " PosixPath('/Users/yukuo/放專2/交換考題 筆試'),\n",
       " PosixPath('/Users/yukuo/放專2/季考閲片'),\n",
       " PosixPath('/Users/yukuo/放專2/成大'),\n",
       " PosixPath('/Users/yukuo/放專2/放專.apkg'),\n",
       " PosixPath('/Users/yukuo/放專2/星海爭霸SC'),\n",
       " PosixPath('/Users/yukuo/放專2/物理'),\n",
       " PosixPath('/Users/yukuo/放專2/閱片.apkg')]"
      ]
     },
     "execution_count": 33,
     "metadata": {},
     "output_type": "execute_result"
    }
   ],
   "source": [
    "sorted(Path.home().glob('*/*'))"
   ]
  },
  {
   "cell_type": "code",
   "execution_count": 9,
   "metadata": {},
   "outputs": [],
   "source": [
    "test_path = Path.cwd()"
   ]
  },
  {
   "cell_type": "code",
   "execution_count": 13,
   "metadata": {},
   "outputs": [
    {
     "name": "stdout",
     "output_type": "stream",
     "text": [
      "/Users/yukuo/Desktop\n",
      "/Users/yukuo\n",
      "/Users\n",
      "/\n"
     ]
    }
   ],
   "source": [
    "for i in test_path.parents:\n",
    "    print(i)"
   ]
  },
  {
   "cell_type": "code",
   "execution_count": 23,
   "metadata": {},
   "outputs": [
    {
     "data": {
      "text/plain": [
       "PosixPath('/Users/yukuo')"
      ]
     },
     "execution_count": 23,
     "metadata": {},
     "output_type": "execute_result"
    }
   ],
   "source": [
    "test_path.parents[1]"
   ]
  },
  {
   "cell_type": "code",
   "execution_count": 24,
   "metadata": {},
   "outputs": [],
   "source": [
    "a = Path('1/2/3/4.jpg.bnd')"
   ]
  },
  {
   "cell_type": "code",
   "execution_count": 27,
   "metadata": {},
   "outputs": [
    {
     "data": {
      "text/plain": [
       "['.jpg', '.bnd']"
      ]
     },
     "execution_count": 27,
     "metadata": {},
     "output_type": "execute_result"
    }
   ],
   "source": [
    "a.suffixes"
   ]
  },
  {
   "cell_type": "code",
   "execution_count": 28,
   "metadata": {},
   "outputs": [
    {
     "data": {
      "text/plain": [
       "'.bnd'"
      ]
     },
     "execution_count": 28,
     "metadata": {},
     "output_type": "execute_result"
    }
   ],
   "source": [
    "a.suffix"
   ]
  },
  {
   "cell_type": "code",
   "execution_count": 34,
   "metadata": {},
   "outputs": [],
   "source": [
    "import subprocess"
   ]
  },
  {
   "cell_type": "code",
   "execution_count": 35,
   "metadata": {},
   "outputs": [],
   "source": [
    "p = subprocess.Popen(['date', '-R'], stdout=subprocess.PIPE)"
   ]
  },
  {
   "cell_type": "code",
   "execution_count": 38,
   "metadata": {},
   "outputs": [
    {
     "data": {
      "text/plain": [
       "(b'Mon, 15 Feb 2021 18:52:52 +0800\\n', None)"
      ]
     },
     "execution_count": 38,
     "metadata": {},
     "output_type": "execute_result"
    }
   ],
   "source": [
    "p.communicate()\n"
   ]
  },
  {
   "cell_type": "code",
   "execution_count": 41,
   "metadata": {},
   "outputs": [
    {
     "name": "stdout",
     "output_type": "stream",
     "text": [
      "[Errno 2] No such file or directory: 'cmd': 'cmd'\n"
     ]
    }
   ],
   "source": [
    "try:\n",
    "    out_bytes = subprocess.check_output(['cmd','arg1','arg2'])\n",
    "except subprocess.CalledProcessError as e:\n",
    "    out_bytes = e.output       # Output generated before error\n",
    "    code      = e.returncode   # Return code\n",
    "except Exception as e:\n",
    "    print(e)"
   ]
  },
  {
   "cell_type": "code",
   "execution_count": 43,
   "metadata": {},
   "outputs": [
    {
     "data": {
      "text/plain": [
       "('en_US', 'UTF-8')"
      ]
     },
     "execution_count": 43,
     "metadata": {},
     "output_type": "execute_result"
    }
   ],
   "source": [
    "import locale\n",
    "locale.getdefaultlocale()"
   ]
  },
  {
   "cell_type": "code",
   "execution_count": 46,
   "metadata": {},
   "outputs": [
    {
     "ename": "SyntaxError",
     "evalue": "from __future__ imports must occur at the beginning of the file (<ipython-input-46-6d5c5b2f0daf>, line 4)",
     "output_type": "error",
     "traceback": [
      "\u001b[0;36m  File \u001b[0;32m\"<ipython-input-46-6d5c5b2f0daf>\"\u001b[0;36m, line \u001b[0;32m4\u001b[0m\n\u001b[0;31mSyntaxError\u001b[0m\u001b[0;31m:\u001b[0m from __future__ imports must occur at the beginning of the file\n"
     ]
    }
   ],
   "source": []
  },
  {
   "cell_type": "code",
   "execution_count": null,
   "metadata": {},
   "outputs": [],
   "source": []
  }
 ],
 "metadata": {
  "kernelspec": {
   "display_name": "Python 3",
   "language": "python",
   "name": "python3"
  },
  "language_info": {
   "codemirror_mode": {
    "name": "ipython",
    "version": 3
   },
   "file_extension": ".py",
   "mimetype": "text/x-python",
   "name": "python",
   "nbconvert_exporter": "python",
   "pygments_lexer": "ipython3",
   "version": "3.7.4"
  }
 },
 "nbformat": 4,
 "nbformat_minor": 4
}
