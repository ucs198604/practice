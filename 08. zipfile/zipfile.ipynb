{
 "cells": [
  {
   "cell_type": "code",
   "execution_count": 64,
   "metadata": {},
   "outputs": [],
   "source": [
    "# practice from \"byte of python\"\n",
    "import zipfile\n",
    "import os\n",
    "import time\n",
    "\n",
    "source = ['C:\\\\backup','C:\\\\backup2']  #  to store the source folder name\n",
    "target_dir = \"C:\\\\back_to\" + os.sep + time.strftime('%Y%m%d')\n",
    "target = target_dir + os.sep + time.strftime('%H%M%S') + '.zip'  # os.sep: / in mac, \\\\ in windows"
   ]
  },
  {
   "cell_type": "code",
   "execution_count": 65,
   "metadata": {},
   "outputs": [
    {
     "data": {
      "text/plain": [
       "['C:\\\\backup', 'C:\\\\backup2']"
      ]
     },
     "execution_count": 65,
     "metadata": {},
     "output_type": "execute_result"
    }
   ],
   "source": [
    "source"
   ]
  },
  {
   "cell_type": "code",
   "execution_count": 71,
   "metadata": {},
   "outputs": [],
   "source": [
    "if not os.path.exists(target_dir):  # if target_dir 不存在，則建立\n",
    "    # os.mkdir(target_dir)  # cannot create multilevel\n",
    "    os.makedirs(target_dir) # can create multilevel"
   ]
  },
  {
   "cell_type": "code",
   "execution_count": 68,
   "metadata": {},
   "outputs": [
    {
     "data": {
      "text/plain": [
       "'zip -r C:\\\\back_to\\\\20200528\\\\163211.zip C:\\\\backup C:\\\\backup2'"
      ]
     },
     "execution_count": 68,
     "metadata": {},
     "output_type": "execute_result"
    }
   ],
   "source": [
    "zip_cmd = f\"zip -r {target} {' '.join(source)}\"  # the command of zip; -r = recursively for directories\n",
    "zip_cmd"
   ]
  },
  {
   "cell_type": "code",
   "execution_count": 69,
   "metadata": {},
   "outputs": [
    {
     "name": "stdout",
     "output_type": "stream",
     "text": [
      "Zip command is:\n",
      "zip -r C:\\back_to\\20200528\\163211.zip C:\\backup C:\\backup2\n",
      "Running:\n",
      "Successful backup to C:\\back_to\\20200528\\163211.zip\n"
     ]
    }
   ],
   "source": [
    "print('Zip command is:')\n",
    "print(zip_cmd)\n",
    "print('Running:')\n",
    "\n",
    "if os.system(zip_cmd) == 0:\n",
    "    print('Successful backup to', target)\n",
    "else:\n",
    "    print('Backup failed')"
   ]
  },
  {
   "cell_type": "code",
   "execution_count": null,
   "metadata": {},
   "outputs": [],
   "source": []
  },
  {
   "cell_type": "code",
   "execution_count": null,
   "metadata": {},
   "outputs": [],
   "source": []
  }
 ],
 "metadata": {
  "kernelspec": {
   "display_name": "Python 3",
   "language": "python",
   "name": "python3"
  },
  "language_info": {
   "codemirror_mode": {
    "name": "ipython",
    "version": 3
   },
   "file_extension": ".py",
   "mimetype": "text/x-python",
   "name": "python",
   "nbconvert_exporter": "python",
   "pygments_lexer": "ipython3",
   "version": "3.7.4"
  }
 },
 "nbformat": 4,
 "nbformat_minor": 2
}
