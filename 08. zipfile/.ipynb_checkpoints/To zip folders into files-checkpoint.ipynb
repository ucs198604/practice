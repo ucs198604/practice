{
 "cells": [
  {
   "cell_type": "code",
   "execution_count": 1,
   "metadata": {},
   "outputs": [],
   "source": [
    "import os\n",
    "import zipfile\n",
    "import shutil\n"
   ]
  },
  {
   "cell_type": "code",
   "execution_count": 14,
   "metadata": {},
   "outputs": [
    {
     "data": {
      "text/plain": [
       "['C:\\\\Users\\\\User\\\\Desktop\\\\JW\\\\DCM files case 22-35\\\\22 4524256-6',\n",
       " 'C:\\\\Users\\\\User\\\\Desktop\\\\JW\\\\DCM files case 22-35\\\\23 4018999-9',\n",
       " 'C:\\\\Users\\\\User\\\\Desktop\\\\JW\\\\DCM files case 22-35\\\\24 2508808-8',\n",
       " 'C:\\\\Users\\\\User\\\\Desktop\\\\JW\\\\DCM files case 22-35\\\\25 3172454-6',\n",
       " 'C:\\\\Users\\\\User\\\\Desktop\\\\JW\\\\DCM files case 22-35\\\\26 4518347-9',\n",
       " 'C:\\\\Users\\\\User\\\\Desktop\\\\JW\\\\DCM files case 22-35\\\\27 4569149-4',\n",
       " 'C:\\\\Users\\\\User\\\\Desktop\\\\JW\\\\DCM files case 22-35\\\\28 4518327-5',\n",
       " 'C:\\\\Users\\\\User\\\\Desktop\\\\JW\\\\DCM files case 22-35\\\\29 4519259-4',\n",
       " 'C:\\\\Users\\\\User\\\\Desktop\\\\JW\\\\DCM files case 22-35\\\\30 3413265-5',\n",
       " 'C:\\\\Users\\\\User\\\\Desktop\\\\JW\\\\DCM files case 22-35\\\\31 106880-0',\n",
       " 'C:\\\\Users\\\\User\\\\Desktop\\\\JW\\\\DCM files case 22-35\\\\32 4573928-4',\n",
       " 'C:\\\\Users\\\\User\\\\Desktop\\\\JW\\\\DCM files case 22-35\\\\33 4549258-8',\n",
       " 'C:\\\\Users\\\\User\\\\Desktop\\\\JW\\\\DCM files case 22-35\\\\34 4598513-5',\n",
       " 'C:\\\\Users\\\\User\\\\Desktop\\\\JW\\\\DCM files case 22-35\\\\35 4608310-7']"
      ]
     },
     "execution_count": 14,
     "metadata": {},
     "output_type": "execute_result"
    }
   ],
   "source": [
    "# folder_origin = os.getcwd() + os.sep + 'to_zip' + os.sep\n",
    "folder_origin = \"C:\\\\Users\\\\User\\\\Desktop\\\\JW\\\\DCM files case 22-35\" + os.sep\n",
    "\n",
    "# folder_destination =  os.getcwd() + os.sep + 'to_zip2'+ os.sep\n",
    "folder_destination = \"C:\\\\Users\\\\User\\\\Desktop\\\\JW\\\\DCM files case 22-35\" + \"_zip\"+ os.sep\n",
    "\n",
    "# list all folders in origin folder\n",
    "folders_in_origin = [folder_origin+i for i in os.listdir(folder_origin)]\n",
    "# checdk dir\n",
    "folders_in_origin = [i for i in folders_in_origin if os.path.isdir(i)]\n",
    "folders_in_origin"
   ]
  },
  {
   "cell_type": "code",
   "execution_count": 15,
   "metadata": {
    "scrolled": true
   },
   "outputs": [
    {
     "name": "stdout",
     "output_type": "stream",
     "text": [
      "C:\\Users\\User\\Desktop\\JW\\DCM files case 22-35\\22 4524256-6\n",
      "C:\\Users\\User\\Desktop\\JW\\DCM files case 22-35\\23 4018999-9\n",
      "C:\\Users\\User\\Desktop\\JW\\DCM files case 22-35\\24 2508808-8\n",
      "C:\\Users\\User\\Desktop\\JW\\DCM files case 22-35\\25 3172454-6\n",
      "C:\\Users\\User\\Desktop\\JW\\DCM files case 22-35\\26 4518347-9\n",
      "C:\\Users\\User\\Desktop\\JW\\DCM files case 22-35\\27 4569149-4\n",
      "C:\\Users\\User\\Desktop\\JW\\DCM files case 22-35\\28 4518327-5\n",
      "C:\\Users\\User\\Desktop\\JW\\DCM files case 22-35\\29 4519259-4\n",
      "C:\\Users\\User\\Desktop\\JW\\DCM files case 22-35\\30 3413265-5\n",
      "C:\\Users\\User\\Desktop\\JW\\DCM files case 22-35\\31 106880-0\n",
      "C:\\Users\\User\\Desktop\\JW\\DCM files case 22-35\\32 4573928-4\n",
      "C:\\Users\\User\\Desktop\\JW\\DCM files case 22-35\\33 4549258-8\n",
      "C:\\Users\\User\\Desktop\\JW\\DCM files case 22-35\\34 4598513-5\n",
      "C:\\Users\\User\\Desktop\\JW\\DCM files case 22-35\\35 4608310-7\n",
      "done\n"
     ]
    }
   ],
   "source": [
    "for fd in folders_in_origin:\n",
    "    print(fd)\n",
    "    output_file_name = folder_destination + fd.split(os.sep)[-1]\n",
    "    shutil.make_archive(output_file_name, 'zip', fd)\n",
    "    \n",
    "print('done')    "
   ]
  },
  {
   "cell_type": "code",
   "execution_count": null,
   "metadata": {},
   "outputs": [],
   "source": []
  },
  {
   "cell_type": "code",
   "execution_count": null,
   "metadata": {},
   "outputs": [],
   "source": []
  },
  {
   "cell_type": "code",
   "execution_count": null,
   "metadata": {},
   "outputs": [],
   "source": [
    "dir_to_zip = '/Users/yukuo/Desktop/practice/01. cracking codes with python'\n",
    "output_filename = 'test'\n",
    "shutil.make_archive(output_filename, 'zip', dir_to_zip)"
   ]
  }
 ],
 "metadata": {
  "kernelspec": {
   "display_name": "Python 3",
   "language": "python",
   "name": "python3"
  },
  "language_info": {
   "codemirror_mode": {
    "name": "ipython",
    "version": 3
   },
   "file_extension": ".py",
   "mimetype": "text/x-python",
   "name": "python",
   "nbconvert_exporter": "python",
   "pygments_lexer": "ipython3",
   "version": "3.7.3"
  }
 },
 "nbformat": 4,
 "nbformat_minor": 4
}
