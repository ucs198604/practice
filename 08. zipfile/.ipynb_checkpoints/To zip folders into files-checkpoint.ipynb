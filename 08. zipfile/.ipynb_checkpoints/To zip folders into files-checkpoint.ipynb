{
 "cells": [
  {
   "cell_type": "code",
   "execution_count": 2,
   "metadata": {},
   "outputs": [],
   "source": [
    "import os\n",
    "import zipfile\n",
    "import shutil\n"
   ]
  },
  {
   "cell_type": "code",
   "execution_count": 39,
   "metadata": {},
   "outputs": [
    {
     "data": {
      "text/plain": [
       "['/Users/yukuo/Desktop/practice/08. zipfile/to_zip/10. geopy',\n",
       " '/Users/yukuo/Desktop/practice/08. zipfile/to_zip/09. emails',\n",
       " '/Users/yukuo/Desktop/practice/08. zipfile/to_zip/09. GUI_tk',\n",
       " '/Users/yukuo/Desktop/practice/08. zipfile/to_zip/00. temp',\n",
       " '/Users/yukuo/Desktop/practice/08. zipfile/to_zip/02. financial plan',\n",
       " '/Users/yukuo/Desktop/practice/08. zipfile/to_zip/11. opencv',\n",
       " '/Users/yukuo/Desktop/practice/08. zipfile/to_zip/01. cracking codes with python']"
      ]
     },
     "execution_count": 39,
     "metadata": {},
     "output_type": "execute_result"
    }
   ],
   "source": [
    "folder_origin = os.getcwd() + os.sep + 'to_zip/'\n",
    "folder_destination =  os.getcwd() + os.sep + 'to_zip2/'\n",
    "\n",
    "# list all folders in origin folder\n",
    "folders_in_origin = [folder_origin+i for i in os.listdir(folder_origin)]\n",
    "# checdk dir\n",
    "folders_in_origin = [i for i in folders_in_origin if os.path.isdir(i)]\n",
    "folders_in_origin"
   ]
  },
  {
   "cell_type": "code",
   "execution_count": 40,
   "metadata": {
    "scrolled": true
   },
   "outputs": [
    {
     "name": "stdout",
     "output_type": "stream",
     "text": [
      "/Users/yukuo/Desktop/practice/08. zipfile/to_zip/10. geopy\n",
      "/Users/yukuo/Desktop/practice/08. zipfile/to_zip/09. emails\n",
      "/Users/yukuo/Desktop/practice/08. zipfile/to_zip/09. GUI_tk\n",
      "/Users/yukuo/Desktop/practice/08. zipfile/to_zip/00. temp\n",
      "/Users/yukuo/Desktop/practice/08. zipfile/to_zip/02. financial plan\n",
      "/Users/yukuo/Desktop/practice/08. zipfile/to_zip/11. opencv\n",
      "/Users/yukuo/Desktop/practice/08. zipfile/to_zip/01. cracking codes with python\n"
     ]
    }
   ],
   "source": [
    "for fd in folders_in_origin:\n",
    "    output_file_name = folder_destination + fd.split(os.sep)[-1]\n",
    "    shutil.make_archive(output_file_name, 'zip', fd)\n",
    "    print(fd)\n",
    "    "
   ]
  },
  {
   "cell_type": "code",
   "execution_count": null,
   "metadata": {},
   "outputs": [],
   "source": []
  },
  {
   "cell_type": "code",
   "execution_count": null,
   "metadata": {},
   "outputs": [],
   "source": []
  },
  {
   "cell_type": "code",
   "execution_count": null,
   "metadata": {},
   "outputs": [],
   "source": [
    "dir_to_zip = '/Users/yukuo/Desktop/practice/01. cracking codes with python'\n",
    "output_filename = 'test'\n",
    "shutil.make_archive(output_filename, 'zip', dir_to_zip)"
   ]
  }
 ],
 "metadata": {
  "kernelspec": {
   "display_name": "Python 3",
   "language": "python",
   "name": "python3"
  },
  "language_info": {
   "codemirror_mode": {
    "name": "ipython",
    "version": 3
   },
   "file_extension": ".py",
   "mimetype": "text/x-python",
   "name": "python",
   "nbconvert_exporter": "python",
   "pygments_lexer": "ipython3",
   "version": "3.7.4"
  }
 },
 "nbformat": 4,
 "nbformat_minor": 4
}
