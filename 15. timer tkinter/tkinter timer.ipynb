{
 "cells": [
  {
   "cell_type": "code",
   "execution_count": 3,
   "metadata": {},
   "outputs": [
    {
     "name": "stdout",
     "output_type": "stream",
     "text": [
      "Waiting for client 1...\n",
      "Waiting for client 1...\n",
      "Waiting for client 1...\n"
     ]
    }
   ],
   "source": [
    "from threading import *\n",
    "import time\n",
    " \n",
    "def check_status():\n",
    "    while(True):\n",
    "        print( \"Waiting for client 1...\")\n",
    "        time.sleep(5) # wait 5 seconds      \n",
    "\n",
    "# create threads\n",
    "t = Timer(5.0, check_status)\n",
    " \n",
    "# t.start()\n"
   ]
  },
  {
   "cell_type": "code",
   "execution_count": 2,
   "metadata": {},
   "outputs": [],
   "source": [
    "import pydicom\n",
    "import os\n",
    "import threading\n",
    "import time\n",
    "\n",
    "previous_ptid = ''\n",
    "info_of_latest_call = ['',False]  # ptid, is called?\n"
   ]
  },
  {
   "cell_type": "code",
   "execution_count": 1,
   "metadata": {},
   "outputs": [],
   "source": []
  },
  {
   "cell_type": "code",
   "execution_count": 2,
   "metadata": {},
   "outputs": [],
   "source": [
    "\n",
    "def check_dcm(previous_ptid, info_of_latest_call):\n",
    "    path_to_dicom = 'C:\\\\tedpc\\\\Images\\\\General'\n",
    "    # get all dirs\n",
    "    all_dirs = [os.path.join(path_to_dicom,d) for d in os.listdir(path_to_dicom) if os.path.isdir(path_to_dicom)]\n",
    "\n",
    "    if all_dirs:\n",
    "        # find latest patient dir and id\n",
    "        latest_dir = max(all_dirs, key=os.path.getmtime) # latest folder\n",
    "        latest_ptid = os.path.split(latest_dir)[1] \n",
    "        # find latest exam dir\n",
    "        exam_in_latest_dir = [os.path.join(latest_dir,d) for d in os.listdir(latest_dir) if os.path.isdir(latest_dir)]\n",
    "        latest_exam = max(exam_in_latest_dir, key=os.path.getmtime)\n",
    "\n",
    "        # same id and if called -> no need to work further\n",
    "        if (previous_ptid==latest_ptid) and (info_of_latest_call[1]==True):\n",
    "            print('not called')\n",
    "            pass\n",
    "        else: \n",
    "            # either not called or different id\n",
    "            info_of_latest_call = [latest_ptid, False]  # renew, wether previous id is the same or not, since not called\n",
    "            previous_ptid = latest_ptid # update latest pt id \n",
    "\n",
    "            # to find a file in the latest exam set\n",
    "            to_break=False\n",
    "            for root, sub_f, file in os.walk(latest_exam):\n",
    "                if to_break:\n",
    "                    break\n",
    "                for f in file:\n",
    "                    file_name_any = os.path.join(root,f)\n",
    "                    if file_name_any.endswith('.dcm'):\n",
    "                        to_break=True\n",
    "                        break\n",
    "            # read dcm file and get metadata\n",
    "            ds = pydicom.dcmread(file_name_any)  \n",
    "            if ds.Modality in ['CT','MR']:\n",
    "                print('call image')\n",
    "\n",
    "                # self.search_patient_id.set(latest_ptid)  # set last ptid entry\n",
    "                # self.do_search_get_value() # do search\n",
    "                info_of_latest_call = [latest_ptid, True]\n",
    "            else:\n",
    "                print('not ct or mr')\n",
    "    else:\n",
    "        print('no file')\n",
    "        "
   ]
  },
  {
   "cell_type": "code",
   "execution_count": 3,
   "metadata": {},
   "outputs": [
    {
     "data": {
      "text/plain": [
       "('', ['', False])"
      ]
     },
     "execution_count": 3,
     "metadata": {},
     "output_type": "execute_result"
    }
   ],
   "source": [
    "previous_ptid, info_of_latest_call "
   ]
  },
  {
   "cell_type": "code",
   "execution_count": null,
   "metadata": {},
   "outputs": [],
   "source": []
  },
  {
   "cell_type": "code",
   "execution_count": 2,
   "metadata": {},
   "outputs": [],
   "source": [
    "import pydicom\n",
    "import os\n",
    "import threading\n",
    "import time\n",
    "\n",
    "previous_ptid = ''\n",
    "info_of_latest_call = ['',False]  # ptid, is called?"
   ]
  },
  {
   "cell_type": "code",
   "execution_count": null,
   "metadata": {},
   "outputs": [],
   "source": []
  },
  {
   "cell_type": "code",
   "execution_count": 3,
   "metadata": {
    "scrolled": true
   },
   "outputs": [
    {
     "name": "stdout",
     "output_type": "stream",
     "text": [
      "run\n",
      "call image\n",
      "run\n",
      "not called\n",
      "run\n",
      "not called\n",
      "run\n",
      "not called\n",
      "run\n",
      "not called\n",
      "run\n",
      "not called\n",
      "run\n",
      "not called\n",
      "run\n",
      "not called\n",
      "run\n",
      "not called\n",
      "run\n",
      "not called\n",
      "run\n",
      "not called\n",
      "run\n",
      "call image\n",
      "run\n",
      "not called\n"
     ]
    },
    {
     "ename": "KeyboardInterrupt",
     "evalue": "",
     "output_type": "error",
     "traceback": [
      "\u001b[1;31m---------------------------------------------------------------------------\u001b[0m",
      "\u001b[1;31mKeyboardInterrupt\u001b[0m                         Traceback (most recent call last)",
      "\u001b[1;32m<ipython-input-3-6c1d5ea8757d>\u001b[0m in \u001b[0;36m<module>\u001b[1;34m\u001b[0m\n\u001b[0;32m     76\u001b[0m         \u001b[0mself\u001b[0m\u001b[1;33m.\u001b[0m\u001b[0mroot\u001b[0m\u001b[1;33m.\u001b[0m\u001b[0mafter\u001b[0m\u001b[1;33m(\u001b[0m\u001b[1;36m3000\u001b[0m\u001b[1;33m,\u001b[0m\u001b[0mself\u001b[0m\u001b[1;33m.\u001b[0m\u001b[0mcheck_dcm\u001b[0m\u001b[1;33m)\u001b[0m\u001b[1;33m\u001b[0m\u001b[1;33m\u001b[0m\u001b[0m\n\u001b[0;32m     77\u001b[0m \u001b[1;33m\u001b[0m\u001b[0m\n\u001b[1;32m---> 78\u001b[1;33m \u001b[0mapp\u001b[0m\u001b[1;33m=\u001b[0m\u001b[0mClock\u001b[0m\u001b[1;33m(\u001b[0m\u001b[1;33m)\u001b[0m\u001b[1;33m\u001b[0m\u001b[1;33m\u001b[0m\u001b[0m\n\u001b[0m\u001b[0;32m     79\u001b[0m \u001b[1;33m\u001b[0m\u001b[0m\n",
      "\u001b[1;32m<ipython-input-3-6c1d5ea8757d>\u001b[0m in \u001b[0;36m__init__\u001b[1;34m(self)\u001b[0m\n\u001b[0;32m     14\u001b[0m         \u001b[1;31m# self.update_clock()\u001b[0m\u001b[1;33m\u001b[0m\u001b[1;33m\u001b[0m\u001b[1;33m\u001b[0m\u001b[0m\n\u001b[0;32m     15\u001b[0m         \u001b[0mself\u001b[0m\u001b[1;33m.\u001b[0m\u001b[0mcheck_dcm\u001b[0m\u001b[1;33m(\u001b[0m\u001b[1;33m)\u001b[0m\u001b[1;33m\u001b[0m\u001b[1;33m\u001b[0m\u001b[0m\n\u001b[1;32m---> 16\u001b[1;33m         \u001b[0mself\u001b[0m\u001b[1;33m.\u001b[0m\u001b[0mroot\u001b[0m\u001b[1;33m.\u001b[0m\u001b[0mmainloop\u001b[0m\u001b[1;33m(\u001b[0m\u001b[1;33m)\u001b[0m\u001b[1;33m\u001b[0m\u001b[1;33m\u001b[0m\u001b[0m\n\u001b[0m\u001b[0;32m     17\u001b[0m \u001b[1;33m\u001b[0m\u001b[0m\n\u001b[0;32m     18\u001b[0m     \u001b[1;32mdef\u001b[0m \u001b[0mcall_check_dcm\u001b[0m\u001b[1;33m(\u001b[0m\u001b[0mself\u001b[0m\u001b[1;33m)\u001b[0m\u001b[1;33m:\u001b[0m\u001b[1;33m\u001b[0m\u001b[1;33m\u001b[0m\u001b[0m\n",
      "\u001b[1;32m~\\Anaconda3\\lib\\tkinter\\__init__.py\u001b[0m in \u001b[0;36mmainloop\u001b[1;34m(self, n)\u001b[0m\n\u001b[0;32m   1281\u001b[0m     \u001b[1;32mdef\u001b[0m \u001b[0mmainloop\u001b[0m\u001b[1;33m(\u001b[0m\u001b[0mself\u001b[0m\u001b[1;33m,\u001b[0m \u001b[0mn\u001b[0m\u001b[1;33m=\u001b[0m\u001b[1;36m0\u001b[0m\u001b[1;33m)\u001b[0m\u001b[1;33m:\u001b[0m\u001b[1;33m\u001b[0m\u001b[1;33m\u001b[0m\u001b[0m\n\u001b[0;32m   1282\u001b[0m         \u001b[1;34m\"\"\"Call the mainloop of Tk.\"\"\"\u001b[0m\u001b[1;33m\u001b[0m\u001b[1;33m\u001b[0m\u001b[0m\n\u001b[1;32m-> 1283\u001b[1;33m         \u001b[0mself\u001b[0m\u001b[1;33m.\u001b[0m\u001b[0mtk\u001b[0m\u001b[1;33m.\u001b[0m\u001b[0mmainloop\u001b[0m\u001b[1;33m(\u001b[0m\u001b[0mn\u001b[0m\u001b[1;33m)\u001b[0m\u001b[1;33m\u001b[0m\u001b[1;33m\u001b[0m\u001b[0m\n\u001b[0m\u001b[0;32m   1284\u001b[0m     \u001b[1;32mdef\u001b[0m \u001b[0mquit\u001b[0m\u001b[1;33m(\u001b[0m\u001b[0mself\u001b[0m\u001b[1;33m)\u001b[0m\u001b[1;33m:\u001b[0m\u001b[1;33m\u001b[0m\u001b[1;33m\u001b[0m\u001b[0m\n\u001b[0;32m   1285\u001b[0m         \u001b[1;34m\"\"\"Quit the Tcl interpreter. All widgets will be destroyed.\"\"\"\u001b[0m\u001b[1;33m\u001b[0m\u001b[1;33m\u001b[0m\u001b[0m\n",
      "\u001b[1;32m~\\Anaconda3\\lib\\tkinter\\__init__.py\u001b[0m in \u001b[0;36m__call__\u001b[1;34m(self, *args)\u001b[0m\n\u001b[0;32m   1698\u001b[0m         \u001b[0mself\u001b[0m\u001b[1;33m.\u001b[0m\u001b[0msubst\u001b[0m \u001b[1;33m=\u001b[0m \u001b[0msubst\u001b[0m\u001b[1;33m\u001b[0m\u001b[1;33m\u001b[0m\u001b[0m\n\u001b[0;32m   1699\u001b[0m         \u001b[0mself\u001b[0m\u001b[1;33m.\u001b[0m\u001b[0mwidget\u001b[0m \u001b[1;33m=\u001b[0m \u001b[0mwidget\u001b[0m\u001b[1;33m\u001b[0m\u001b[1;33m\u001b[0m\u001b[0m\n\u001b[1;32m-> 1700\u001b[1;33m     \u001b[1;32mdef\u001b[0m \u001b[0m__call__\u001b[0m\u001b[1;33m(\u001b[0m\u001b[0mself\u001b[0m\u001b[1;33m,\u001b[0m \u001b[1;33m*\u001b[0m\u001b[0margs\u001b[0m\u001b[1;33m)\u001b[0m\u001b[1;33m:\u001b[0m\u001b[1;33m\u001b[0m\u001b[1;33m\u001b[0m\u001b[0m\n\u001b[0m\u001b[0;32m   1701\u001b[0m         \u001b[1;34m\"\"\"Apply first function SUBST to arguments, than FUNC.\"\"\"\u001b[0m\u001b[1;33m\u001b[0m\u001b[1;33m\u001b[0m\u001b[0m\n\u001b[0;32m   1702\u001b[0m         \u001b[1;32mtry\u001b[0m\u001b[1;33m:\u001b[0m\u001b[1;33m\u001b[0m\u001b[1;33m\u001b[0m\u001b[0m\n",
      "\u001b[1;31mKeyboardInterrupt\u001b[0m: "
     ]
    }
   ],
   "source": [
    "import tkinter as tk    \n",
    "import time\n",
    "import functools\n",
    " \n",
    "        \n",
    "    \n",
    "class Clock():\n",
    "    def __init__(self):\n",
    "        global previous_ptid\n",
    "        global info_of_latest_call \n",
    "        self.root = tk.Tk()\n",
    "        self.label = tk.Label(text=\"\", font=('Helvetica', 48), fg='red')\n",
    "        self.label.pack()\n",
    "        # self.update_clock()\n",
    "        self.check_dcm()\n",
    "        self.root.mainloop()\n",
    "\n",
    "\n",
    "    def check_dcm(self):\n",
    "        global previous_ptid\n",
    "        global info_of_latest_call                 \n",
    "        print('run')\n",
    "        path_to_dicom = 'C:\\\\tedpc\\\\Images\\\\General'\n",
    "        # get all dirs\n",
    "        all_dirs = [os.path.join(path_to_dicom,d) for d in os.listdir(path_to_dicom) if os.path.isdir(path_to_dicom)]\n",
    "\n",
    "        if all_dirs:\n",
    "            # find latest patient dir and id\n",
    "            latest_dir = max(all_dirs, key=os.path.getmtime) # latest folder\n",
    "            latest_ptid = os.path.split(latest_dir)[1] \n",
    "            # find latest exam dir\n",
    "            exam_in_latest_dir = [os.path.join(latest_dir,d) for d in os.listdir(latest_dir) if os.path.isdir(latest_dir)]\n",
    "            latest_exam = max(exam_in_latest_dir, key=os.path.getmtime)\n",
    "\n",
    "            # same id and if called -> no need to work further\n",
    "            if (previous_ptid==latest_ptid) and (info_of_latest_call[1]==True):\n",
    "                print('not called')\n",
    "                pass\n",
    "            else: \n",
    "                # either not called or different id\n",
    "                info_of_latest_call = [latest_ptid, False]  # renew, wether previous id is the same or not, since not called\n",
    "                previous_ptid = latest_ptid # update latest pt id \n",
    "\n",
    "                # to find a file in the latest exam set\n",
    "                to_break=False\n",
    "                for root, sub_f, file in os.walk(latest_exam):\n",
    "                    if to_break:\n",
    "                        break\n",
    "                    for f in file:\n",
    "                        file_name_any = os.path.join(root,f)\n",
    "                        if file_name_any.endswith('.dcm'):\n",
    "                            to_break=True\n",
    "                            break\n",
    "                # read dcm file and get metadata\n",
    "                ds = pydicom.dcmread(file_name_any)  \n",
    "                if ds.Modality in ['CT','MR']:\n",
    "                    print('call image')\n",
    "\n",
    "                    # self.search_patient_id.set(latest_ptid)  # set last ptid entry\n",
    "                    # self.do_search_get_value() # do search\n",
    "                    info_of_latest_call = [latest_ptid, True]\n",
    "                else:\n",
    "                    print('not ct or mr')\n",
    "        else:\n",
    "            print('no file')\n",
    "            \n",
    "        self.root.after(5000,self.check_dcm) \n",
    "\n",
    "        \n",
    "app=Clock()\n",
    "\n"
   ]
  },
  {
   "cell_type": "code",
   "execution_count": 1,
   "metadata": {},
   "outputs": [
    {
     "ename": "NameError",
     "evalue": "name 's' is not defined",
     "output_type": "error",
     "traceback": [
      "\u001b[1;31m---------------------------------------------------------------------------\u001b[0m",
      "\u001b[1;31mNameError\u001b[0m                                 Traceback (most recent call last)",
      "\u001b[1;32m<ipython-input-1-59e37ed83344>\u001b[0m in \u001b[0;36m<module>\u001b[1;34m\u001b[0m\n\u001b[0;32m     19\u001b[0m         \u001b[1;31m#self.root.after(1000, self.update_clock)\u001b[0m\u001b[1;33m\u001b[0m\u001b[1;33m\u001b[0m\u001b[1;33m\u001b[0m\u001b[0m\n\u001b[0;32m     20\u001b[0m \u001b[1;33m\u001b[0m\u001b[0m\n\u001b[1;32m---> 21\u001b[1;33m \u001b[0mapp\u001b[0m\u001b[1;33m=\u001b[0m\u001b[0mClock\u001b[0m\u001b[1;33m(\u001b[0m\u001b[1;33m)\u001b[0m\u001b[1;33m\u001b[0m\u001b[1;33m\u001b[0m\u001b[0m\n\u001b[0m",
      "\u001b[1;32m<ipython-input-1-59e37ed83344>\u001b[0m in \u001b[0;36m__init__\u001b[1;34m(self)\u001b[0m\n\u001b[0;32m     11\u001b[0m         \u001b[0mself\u001b[0m\u001b[1;33m.\u001b[0m\u001b[0mroot\u001b[0m\u001b[1;33m.\u001b[0m\u001b[0mmainloop\u001b[0m\u001b[1;33m(\u001b[0m\u001b[1;33m)\u001b[0m\u001b[1;33m\u001b[0m\u001b[1;33m\u001b[0m\u001b[0m\n\u001b[0;32m     12\u001b[0m \u001b[1;33m\u001b[0m\u001b[0m\n\u001b[1;32m---> 13\u001b[1;33m         \u001b[0ms\u001b[0m\u001b[1;33m.\u001b[0m\u001b[0menter\u001b[0m\u001b[1;33m(\u001b[0m\u001b[1;36m1\u001b[0m\u001b[1;33m,\u001b[0m \u001b[1;36m1\u001b[0m\u001b[1;33m,\u001b[0m \u001b[0mdo_something\u001b[0m\u001b[1;33m,\u001b[0m \u001b[1;33m(\u001b[0m\u001b[0ms\u001b[0m\u001b[1;33m,\u001b[0m\u001b[1;33m)\u001b[0m\u001b[1;33m)\u001b[0m\u001b[1;33m\u001b[0m\u001b[1;33m\u001b[0m\u001b[0m\n\u001b[0m\u001b[0;32m     14\u001b[0m         \u001b[0ms\u001b[0m\u001b[1;33m.\u001b[0m\u001b[0mrun\u001b[0m\u001b[1;33m(\u001b[0m\u001b[1;33m)\u001b[0m\u001b[1;33m\u001b[0m\u001b[1;33m\u001b[0m\u001b[0m\n\u001b[0;32m     15\u001b[0m \u001b[1;33m\u001b[0m\u001b[0m\n",
      "\u001b[1;31mNameError\u001b[0m: name 's' is not defined"
     ]
    }
   ],
   "source": [
    "import tkinter as tk\n",
    "    \n",
    "import time\n",
    "\n",
    "class Clock():\n",
    "    def __init__(self):\n",
    "        self.root = tk.Tk()\n",
    "        self.label = tk.Label(text=\"\", font=('Helvetica', 48), fg='red')\n",
    "        self.label.pack()\n",
    "        self.update_clock()\n",
    "        self.root.mainloop()\n",
    "        \n",
    "        s.enter(1, 1, do_something, (s,))\n",
    "        s.run()\n",
    "\n",
    "    def update_clock(self):\n",
    "        now = time.strftime(\"%H:%M:%S\")\n",
    "        self.label.configure(text=now)\n",
    "        #self.root.after(1000, self.update_clock)\n",
    "\n",
    "app=Clock()"
   ]
  }
 ],
 "metadata": {
  "kernelspec": {
   "display_name": "Python 3",
   "language": "python",
   "name": "python3"
  }
 },
 "nbformat": 4,
 "nbformat_minor": 4
}
