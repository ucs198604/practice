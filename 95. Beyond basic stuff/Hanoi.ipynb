{
 "cells": [
  {
   "cell_type": "code",
   "execution_count": 9,
   "metadata": {},
   "outputs": [],
   "source": [
    "def get_command_old(): # less clear version\n",
    "    command_combination = [a+b for a in STACK.keys() for b in STACK.keys() if a!=b]\n",
    "    \n",
    "    while True:\n",
    "        command = input(\"Please key in commond: \").upper()\n",
    "        if command == 'QUIT':\n",
    "            print('Aborted by the user')\n",
    "            sys.exit()\n",
    "        if command in command_combination:\n",
    "            origin, destination = command  # assign command\n",
    "            if STACK[origin]!=[]:\n",
    "                if STACK[destination]==[]:\n",
    "                    break  # can move\n",
    "                else:\n",
    "                    if STACK[origin][-1]<STACK[destination][-1]:  # if origin is smaller -> can move\n",
    "                        break\n",
    "                    else:\n",
    "                        print('Destination is too small')\n",
    "            else:\n",
    "                print('Origin is empty')\n",
    "        else:\n",
    "            print(\"Invalid command, please try again\")\n",
    "    print('Legit move')\n",
    "    return command\n",
    "\n",
    "def move(command):\n",
    "    origin, destination = command\n",
    "    STACK[destination].append(STACK[origin].pop())\n",
    "    \n",
    "def check_end():\n",
    "    if len(STACK['C'])==LAYER or len(STACK['B'])==LAYER:\n",
    "        return True\n",
    "\n",
    "def print_stack():\n",
    "    out_put = []\n",
    "    for layer in range(HEIGHT):\n",
    "        layer_string = ''\n",
    "        for each_stack in STACK.values():\n",
    "            try:\n",
    "                disc_size = each_stack[layer]\n",
    "            except:\n",
    "                disc_size = 0\n",
    "            if disc_size!=0:\n",
    "                stack_string = f\"{'@'*disc_size}|{disc_size}{'@'*disc_size}\".center(WIDTH,\" \")\n",
    "            else:\n",
    "                stack_string = f\"||\".center(WIDTH,\" \")\n",
    "            layer_string = layer_string + stack_string\n",
    "        out_put.insert(0,layer_string)\n",
    "    out_put.append(f\"{'A'.center(WIDTH,' ')+'B'.center(WIDTH,' ')+'C'.center(WIDTH,' ')}\")\n",
    "    for layer in out_put:\n",
    "        print(layer)\n"
   ]
  },
  {
   "cell_type": "code",
   "execution_count": 8,
   "metadata": {},
   "outputs": [],
   "source": [
    "def get_command():  # more clear\n",
    "    command_combination = [a+b for a in STACK.keys() for b in STACK.keys() if a!=b]\n",
    "    \n",
    "    while True:\n",
    "        command = input(\"Please key in commond: \").upper()\n",
    "        if command == 'QUIT':\n",
    "            print('Aborted by the user')\n",
    "            sys.exit()\n",
    "            \n",
    "        if command not in command_combination:\n",
    "            print(\"Invalid command, please try again\")\n",
    "            continue\n",
    "         \n",
    "        # 條列式把所有可能發生的錯誤一一給予反饋訊息\n",
    "        origin, destination = command  # assign command\n",
    "        if STACK[origin]==[]:\n",
    "            print('Origin is empty')\n",
    "            continue\n",
    "        elif STACK[destination]==[]:\n",
    "            break\n",
    "        elif STACK[origin][-1]>STACK[destination][-1]:  # if origin is smaller -> can move\n",
    "            print('Destination is too small')\n",
    "            continue\n",
    "        else:\n",
    "            break\n",
    "    print('Legit move')\n",
    "    return command"
   ]
  },
  {
   "cell_type": "code",
   "execution_count": 7,
   "metadata": {},
   "outputs": [
    {
     "name": "stdout",
     "output_type": "stream",
     "text": [
      "   ||      ||      ||   \n",
      "   ||      ||      ||   \n",
      "   ||      ||     @|1@  \n",
      "   ||      ||    @@|2@@ \n",
      "   ||      ||   @@@|3@@@\n",
      "   A       B       C    \n",
      "You won!\n"
     ]
    }
   ],
   "source": [
    "from IPython.display import clear_output\n",
    "import sys\n",
    "\n",
    "\n",
    "\n",
    "STACK = {'A':[],'B':[],'C':[]}\n",
    "LAYER = 3\n",
    "HEIGHT = LAYER +2  # height of towers\n",
    "WIDTH = LAYER*2 + 2\n",
    "STACK['A'] = [i for i in range(LAYER,0,-1)]   # stack, from long to short\n",
    "\n",
    "while True:\n",
    "    clear_output()\n",
    "    print_stack()\n",
    "    command = get_command()\n",
    "    move(command)\n",
    "    if check_end():\n",
    "        break\n",
    "clear_output()\n",
    "print_stack()\n",
    "print('You won!')"
   ]
  },
  {
   "cell_type": "code",
   "execution_count": 1,
   "metadata": {},
   "outputs": [
    {
     "ename": "SystemExit",
     "evalue": "",
     "output_type": "error",
     "traceback": [
      "An exception has occurred, use %tb to see the full traceback.\n",
      "\u001b[0;31mSystemExit\u001b[0m\n"
     ]
    },
    {
     "name": "stderr",
     "output_type": "stream",
     "text": [
      "/Users/yukuo/opt/anaconda3/lib/python3.7/site-packages/IPython/core/interactiveshell.py:3339: UserWarning: To exit: use 'exit', 'quit', or Ctrl-D.\n",
      "  warn(\"To exit: use 'exit', 'quit', or Ctrl-D.\", stacklevel=1)\n"
     ]
    }
   ],
   "source": [
    "sys.exit()"
   ]
  },
  {
   "cell_type": "code",
   "execution_count": 30,
   "metadata": {},
   "outputs": [
    {
     "data": {
      "text/plain": [
       "'1'"
      ]
     },
     "execution_count": 30,
     "metadata": {},
     "output_type": "execute_result"
    }
   ],
   "source": [
    "a"
   ]
  },
  {
   "cell_type": "code",
   "execution_count": null,
   "metadata": {},
   "outputs": [],
   "source": []
  }
 ],
 "metadata": {
  "kernelspec": {
   "display_name": "Python 3",
   "language": "python",
   "name": "python3"
  },
  "language_info": {
   "codemirror_mode": {
    "name": "ipython",
    "version": 3
   },
   "file_extension": ".py",
   "mimetype": "text/x-python",
   "name": "python",
   "nbconvert_exporter": "python",
   "pygments_lexer": "ipython3",
   "version": "3.7.4"
  }
 },
 "nbformat": 4,
 "nbformat_minor": 4
}
