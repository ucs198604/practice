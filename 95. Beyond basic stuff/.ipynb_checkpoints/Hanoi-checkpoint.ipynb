{
 "cells": [
  {
   "cell_type": "code",
   "execution_count": 129,
   "metadata": {},
   "outputs": [],
   "source": [
    "def get_command():  # more clear\n",
    "    command_combination = [a+b for a in STACK.keys() for b in STACK.keys() if a!=b]\n",
    "    \n",
    "    while True:\n",
    "        command = input(\"Please key in commond: \").upper()\n",
    "        if command == 'QUIT':\n",
    "            print('Aborted by the user')\n",
    "            sys.exit()\n",
    "            \n",
    "        if command not in command_combination:\n",
    "            print(\"Invalid command, please try again\")\n",
    "            continue\n",
    "         \n",
    "        # 條列式把所有可能發生的錯誤一一給予反饋訊息\n",
    "        origin, destination = command  # assign command\n",
    "        if STACK[origin]==[]:\n",
    "            print('Origin is empty')\n",
    "            continue\n",
    "        elif STACK[destination]==[]:\n",
    "            break\n",
    "        elif STACK[origin][-1]>STACK[destination][-1]:  # if origin is smaller -> can move\n",
    "            print('Destination is too small')\n",
    "            continue\n",
    "        else:\n",
    "            break\n",
    "    print('Legit move')\n",
    "    return command\n",
    "\n",
    "def move(command):\n",
    "    origin, destination = command\n",
    "    STACK[destination].append(STACK[origin].pop())\n",
    "    \n",
    "def check_end():\n",
    "    if len(STACK['C'])==LAYER or len(STACK['B'])==LAYER:\n",
    "        return True\n",
    "\n",
    "def print_stack():\n",
    "    out_put = []\n",
    "    for layer in range(HEIGHT):\n",
    "        layer_string = ''\n",
    "        for each_stack in STACK.values():\n",
    "            try:\n",
    "                disc_size = each_stack[layer]\n",
    "            except:\n",
    "                disc_size = 0\n",
    "            if disc_size!=0:\n",
    "                stack_string = f\"{'@'*disc_size}|{disc_size}{'@'*disc_size}\".center(WIDTH,\" \")\n",
    "            else:\n",
    "                stack_string = f\"||\".center(WIDTH,\" \")\n",
    "            layer_string = layer_string + stack_string\n",
    "        out_put.insert(0,layer_string)\n",
    "    out_put.append(f\"{'A'.center(WIDTH,' ')+'B'.center(WIDTH,' ')+'C'.center(WIDTH,' ')}\")\n",
    "    for layer in out_put:\n",
    "        print(layer)"
   ]
  },
  {
   "cell_type": "markdown",
   "metadata": {},
   "source": [
    "## Auto-play"
   ]
  },
  {
   "cell_type": "code",
   "execution_count": 125,
   "metadata": {},
   "outputs": [
    {
     "name": "stdout",
     "output_type": "stream",
     "text": [
      "   ||      ||      ||   \n",
      "   ||      ||      ||   \n",
      "  @|1@     ||      ||   \n",
      " @@|2@@    ||      ||   \n",
      "@@@|3@@@   ||      ||   \n",
      "   A       B       C    \n",
      "Please key in commond: quit\n",
      "Aborted by the user\n"
     ]
    },
    {
     "ename": "SystemExit",
     "evalue": "",
     "output_type": "error",
     "traceback": [
      "An exception has occurred, use %tb to see the full traceback.\n",
      "\u001b[0;31mSystemExit\u001b[0m\n"
     ]
    },
    {
     "name": "stderr",
     "output_type": "stream",
     "text": [
      "/Users/yukuo/opt/anaconda3/lib/python3.7/site-packages/IPython/core/interactiveshell.py:3339: UserWarning: To exit: use 'exit', 'quit', or Ctrl-D.\n",
      "  warn(\"To exit: use 'exit', 'quit', or Ctrl-D.\", stacklevel=1)\n"
     ]
    }
   ],
   "source": []
  },
  {
   "cell_type": "markdown",
   "metadata": {},
   "source": [
    "## Solution for Hanoi problem"
   ]
  },
  {
   "cell_type": "code",
   "execution_count": 93,
   "metadata": {},
   "outputs": [
    {
     "data": {
      "text/plain": [
       "{'plate_number': 0, 'origin': 'A', 'target': 'C'}"
      ]
     },
     "execution_count": 93,
     "metadata": {},
     "output_type": "execute_result"
    }
   ],
   "source": [
    "a = copy.deepcopy(solution_move[0])\n",
    "a['plate_number'] = 0\n",
    "a"
   ]
  },
  {
   "cell_type": "code",
   "execution_count": 128,
   "metadata": {},
   "outputs": [
    {
     "data": {
      "text/plain": [
       "[{'plate_number': 1, 'origin': 'A', 'target': 'C'},\n",
       " {'plate_number': 1, 'origin': 'A', 'target': 'B'},\n",
       " {'plate_number': 1, 'origin': 'C', 'target': 'B'},\n",
       " {'plate_number': 1, 'origin': 'A', 'target': 'C'},\n",
       " {'plate_number': 1, 'origin': 'B', 'target': 'A'},\n",
       " {'plate_number': 1, 'origin': 'B', 'target': 'C'},\n",
       " {'plate_number': 1, 'origin': 'A', 'target': 'C'}]"
      ]
     },
     "execution_count": 128,
     "metadata": {},
     "output_type": "execute_result"
    }
   ],
   "source": [
    "solution_move"
   ]
  },
  {
   "cell_type": "code",
   "execution_count": 131,
   "metadata": {},
   "outputs": [
    {
     "data": {
      "text/plain": [
       "'AC'"
      ]
     },
     "execution_count": 131,
     "metadata": {},
     "output_type": "execute_result"
    }
   ],
   "source": [
    "command"
   ]
  },
  {
   "cell_type": "code",
   "execution_count": 171,
   "metadata": {},
   "outputs": [
    {
     "name": "stdout",
     "output_type": "stream",
     "text": [
      "     ||          ||          ||     \n",
      "     ||          ||          ||     \n",
      "     ||          ||         @|1@    \n",
      "     ||          ||        @@|2@@   \n",
      "     ||          ||       @@@|3@@@  \n",
      "     ||          ||      @@@@|4@@@@ \n",
      "     ||          ||     @@@@@|5@@@@@\n",
      "     A           B           C      \n",
      "\n",
      "== Solution ==\n",
      "    A -> C    \n",
      "    A -> B    \n",
      "    C -> B    \n",
      "    A -> C    \n",
      "    B -> A    \n",
      "    B -> C    \n",
      "    A -> C    \n",
      "    A -> B    \n",
      "    C -> B    \n",
      "    C -> A    \n",
      "    B -> A    \n",
      "    C -> B    \n",
      "    A -> C    \n",
      "    A -> B    \n",
      "    C -> B    \n",
      "    A -> C    \n",
      "    B -> A    \n",
      "    B -> C    \n",
      "    A -> C    \n",
      "    B -> A    \n",
      "    C -> B    \n",
      "    C -> A    \n",
      "    B -> A    \n",
      "    B -> C    \n",
      "    A -> C    \n",
      "    A -> B    \n",
      "    C -> B    \n",
      "    A -> C    \n",
      "    B -> A    \n",
      "    B -> C    \n",
      "    A -> C    \n"
     ]
    }
   ],
   "source": [
    "from IPython.display import clear_output\n",
    "import sys\n",
    "import time\n",
    "import copy\n",
    "\n",
    "\n",
    "\n",
    "STACK = {'A':[],'B':[],'C':[]}\n",
    "LAYER = 5\n",
    "HEIGHT = LAYER +2  # height of towers\n",
    "WIDTH = LAYER*2 + 2 # width of each layer,create space\n",
    "\n",
    "# create initial stack\n",
    "STACK['A'] = [i for i in range(LAYER,0,-1)]   # stack, from long to short\n",
    "\n",
    "# move from stack A to stack C\n",
    "solution_move = [{'plate_number':LAYER,'origin':'A','target':'C'}]\n",
    "# get solution\n",
    "solution_move = get_solution(solution_move)\n",
    "\n",
    "\n",
    "for each_move in solution_move:\n",
    "    clear_output(wait=True)\n",
    "    print(f\"Next move: {each_move['origin']} -> {each_move['target']}\")\n",
    "    print_stack()\n",
    "    command = each_move['origin']+each_move['target']\n",
    "    move(command)\n",
    "    time.sleep(0.3)\n",
    "    \n",
    "    \n",
    "    \n",
    "time.sleep(0.3)\n",
    "clear_output()\n",
    "print_stack()\n",
    "\n",
    "print()\n",
    "print('== Solution ==')\n",
    "for each_move in solution_move:\n",
    "    print(f\"{each_move['origin']} -> {each_move['target']}\".center(14,' '))\n",
    "\n",
    "\n",
    "\n",
    "\n"
   ]
  },
  {
   "cell_type": "code",
   "execution_count": 164,
   "metadata": {},
   "outputs": [
    {
     "data": {
      "text/plain": [
       "16"
      ]
     },
     "execution_count": 164,
     "metadata": {},
     "output_type": "execute_result"
    }
   ],
   "source": [
    "len(\"=== Solution ===\")"
   ]
  },
  {
   "cell_type": "code",
   "execution_count": 126,
   "metadata": {},
   "outputs": [],
   "source": [
    "def get_solution(solution_move):\n",
    "    while True:\n",
    "        # if no number_of_not_size_1 -> then all 1 -> finish\n",
    "        number_of_not_size_1 = len([item['plate_number'] for item in solution_move if item['plate_number']!=1])\n",
    "        if number_of_not_size_1==0:\n",
    "            break\n",
    "\n",
    "        # break down number which is not 1\n",
    "        for ind, itm in enumerate(solution_move):\n",
    "            if itm['plate_number'] !=1:\n",
    "                step1 = copy.deepcopy(itm)\n",
    "                step2 = copy.deepcopy(itm)\n",
    "                step3 = copy.deepcopy(itm)\n",
    "                # set num of plates\n",
    "                step1['plate_number'] = step1['plate_number'] -1\n",
    "                step2['plate_number'] = 1\n",
    "                step3['plate_number'] = step3['plate_number'] -1\n",
    "\n",
    "                # set target and origin\n",
    "                # step1: origin -> not ori/not target\n",
    "                step1['origin'] = itm['origin'] \n",
    "                step1['target'] = 'ABC'.replace(itm['origin'],'').replace(itm['target'],'')\n",
    "                # step2: keep the same\n",
    "                step2['origin'] = itm['origin'] \n",
    "                step2['target'] = itm['target']\n",
    "                # step3: not ori/not target -> target\n",
    "                step3['origin'] = 'ABC'.replace(itm['origin'],'').replace(itm['target'],'')\n",
    "                step3['target'] = itm['target']\n",
    "\n",
    "                # into the slot\n",
    "                solution_move[ind] = [step1,step2,step3]\n",
    "\n",
    "        # flatten the solution list\n",
    "        temp_list = []\n",
    "        for itm in solution_move:\n",
    "            if type(itm)==list:\n",
    "                temp_list.append(itm[0])\n",
    "                temp_list.append(itm[1])\n",
    "                temp_list.append(itm[2])\n",
    "            else:\n",
    "                temp_list.append(itm)\n",
    "        solution_move=temp_list\n",
    "    return solution_move"
   ]
  },
  {
   "cell_type": "code",
   "execution_count": 123,
   "metadata": {},
   "outputs": [
    {
     "data": {
      "text/plain": [
       "[{'plate_number': 1, 'origin': 'A', 'target': 'B'},\n",
       " {'plate_number': 1, 'origin': 'A', 'target': 'C'},\n",
       " {'plate_number': 1, 'origin': 'B', 'target': 'C'},\n",
       " {'plate_number': 1, 'origin': 'A', 'target': 'B'},\n",
       " {'plate_number': 1, 'origin': 'C', 'target': 'A'},\n",
       " {'plate_number': 1, 'origin': 'C', 'target': 'B'},\n",
       " {'plate_number': 1, 'origin': 'A', 'target': 'B'},\n",
       " {'plate_number': 1, 'origin': 'A', 'target': 'C'},\n",
       " {'plate_number': 1, 'origin': 'B', 'target': 'C'},\n",
       " {'plate_number': 1, 'origin': 'B', 'target': 'A'},\n",
       " {'plate_number': 1, 'origin': 'C', 'target': 'A'},\n",
       " {'plate_number': 1, 'origin': 'B', 'target': 'C'},\n",
       " {'plate_number': 1, 'origin': 'A', 'target': 'B'},\n",
       " {'plate_number': 1, 'origin': 'A', 'target': 'C'},\n",
       " {'plate_number': 1, 'origin': 'B', 'target': 'C'}]"
      ]
     },
     "execution_count": 123,
     "metadata": {},
     "output_type": "execute_result"
    }
   ],
   "source": [
    "solution_move"
   ]
  },
  {
   "cell_type": "code",
   "execution_count": null,
   "metadata": {},
   "outputs": [],
   "source": [
    "\n"
   ]
  },
  {
   "cell_type": "code",
   "execution_count": 17,
   "metadata": {
    "scrolled": true
   },
   "outputs": [
    {
     "data": {
      "text/plain": [
       "{'plate_number': 3, 'origin': 'A', 'target': 'C'}"
      ]
     },
     "execution_count": 17,
     "metadata": {},
     "output_type": "execute_result"
    }
   ],
   "source": [
    "MOVE"
   ]
  },
  {
   "cell_type": "code",
   "execution_count": null,
   "metadata": {},
   "outputs": [],
   "source": [
    "a = [1,3,1]\n",
    "\n",
    "while True:\n",
    "    # if no number_of_not_size_1 -> then all 1 -> finish\n",
    "    number_of_not_size_1 = len([item['plate_number'] for item in solution_move if item['plate_number']!=1])\n",
    "    if number_of_not_size_1==0:\n",
    "        break\n",
    "\n",
    "    # break down number which is not 1\n",
    "    for ind, itm in enumerate(a):\n",
    "        if itm !=1:\n",
    "            a[ind] = [itm-1,itm-1,itm-1]\n",
    "            \n",
    "    # flatten the list\n",
    "    temp_list = []\n",
    "    for itm in a:\n",
    "        if type(itm)==list:\n",
    "            temp_list.append(itm[0])\n",
    "            temp_list.append(itm[1])\n",
    "            temp_list.append(itm[2])\n",
    "        else:\n",
    "            temp_list.append(itm)\n",
    "    a=temp_list"
   ]
  },
  {
   "cell_type": "code",
   "execution_count": null,
   "metadata": {},
   "outputs": [],
   "source": []
  },
  {
   "cell_type": "code",
   "execution_count": 8,
   "metadata": {
    "scrolled": true
   },
   "outputs": [
    {
     "data": {
      "text/plain": [
       "dict_keys(['A', 'B', 'C'])"
      ]
     },
     "execution_count": 8,
     "metadata": {},
     "output_type": "execute_result"
    }
   ],
   "source": [
    "stack_name"
   ]
  },
  {
   "cell_type": "markdown",
   "metadata": {},
   "source": [
    "## Player version"
   ]
  },
  {
   "cell_type": "code",
   "execution_count": null,
   "metadata": {},
   "outputs": [],
   "source": [
    "from IPython.display import clear_output\n",
    "import sys\n",
    "\n",
    "\n",
    "\n",
    "STACK = {'A':[],'B':[],'C':[]}\n",
    "LAYER = 3\n",
    "HEIGHT = LAYER +2  # height of towers\n",
    "WIDTH = LAYER*2 + 2\n",
    "STACK['A'] = [i for i in range(LAYER,0,-1)]   # stack, from long to short\n",
    "\n",
    "while True:\n",
    "    clear_output()\n",
    "    print_stack()\n",
    "    command = get_command()\n",
    "    move(command)\n",
    "    if check_end():\n",
    "        break\n",
    "clear_output()\n",
    "print_stack()\n",
    "print('You won!')"
   ]
  },
  {
   "cell_type": "code",
   "execution_count": 9,
   "metadata": {},
   "outputs": [],
   "source": [
    "def get_command_old(): # less clear version\n",
    "    command_combination = [a+b for a in STACK.keys() for b in STACK.keys() if a!=b]\n",
    "    \n",
    "    while True:\n",
    "        command = input(\"Please key in commond: \").upper()\n",
    "        if command == 'QUIT':\n",
    "            print('Aborted by the user')\n",
    "            sys.exit()\n",
    "        if command in command_combination:\n",
    "            origin, destination = command  # assign command\n",
    "            if STACK[origin]!=[]:\n",
    "                if STACK[destination]==[]:\n",
    "                    break  # can move\n",
    "                else:\n",
    "                    if STACK[origin][-1]<STACK[destination][-1]:  # if origin is smaller -> can move\n",
    "                        break\n",
    "                    else:\n",
    "                        print('Destination is too small')\n",
    "            else:\n",
    "                print('Origin is empty')\n",
    "        else:\n",
    "            print(\"Invalid command, please try again\")\n",
    "    print('Legit move')\n",
    "    return command\n",
    "\n",
    "\n"
   ]
  }
 ],
 "metadata": {
  "kernelspec": {
   "display_name": "Python 3",
   "language": "python",
   "name": "python3"
  },
  "language_info": {
   "codemirror_mode": {
    "name": "ipython",
    "version": 3
   },
   "file_extension": ".py",
   "mimetype": "text/x-python",
   "name": "python",
   "nbconvert_exporter": "python",
   "pygments_lexer": "ipython3",
   "version": "3.7.4"
  }
 },
 "nbformat": 4,
 "nbformat_minor": 4
}
