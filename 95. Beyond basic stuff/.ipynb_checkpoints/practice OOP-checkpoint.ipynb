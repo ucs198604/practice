{
 "cells": [
  {
   "cell_type": "code",
   "execution_count": 74,
   "metadata": {},
   "outputs": [],
   "source": [
    "class WizCoin:\n",
    "    def __init__(self, galleons, sickles, knuts):\n",
    "        \"\"\"Create new \"\"\"\n",
    "        self._galleons = galleons\n",
    "        self._sickles = sickles\n",
    "        self._knuts = knuts\n",
    "    def number_of_coin(self):\n",
    "        return self._galleons+self._sickles+self._knuts\n",
    "class Wizard:\n",
    "    def __init__(self,name):\n",
    "        self.name = name\n",
    "        self.wallet = WizCoin(0,0,0)\n",
    "        self._someValue = 'initial value'\n",
    "    \n",
    "    @property\n",
    "    def forSomeValue(self):\n",
    "        print('The getter is called')\n",
    "        return self._someValue\n",
    "    \n",
    "    @forSomeValue.setter\n",
    "    def setSomeValue(self,value):\n",
    "        print('The setter is called')\n",
    "        self._someValue = value\n",
    "    \n",
    "    @forSomeValue.deleter\n",
    "    def delSomeValue(self):\n",
    "        print('The deleter is called')\n",
    "        del self._someValue\n"
   ]
  },
  {
   "cell_type": "code",
   "execution_count": 113,
   "metadata": {},
   "outputs": [
    {
     "data": {
      "text/plain": [
       "5"
      ]
     },
     "execution_count": 113,
     "metadata": {},
     "output_type": "execute_result"
    }
   ],
   "source": [
    "11//2"
   ]
  },
  {
   "cell_type": "code",
   "execution_count": 68,
   "metadata": {},
   "outputs": [
    {
     "ename": "myException",
     "evalue": "This is an example",
     "output_type": "error",
     "traceback": [
      "\u001b[0;31m---------------------------------------------------------------------------\u001b[0m",
      "\u001b[0;31mmyException\u001b[0m                               Traceback (most recent call last)",
      "\u001b[0;32m<ipython-input-68-3e211891766a>\u001b[0m in \u001b[0;36m<module>\u001b[0;34m\u001b[0m\n\u001b[1;32m      2\u001b[0m     \u001b[0;32mpass\u001b[0m\u001b[0;34m\u001b[0m\u001b[0;34m\u001b[0m\u001b[0m\n\u001b[1;32m      3\u001b[0m \u001b[0;34m\u001b[0m\u001b[0m\n\u001b[0;32m----> 4\u001b[0;31m \u001b[0;32mraise\u001b[0m \u001b[0mmyException\u001b[0m\u001b[0;34m(\u001b[0m\u001b[0;34m'This is an example'\u001b[0m\u001b[0;34m)\u001b[0m\u001b[0;34m\u001b[0m\u001b[0;34m\u001b[0m\u001b[0m\n\u001b[0m",
      "\u001b[0;31mmyException\u001b[0m: This is an example"
     ]
    }
   ],
   "source": [
    "class myException(Exception):\n",
    "    pass\n",
    "\n",
    "raise myException('This is an example')"
   ]
  },
  {
   "cell_type": "code",
   "execution_count": null,
   "metadata": {},
   "outputs": [],
   "source": []
  },
  {
   "cell_type": "code",
   "execution_count": 83,
   "metadata": {},
   "outputs": [
    {
     "ename": "NameError",
     "evalue": "name 'myReport' is not defined",
     "output_type": "error",
     "traceback": [
      "\u001b[0;31m---------------------------------------------------------------------------\u001b[0m",
      "\u001b[0;31mNameError\u001b[0m                                 Traceback (most recent call last)",
      "\u001b[0;32m<ipython-input-83-8f08c05680f8>\u001b[0m in \u001b[0;36m<module>\u001b[0;34m\u001b[0m\n\u001b[0;32m----> 1\u001b[0;31m \u001b[0mmyReport\u001b[0m\u001b[0;34m\u001b[0m\u001b[0;34m\u001b[0m\u001b[0m\n\u001b[0m",
      "\u001b[0;31mNameError\u001b[0m: name 'myReport' is not defined"
     ]
    }
   ],
   "source": [
    "myReport"
   ]
  },
  {
   "cell_type": "code",
   "execution_count": 99,
   "metadata": {},
   "outputs": [
    {
     "name": "stdout",
     "output_type": "stream",
     "text": [
      "CT is setted\n",
      "CT is get\n",
      "CT is setted\n",
      "CT is get\n"
     ]
    },
    {
     "data": {
      "text/plain": [
       "48"
      ]
     },
     "execution_count": 99,
     "metadata": {},
     "output_type": "execute_result"
    }
   ],
   "source": [
    "class myException(Exception):\n",
    "    pass\n",
    "\n",
    "\n",
    "\n",
    "class Report():\n",
    "    def __init__(self, ct, mr, pf):\n",
    "        self.ct = ct\n",
    "        self.mr = mr\n",
    "        self.pf = pf\n",
    "        \n",
    "    # using getter/setter/deleter\n",
    "    @property\n",
    "    def ct(self):\n",
    "        return self._ct\n",
    "    \n",
    "    @ct.setter\n",
    "    def ct(self,value):\n",
    "        self._ct = value\n",
    "        \n",
    "    def __mul__(self, other):\n",
    "        if not isinstance(other, int):\n",
    "            return NotImplenmented\n",
    "        if other<0:\n",
    "            raise myException('The value must be positive integer')\n",
    "        return Report(self.ct*other, self.mr*other, self.pf*other)\n",
    "        \n",
    "    \n",
    "myReport = Report(6,6,6)\n",
    "multiplyReport = myReport * 8\n",
    "multiplyReport.ct"
   ]
  },
  {
   "cell_type": "code",
   "execution_count": 92,
   "metadata": {},
   "outputs": [
    {
     "ename": "AttributeError",
     "evalue": "can't set attribute",
     "output_type": "error",
     "traceback": [
      "\u001b[0;31m---------------------------------------------------------------------------\u001b[0m",
      "\u001b[0;31mAttributeError\u001b[0m                            Traceback (most recent call last)",
      "\u001b[0;32m<ipython-input-92-08c70dcdac89>\u001b[0m in \u001b[0;36m<module>\u001b[0;34m\u001b[0m\n\u001b[1;32m     11\u001b[0m \u001b[0;34m\u001b[0m\u001b[0m\n\u001b[1;32m     12\u001b[0m \u001b[0mmyReport\u001b[0m \u001b[0;34m=\u001b[0m \u001b[0mReport\u001b[0m\u001b[0;34m(\u001b[0m\u001b[0;36m2\u001b[0m\u001b[0;34m,\u001b[0m\u001b[0;36m1\u001b[0m\u001b[0;34m,\u001b[0m\u001b[0;36m5\u001b[0m\u001b[0;34m)\u001b[0m\u001b[0;34m\u001b[0m\u001b[0;34m\u001b[0m\u001b[0m\n\u001b[0;32m---> 13\u001b[0;31m \u001b[0mmyReport\u001b[0m\u001b[0;34m.\u001b[0m\u001b[0mtotal_report\u001b[0m \u001b[0;34m=\u001b[0m \u001b[0;36m100\u001b[0m\u001b[0;34m\u001b[0m\u001b[0;34m\u001b[0m\u001b[0m\n\u001b[0m",
      "\u001b[0;31mAttributeError\u001b[0m: can't set attribute"
     ]
    }
   ],
   "source": [
    "class Report():\n",
    "    def __init__(self, ct, mr, pf):\n",
    "        self.ct = ct\n",
    "        self.mr = mr\n",
    "        self.pf = pf\n",
    "        \n",
    "    # property with only getter, no setter/deleter -> a read-only property\n",
    "    @property\n",
    "    def total_report(self):\n",
    "        return self.ct+self.mr+self.pf\n",
    "    \n",
    "myReport = Report(2,1,5)\n",
    "myReport.total_report = 100"
   ]
  },
  {
   "cell_type": "code",
   "execution_count": 147,
   "metadata": {},
   "outputs": [
    {
     "data": {
      "text/plain": [
       "False"
      ]
     },
     "execution_count": 147,
     "metadata": {},
     "output_type": "execute_result"
    }
   ],
   "source": [
    "class myException(Exception):\n",
    "    pass\n",
    "\n",
    "\n",
    "\n",
    "class Report():\n",
    "    def __init__(self, ct, mr, pf):\n",
    "        self.ct = ct\n",
    "        self.mr = mr\n",
    "        self.pf = pf\n",
    "\n",
    "    def __add__(self,other):\n",
    "        return Report(self.ct+other.ct, self.mr+other.mr, self.pf+other.pf)\n",
    "    \"\"\"  \n",
    "    def __iadd__(self, other):\n",
    "        self.ct += other.ct\n",
    "        self.mr += other.mr\n",
    "        self.pf += other.pf\n",
    "        return self\n",
    "    \"\"\"\n",
    "    def __mul__(self, other):\n",
    "        if not isinstance(other, int):\n",
    "            return NotImplemented\n",
    "        if other<0:\n",
    "            raise myException('The value must be positive integer')\n",
    "        return Report(self.ct*other, self.mr*other, self.pf*other)\n",
    "    \n",
    "    def __rmul__(self, other):\n",
    "        return self.__mul__(other)\n",
    "    \n",
    "    def __repr__(self):\n",
    "        return f\"{self.__class__.__qualname__}({self.ct},{self.mr},{self.pf})\"\n",
    "\n",
    "    \n",
    "a = Report(6,6,6)\n",
    "b = Report(6,6,6)\n",
    "a==b\n",
    "\n"
   ]
  },
  {
   "cell_type": "code",
   "execution_count": 180,
   "metadata": {},
   "outputs": [],
   "source": [
    "## Comparison\n",
    "\n",
    "import collections.abc\n",
    "import operator\n",
    "\n",
    "class Report():\n",
    "    def __init__(self, ct, mr, pf):\n",
    "        self.ct = ct\n",
    "        self.mr = mr\n",
    "        self.pf = pf\n",
    "        \n",
    "    def __repr__(self):\n",
    "        return f\"{self.__class__.__qualname__}({self.ct},{self.mr},{self.pf})\"\n",
    "        \n",
    "    # set a property called total\n",
    "    @property\n",
    "    def total(self):\n",
    "        return self.ct*2 + self.ct*4 + self.pf*0.2\n",
    "\n",
    "    def _comparisonOperatorHelper(self, operatorFunc, other):\n",
    "        # 如果 operator 後面那個 other也是 Report object，那麼將 self/other兩者的 total 互相比較 \n",
    "        if isinstance(other, Report): \n",
    "            return operatorFunc(self.total, other.total)\n",
    "        # 如果 other 是 int or float,那就跟 total 比較 \n",
    "        elif isinstance(other, (int,float)):\n",
    "            return operatorFunc(self.total, other)\n",
    "        # 如果 other 是 一連串的容器，那麼依序賦值，比較總和\n",
    "        elif isinstance(other, collections.abc.Sequence):\n",
    "            otherValue = other[0]*2 + other[1]*4 + other[2]*0.2\n",
    "            return operatorFunc(self.total, otherValue)\n",
    "        # 如果 沒有支援的 type，那麼就回傳 False，不同\n",
    "        elif operatorFunc==operator.eq:\n",
    "            return False\n",
    "        elif operatorFunc==operator.ne:\n",
    "            return True\n",
    "        else:\n",
    "            return NotImplemented\n",
    "    def __eq__(self,other):\n",
    "        return self._comparisonOperatorHelper(operator.eq, other)\n",
    "    def __ne__(self,other):\n",
    "        return self._comparisonOperatorHelper(operator.ne, other)\n",
    "    def __lt__(self,other):\n",
    "        return self._comparisonOperatorHelper(operator.lt, other)\n",
    "    def __le__(self,other):\n",
    "        return self._comparisonOperatorHelper(operator.le, other)\n",
    "    def __gt__(self,other):\n",
    "        return self._comparisonOperatorHelper(operator.gt, other)\n",
    "    def __ge__(self,other):\n",
    "        return self._comparisonOperatorHelper(operator.ge, other)"
   ]
  },
  {
   "cell_type": "code",
   "execution_count": 182,
   "metadata": {},
   "outputs": [
    {
     "data": {
      "text/plain": [
       "[Report(1,2,34), Report(6,6,6), Report(0,0,100000)]"
      ]
     },
     "execution_count": 182,
     "metadata": {},
     "output_type": "execute_result"
    }
   ],
   "source": [
    " \n",
    "\n",
    "    \n",
    "a = Report(6,6,6)\n",
    "b = Report(1,2,34)\n",
    "c = Report(0,0,100000)\n",
    "rep = [c,b,a]\n",
    "rep.sort()\n",
    "rep"
   ]
  },
  {
   "cell_type": "code",
   "execution_count": null,
   "metadata": {},
   "outputs": [],
   "source": []
  },
  {
   "cell_type": "markdown",
   "metadata": {},
   "source": [
    "## class method\n"
   ]
  },
  {
   "cell_type": "code",
   "execution_count": 53,
   "metadata": {},
   "outputs": [],
   "source": [
    "class double_string:\n",
    "    def __init__(self, st):\n",
    "        self.st = st *2\n",
    "    def display(self):\n",
    "        print(self.st)\n",
    "\n",
    "    @classmethod\n",
    "    def fromFile(cls, filename):\n",
    "        with open(filename,'r') as f:\n",
    "            text = f.read()\n",
    "            return cls(text)\n",
    "        \n",
    "class triple_string(double_string):\n",
    "    def __init__(self,st):\n",
    "        self.st = st *3"
   ]
  },
  {
   "cell_type": "code",
   "execution_count": 54,
   "metadata": {},
   "outputs": [
    {
     "name": "stdout",
     "output_type": "stream",
     "text": [
      "this is from internalthis is from internal\n"
     ]
    }
   ],
   "source": [
    "string = \"this is from internal\"\n",
    "\n",
    "obj = double_string(string)\n",
    "obj.display()"
   ]
  },
  {
   "cell_type": "code",
   "execution_count": 55,
   "metadata": {},
   "outputs": [
    {
     "name": "stdout",
     "output_type": "stream",
     "text": [
      "read from fileread from file\n"
     ]
    }
   ],
   "source": [
    "obj_ext = double_string.fromFile('external_file.txt')\n",
    "obj_ext.display()"
   ]
  },
  {
   "cell_type": "code",
   "execution_count": 56,
   "metadata": {},
   "outputs": [
    {
     "name": "stdout",
     "output_type": "stream",
     "text": [
      "this is from internalthis is from internalthis is from internal\n"
     ]
    }
   ],
   "source": [
    "obj3 = triple_string(string)\n",
    "obj3.display()"
   ]
  },
  {
   "cell_type": "code",
   "execution_count": 57,
   "metadata": {},
   "outputs": [
    {
     "name": "stdout",
     "output_type": "stream",
     "text": [
      "read from fileread from fileread from file\n"
     ]
    }
   ],
   "source": [
    "obj3_ext = triple_string.fromFile('external_file.txt')\n",
    "obj3_ext.display()"
   ]
  },
  {
   "cell_type": "code",
   "execution_count": null,
   "metadata": {},
   "outputs": [],
   "source": []
  },
  {
   "cell_type": "code",
   "execution_count": 86,
   "metadata": {},
   "outputs": [],
   "source": [
    "class Book:\n",
    "    total = 0\n",
    "    def __init__(self,name):\n",
    "        self.name = name\n",
    "        Book.total+=1\n",
    "    def count(self):\n",
    "        print(f\"Total: {Book.total}\")\n",
    "        \n",
    "    @classmethod\n",
    "    def count_class(cls):\n",
    "        print(f\"Total: {cls.total}\")"
   ]
  },
  {
   "cell_type": "code",
   "execution_count": 91,
   "metadata": {},
   "outputs": [],
   "source": [
    "a = Book('a')"
   ]
  },
  {
   "cell_type": "code",
   "execution_count": 92,
   "metadata": {},
   "outputs": [
    {
     "name": "stdout",
     "output_type": "stream",
     "text": [
      "Total: 4\n"
     ]
    }
   ],
   "source": [
    "a.count_class()"
   ]
  },
  {
   "cell_type": "code",
   "execution_count": null,
   "metadata": {},
   "outputs": [],
   "source": []
  },
  {
   "cell_type": "code",
   "execution_count": 123,
   "metadata": {},
   "outputs": [],
   "source": [
    "class A:\n",
    "    pass\n",
    "class B(A):\n",
    "    pass\n",
    "class C(A):\n",
    "    pass\n",
    "\n",
    "\n",
    "class Zero(C,B):\n",
    "    pass\n",
    "\n",
    "a = Zero()\n",
    "    "
   ]
  },
  {
   "cell_type": "code",
   "execution_count": 125,
   "metadata": {},
   "outputs": [
    {
     "data": {
      "text/plain": [
       "True"
      ]
     },
     "execution_count": 125,
     "metadata": {},
     "output_type": "execute_result"
    }
   ],
   "source": [
    "isinstance(a, A)"
   ]
  },
  {
   "cell_type": "code",
   "execution_count": 102,
   "metadata": {},
   "outputs": [
    {
     "data": {
      "text/plain": [
       "[__main__.C,\n",
       " __main__.A_btm,\n",
       " __main__.A_top,\n",
       " __main__.B_btm,\n",
       " __main__.B_top,\n",
       " object]"
      ]
     },
     "execution_count": 102,
     "metadata": {},
     "output_type": "execute_result"
    }
   ],
   "source": [
    "C.mro()"
   ]
  },
  {
   "cell_type": "code",
   "execution_count": 115,
   "metadata": {},
   "outputs": [
    {
     "data": {
      "text/plain": [
       "False"
      ]
     },
     "execution_count": 115,
     "metadata": {},
     "output_type": "execute_result"
    }
   ],
   "source": []
  },
  {
   "cell_type": "code",
   "execution_count": null,
   "metadata": {},
   "outputs": [],
   "source": []
  }
 ],
 "metadata": {
  "kernelspec": {
   "display_name": "Python 3",
   "language": "python",
   "name": "python3"
  },
  "language_info": {
   "codemirror_mode": {
    "name": "ipython",
    "version": 3
   },
   "file_extension": ".py",
   "mimetype": "text/x-python",
   "name": "python",
   "nbconvert_exporter": "python",
   "pygments_lexer": "ipython3",
   "version": "3.7.4"
  }
 },
 "nbformat": 4,
 "nbformat_minor": 4
}
