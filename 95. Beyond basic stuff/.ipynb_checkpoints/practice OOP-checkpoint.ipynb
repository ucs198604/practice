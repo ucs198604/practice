{
 "cells": [
  {
   "cell_type": "code",
   "execution_count": 30,
   "metadata": {},
   "outputs": [],
   "source": [
    "class WizCoin:\n",
    "    def __init__(self, galleons, sickles, knuts):\n",
    "        \"\"\"Create new \"\"\"\n",
    "        self._galleons = galleons\n",
    "        self._sickles = sickles\n",
    "        self._knuts = knuts\n",
    "    def number_of_coin(self):\n",
    "        return self._galleons+self._sickles+self._knuts\n",
    "\n",
    "class Wizard:\n",
    "    def __init__(self,name):\n",
    "        self.name = name\n",
    "        self.wallet = WizCoin(0,0,0)\n",
    "        "
   ]
  },
  {
   "cell_type": "code",
   "execution_count": 31,
   "metadata": {},
   "outputs": [
    {
     "name": "stdout",
     "output_type": "stream",
     "text": [
      "Andy 0\n"
     ]
    }
   ],
   "source": [
    "wiz = Wizard('Andy')\n",
    "print(wiz.name, wiz.wallet.number_of_coin())"
   ]
  },
  {
   "cell_type": "markdown",
   "metadata": {},
   "source": [
    "## class method\n"
   ]
  },
  {
   "cell_type": "code",
   "execution_count": 53,
   "metadata": {},
   "outputs": [],
   "source": [
    "class double_string:\n",
    "    def __init__(self, st):\n",
    "        self.st = st *2\n",
    "    def display(self):\n",
    "        print(self.st)\n",
    "\n",
    "    @classmethod\n",
    "    def fromFile(cls, filename):\n",
    "        with open(filename,'r') as f:\n",
    "            text = f.read()\n",
    "            return cls(text)\n",
    "        \n",
    "class triple_string(double_string):\n",
    "    def __init__(self,st):\n",
    "        self.st = st *3"
   ]
  },
  {
   "cell_type": "code",
   "execution_count": 54,
   "metadata": {},
   "outputs": [
    {
     "name": "stdout",
     "output_type": "stream",
     "text": [
      "this is from internalthis is from internal\n"
     ]
    }
   ],
   "source": [
    "string = \"this is from internal\"\n",
    "\n",
    "obj = double_string(string)\n",
    "obj.display()"
   ]
  },
  {
   "cell_type": "code",
   "execution_count": 55,
   "metadata": {},
   "outputs": [
    {
     "name": "stdout",
     "output_type": "stream",
     "text": [
      "read from fileread from file\n"
     ]
    }
   ],
   "source": [
    "obj_ext = double_string.fromFile('external_file.txt')\n",
    "obj_ext.display()"
   ]
  },
  {
   "cell_type": "code",
   "execution_count": 56,
   "metadata": {},
   "outputs": [
    {
     "name": "stdout",
     "output_type": "stream",
     "text": [
      "this is from internalthis is from internalthis is from internal\n"
     ]
    }
   ],
   "source": [
    "obj3 = triple_string(string)\n",
    "obj3.display()"
   ]
  },
  {
   "cell_type": "code",
   "execution_count": 57,
   "metadata": {},
   "outputs": [
    {
     "name": "stdout",
     "output_type": "stream",
     "text": [
      "read from fileread from fileread from file\n"
     ]
    }
   ],
   "source": [
    "obj3_ext = triple_string.fromFile('external_file.txt')\n",
    "obj3_ext.display()"
   ]
  },
  {
   "cell_type": "code",
   "execution_count": null,
   "metadata": {},
   "outputs": [],
   "source": []
  },
  {
   "cell_type": "code",
   "execution_count": 86,
   "metadata": {},
   "outputs": [],
   "source": [
    "class Book:\n",
    "    total = 0\n",
    "    def __init__(self,name):\n",
    "        self.name = name\n",
    "        Book.total+=1\n",
    "    def count(self):\n",
    "        print(f\"Total: {Book.total}\")\n",
    "        \n",
    "    @classmethod\n",
    "    def count_class(cls):\n",
    "        print(f\"Total: {cls.total}\")"
   ]
  },
  {
   "cell_type": "code",
   "execution_count": 91,
   "metadata": {},
   "outputs": [],
   "source": [
    "a = Book('a')"
   ]
  },
  {
   "cell_type": "code",
   "execution_count": 92,
   "metadata": {},
   "outputs": [
    {
     "name": "stdout",
     "output_type": "stream",
     "text": [
      "Total: 4\n"
     ]
    }
   ],
   "source": [
    "a.count_class()"
   ]
  },
  {
   "cell_type": "code",
   "execution_count": null,
   "metadata": {},
   "outputs": [],
   "source": []
  },
  {
   "cell_type": "code",
   "execution_count": 123,
   "metadata": {},
   "outputs": [],
   "source": [
    "class A:\n",
    "    pass\n",
    "class B(A):\n",
    "    pass\n",
    "class C(A):\n",
    "    pass\n",
    "\n",
    "\n",
    "class Zero(C,B):\n",
    "    pass\n",
    "\n",
    "a = Zero()\n",
    "    "
   ]
  },
  {
   "cell_type": "code",
   "execution_count": 125,
   "metadata": {},
   "outputs": [
    {
     "data": {
      "text/plain": [
       "True"
      ]
     },
     "execution_count": 125,
     "metadata": {},
     "output_type": "execute_result"
    }
   ],
   "source": [
    "isinstance(a, A)"
   ]
  },
  {
   "cell_type": "code",
   "execution_count": 102,
   "metadata": {},
   "outputs": [
    {
     "data": {
      "text/plain": [
       "[__main__.C,\n",
       " __main__.A_btm,\n",
       " __main__.A_top,\n",
       " __main__.B_btm,\n",
       " __main__.B_top,\n",
       " object]"
      ]
     },
     "execution_count": 102,
     "metadata": {},
     "output_type": "execute_result"
    }
   ],
   "source": [
    "C.mro()"
   ]
  },
  {
   "cell_type": "code",
   "execution_count": 115,
   "metadata": {},
   "outputs": [
    {
     "data": {
      "text/plain": [
       "False"
      ]
     },
     "execution_count": 115,
     "metadata": {},
     "output_type": "execute_result"
    }
   ],
   "source": []
  },
  {
   "cell_type": "code",
   "execution_count": null,
   "metadata": {},
   "outputs": [],
   "source": []
  }
 ],
 "metadata": {
  "kernelspec": {
   "display_name": "Python 3",
   "language": "python",
   "name": "python3"
  },
  "language_info": {
   "codemirror_mode": {
    "name": "ipython",
    "version": 3
   },
   "file_extension": ".py",
   "mimetype": "text/x-python",
   "name": "python",
   "nbconvert_exporter": "python",
   "pygments_lexer": "ipython3",
   "version": "3.7.4"
  }
 },
 "nbformat": 4,
 "nbformat_minor": 4
}
