{
 "cells": [
  {
   "cell_type": "code",
   "execution_count": null,
   "metadata": {},
   "outputs": [],
   "source": [
    "    for index, row in enumerate(board_temp):\n",
    "        if index == len(board_temp)-1:  # last row\n",
    "            for i in range(4):  # column 0,1,2,3\n",
    "                if 'O'==row[i]==row[i+1]==row[i+2]==row[i+3]:\n",
    "                    score = score - 100000\n",
    "            for i in range(4):\n",
    "                if 'O'==row[i+1]==row[i+2] and '.'==row[i]==row[i+3]:\n",
    "                    score = score - 50000\n",
    "        else:\n",
    "            for i in range(4):  # column 0,1,2,3\n",
    "                #floor = [board_temp[index-1][i],board_temp[index-1][i+1],board_temp[index-1][i+2],board_temp[index-1][i+3]]\n",
    "                if 'O'==row[i]==row[i+1]==row[i+2]==row[i+3]:\n",
    "                    score = score - 100000\n",
    "            \n",
    "    # check vertical\n",
    "    for column in range(7):  \n",
    "        for row_index in range(3):  # row 0,1,2\n",
    "            if 'O'==board_temp[row_index][column]==board_temp[row_index+1][column]==board_temp[row_index+2][column]==board_temp[row_index+3][column]:\n",
    "                score = score - 100000\n",
    "    # check \\\n",
    "    for column in range(4):  # column 0,1,2,3\n",
    "        for row_index in range(3):  # row 0,1,2\n",
    "            #floor = [board_temp[row_index+1][column], board_temp[row_index+2][column+1], board_temp[row_index+3][column+2]]\n",
    "            if 'O'==board_temp[row_index][column]==board_temp[row_index+1][column+1]==board_temp[row_index+2][column+2]==board_temp[row_index+3][column+3]:\n",
    "                score = score - 100000\n",
    "    # check /\n",
    "    # column 3,2,1,0  row 0,1,2,3\n",
    "    for column in range(4):  # column 0,1,2,3\n",
    "        for row_index in range(3):  # row 0,1,2\n",
    "            #floor = [board_temp[row_index+1][column+3], board_temp[row_index+2][column+2], board_temp[row_index+3][column+3]]\n",
    "            if 'O'==board_temp[row_index][column+3]==board_temp[row_index+1][column+2]==board_temp[row_index+2][column+1]==board_temp[row_index+3][column]:\n",
    "                score = score - 100000\n",
    "    \n",
    "    return score"
   ]
  }
 ],
 "metadata": {
  "kernelspec": {
   "display_name": "Python 3",
   "language": "python",
   "name": "python3"
  },
  "language_info": {
   "codemirror_mode": {
    "name": "ipython",
    "version": 3
   },
   "file_extension": ".py",
   "mimetype": "text/x-python",
   "name": "python",
   "nbconvert_exporter": "python",
   "pygments_lexer": "ipython3",
   "version": "3.7.4"
  }
 },
 "nbformat": 4,
 "nbformat_minor": 4
}
