{
 "cells": [
  {
   "cell_type": "code",
   "execution_count": 1,
   "metadata": {},
   "outputs": [],
   "source": [
    "import shutil"
   ]
  },
  {
   "cell_type": "code",
   "execution_count": 2,
   "metadata": {},
   "outputs": [
    {
     "ename": "Exception",
     "evalue": "test",
     "output_type": "error",
     "traceback": [
      "\u001b[0;31m---------------------------------------------------------------------------\u001b[0m",
      "\u001b[0;31mException\u001b[0m                                 Traceback (most recent call last)",
      "\u001b[0;32m<ipython-input-2-8b9a343053dd>\u001b[0m in \u001b[0;36m<module>\u001b[0;34m\u001b[0m\n\u001b[0;32m----> 1\u001b[0;31m \u001b[0;32mraise\u001b[0m \u001b[0mException\u001b[0m\u001b[0;34m(\u001b[0m\u001b[0;34m'test'\u001b[0m\u001b[0;34m)\u001b[0m\u001b[0;34m\u001b[0m\u001b[0;34m\u001b[0m\u001b[0m\n\u001b[0m",
      "\u001b[0;31mException\u001b[0m: test"
     ]
    }
   ],
   "source": [
    "raise Exception('test')"
   ]
  },
  {
   "cell_type": "code",
   "execution_count": null,
   "metadata": {},
   "outputs": [],
   "source": [
    "import logging\n",
    "\n",
    "\n",
    "FORMAT = '%(asctime)s - %(levelname)s: %(message)s'\n",
    "logging.basicConfig(level=logging.INFO, format=FORMAT) #, filename='logging_test.txt')\n",
    "#logging.disable(logging.ERROR)\n",
    "\n",
    "logging.debug('debug message')\n",
    "logging.info('info message')\n",
    "logging.warning('warning message')\n",
    "logging.error('error message')\n",
    "logging.critical('critical message')"
   ]
  },
  {
   "cell_type": "code",
   "execution_count": null,
   "metadata": {},
   "outputs": [],
   "source": []
  },
  {
   "cell_type": "code",
   "execution_count": 1,
   "metadata": {},
   "outputs": [
    {
     "name": "stderr",
     "output_type": "stream",
     "text": [
      "2020-12-06 00:30:51,826 - root - INFO - Test info\n",
      "2020-12-06 00:30:51,827 - root - WARNING - TEST WARNING\n",
      "2020-12-06 00:30:51,828 - root - ERROR - Test error\n",
      "2020-12-06 00:30:51,829 - root - CRITICAL - Test critical\n"
     ]
    }
   ],
   "source": [
    "import logging\n",
    "logger = logging.getLogger()\n",
    "logger.setLevel(logging.DEBUG)  # 和 file handler or cell handler 比，選比較高的，DEBUG的話，就可以實現 cell/file 不同設定\n",
    "formatter = logging.Formatter('%(asctime)s - %(name)s - %(levelname)s - %(message)s')\n",
    " \n",
    "# Setup file handler\n",
    "fhandler  = logging.FileHandler('my.log')\n",
    "fhandler.setLevel(logging.WARNING)  # warning 以上才會寫入 file\n",
    "fhandler.setFormatter(formatter)\n",
    " \n",
    "# Configure stream handler for the cells\n",
    "chandler = logging.StreamHandler()\n",
    "chandler.setLevel(logging.INFO)  # INFO 以上都會列在螢幕上\n",
    "chandler.setFormatter(formatter)\n",
    " \n",
    "# Add both handlers\n",
    "logger.addHandler(fhandler)\n",
    "logger.addHandler(chandler)\n",
    " \n",
    "# Show the handlers\n",
    "logger.handlers\n",
    " \n",
    "# Log Something\n",
    "logger.debug(\"Test debug\")\n",
    "logger.info(\"Test info\")\n",
    "logger.warning('TEST WARNING')\n",
    "logger.error(\"Test error\")\n",
    "logger.critical(\"Test critical\")"
   ]
  },
  {
   "cell_type": "code",
   "execution_count": null,
   "metadata": {},
   "outputs": [],
   "source": []
  },
  {
   "cell_type": "code",
   "execution_count": 3,
   "metadata": {},
   "outputs": [
    {
     "name": "stderr",
     "output_type": "stream",
     "text": [
      "hello!\n",
      "This is a debug message\n",
      "this is an info message\n",
      "this is a warning message\n"
     ]
    }
   ],
   "source": [
    "import logging\n",
    "log_path = \"log.txt\" # path\n",
    "formatter= '[%(levelname)s] - %(message)s - %(name)s - %(asctime)s'  # format\n",
    "logging.basicConfig(filename = log_path, format=formatter)  # set logging, writer to file\n",
    "\n",
    "# creater logger\n",
    "logger = logging.getLogger()  \n",
    "\n",
    "#宣告出一個StreamHandler,控制串流輸出\n",
    "fhandler = logging.StreamHandler()\n",
    "#設定輸出格式\n",
    "formatter = logging.Formatter(formatter)\n",
    "#利用StreamHandler的setFormatter來載入\n",
    "fhandler.setFormatter(formatter)\n",
    "\n",
    "#加入現行使用的logger裡面(addHanlder)\n",
    "#就可以同時又寫檔案又輸出console而且格式可以分開設定\n",
    "logger.addHandler(fhandler)\n",
    "\n",
    "logger.setLevel(logging.DEBUG)\n",
    "\n",
    "logger.error('hello!')\n",
    "logger.debug('This is a debug message')\n",
    "logger.info('this is an info message')\n",
    "logger.warning('this is a warning message')"
   ]
  },
  {
   "cell_type": "code",
   "execution_count": null,
   "metadata": {},
   "outputs": [],
   "source": [
    ">> rootlogger.getEffectiveLevel()         #傳回目前根日誌安全等級=WARNING\n",
    "30\n",
    ">>> rootlogger.setLevel(logging.ERROR)       #設定根日誌安全等級=ERROR\n",
    ">>> rootlogger.getEffectiveLevel()                   #傳回目前根日誌安全等級=ERROR\n",
    "40\n",
    ">>> rootlogger.isEnabledFor(logging.DEBUG)        #DEBUG 低於 ERROR\n",
    "False\n",
    ">>> rootlogger.isEnabledFor(logging.WARNING)   #WARNING 低於 ERROR\n",
    "False\n",
    ">>> rootlogger.isEnabledFor(logging.ERROR)         #等於 ERROR : True\n",
    "True\n",
    ">>> rootlogger.isEnabledFor(logging.CRITICAL)    #大於 ERROR : False\n",
    "True\n",
    ">>> rootlogger.debug(\"debug message\")            #低於 ERROR : 不輸出\n",
    ">>> rootlogger.warning(\"warning message\")    #低於 ERROR : 不輸出\n",
    ">>> rootlogger.error(\"error message\")               #等於 ERROR : 輸出\n",
    "error message\n",
    ">>> rootlogger.critical(\"critical message\")         #大於 ERROR : 輸出\n",
    "critical message\n",
    ">>> rootlogger.log(logging.CRITICAL,\"critical message\")   #通用之日誌輸出函數\n",
    "critical message\n"
   ]
  },
  {
   "cell_type": "code",
   "execution_count": null,
   "metadata": {},
   "outputs": [],
   "source": [
    "# logging.disable(logging.ERROR)\n",
    "logging.debug('debug message')\n",
    "logging.info('info message')\n",
    "logging.warning('warning message')\n",
    "logging.error('error message')\n",
    "logging.critical('critical message')"
   ]
  },
  {
   "cell_type": "code",
   "execution_count": null,
   "metadata": {},
   "outputs": [],
   "source": [
    "import logging\n",
    "logger = logging.getLogger()\n",
    "logger.setLevel(logging.DEBUG)\n",
    "\n",
    "logger.debug('debug message')\n",
    "logger.info('info message')\n",
    "logger.warning('warning message')\n",
    "logger.error('error message')\n",
    "logger.critical('critical message')\n",
    "\n"
   ]
  },
  {
   "cell_type": "code",
   "execution_count": null,
   "metadata": {},
   "outputs": [],
   "source": [
    "import logging\n",
    "logging.debug('debug message')\n",
    "logging.info('info message')\n",
    "logging.warning('warning message')\n",
    "logging.error('error message')\n",
    "logging.critical('critical message')\n"
   ]
  },
  {
   "cell_type": "code",
   "execution_count": null,
   "metadata": {},
   "outputs": [],
   "source": [
    "import logging\n",
    "\n",
    "logging.basicConfig(level=logging.DEBUG)\n",
    "\n",
    "logging.debug('debug message')\n",
    "logging.info('info message')\n",
    "logging.warning('warning message')\n",
    "logging.error('error message')\n",
    "logging.critical('critical message')"
   ]
  },
  {
   "cell_type": "code",
   "execution_count": null,
   "metadata": {},
   "outputs": [],
   "source": [
    "logging.DEBUG"
   ]
  },
  {
   "cell_type": "code",
   "execution_count": null,
   "metadata": {},
   "outputs": [],
   "source": [
    "'helelelelelelolelelelelel'.strip('hel')"
   ]
  },
  {
   "cell_type": "code",
   "execution_count": null,
   "metadata": {},
   "outputs": [],
   "source": []
  }
 ],
 "metadata": {
  "kernelspec": {
   "display_name": "Python 3",
   "language": "python",
   "name": "python3"
  },
  "language_info": {
   "codemirror_mode": {
    "name": "ipython",
    "version": 3
   },
   "file_extension": ".py",
   "mimetype": "text/x-python",
   "name": "python",
   "nbconvert_exporter": "python",
   "pygments_lexer": "ipython3",
   "version": "3.7.4"
  }
 },
 "nbformat": 4,
 "nbformat_minor": 4
}
