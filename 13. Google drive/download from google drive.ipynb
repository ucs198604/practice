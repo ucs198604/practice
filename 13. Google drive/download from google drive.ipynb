{
 "cells": [
  {
   "cell_type": "code",
   "execution_count": 1,
   "metadata": {},
   "outputs": [],
   "source": [
    "import requests\n",
    "# https://www.it-swarm.asia/zh/python/python：使用url从谷歌驱动器下载文件/827287384/"
   ]
  },
  {
   "cell_type": "code",
   "execution_count": 17,
   "metadata": {},
   "outputs": [
    {
     "data": {
      "text/plain": [
       "['4437', '4442']"
      ]
     },
     "execution_count": 17,
     "metadata": {},
     "output_type": "execute_result"
    }
   ],
   "source": [
    "def dl_from_google_drive(id_):\n",
    "    URL = 'https://docs.google.com/uc?export=download'\n",
    "    session = requests.Session()\n",
    "    response = session.get(URL, params={'id':id_}, stream=True)\n",
    "    token = get_confirm_token(response)\n",
    "    \n",
    "    if token:\n",
    "        params = {'id':id_, 'confirm':token}\n",
    "        response = session.get(URL, params=params, stream=True)\n",
    "    \n",
    "    setting_valid_id = response.json()['valid_id']\n",
    "    \n",
    "    #print(response.json()['valid_id'])\n",
    "    \n",
    "    #save_response_content(response)\n",
    "    \n",
    "    return(setting_valid_id)\n",
    "\n",
    "def get_confirm_token(response):\n",
    "    for key,value in response.cookies.items():\n",
    "        if key.startswith('download_warning'):\n",
    "            return value\n",
    "    return None\n",
    "\n",
    "def save_response_content(response):\n",
    "    CHUNK_SIZE = 32768\n",
    "    \n",
    "    \n",
    "    \n",
    "    #with open('XXX','wb') as f:\n",
    "    #    for chunk in response.iter_content(CHUNK_SIZE):\n",
    "    #        if chunk: # if chunk alive\n",
    "    #            f.write(chunk)\n",
    "    #            \n",
    "\n",
    "file_id = '1k9CgZX4jeqnKVBA9czuhWSVBEPOItINy'\n",
    "valid_id = dl_from_google_drive(file_id)\n",
    "valid_id"
   ]
  },
  {
   "cell_type": "code",
   "execution_count": null,
   "metadata": {},
   "outputs": [],
   "source": []
  },
  {
   "cell_type": "code",
   "execution_count": 7,
   "metadata": {},
   "outputs": [],
   "source": [
    "import json"
   ]
  },
  {
   "cell_type": "code",
   "execution_count": 8,
   "metadata": {},
   "outputs": [],
   "source": [
    "setting_dict = {'valid_id':['4437','4442']}"
   ]
  },
  {
   "cell_type": "code",
   "execution_count": 10,
   "metadata": {},
   "outputs": [],
   "source": [
    "with open('web9_inqury_setting.json', 'w') as json_file:\n",
    "    json.dump(setting_dict, json_file, indent = 4, sort_keys=True)"
   ]
  },
  {
   "cell_type": "code",
   "execution_count": null,
   "metadata": {},
   "outputs": [],
   "source": [
    "https://drive.google.com/file/d/1k9CgZX4jeqnKVBA9czuhWSVBEPOItINy/view?usp=sharing"
   ]
  }
 ],
 "metadata": {
  "kernelspec": {
   "display_name": "Python 3",
   "language": "python",
   "name": "python3"
  },
  "language_info": {
   "codemirror_mode": {
    "name": "ipython",
    "version": 3
   },
   "file_extension": ".py",
   "mimetype": "text/x-python",
   "name": "python",
   "nbconvert_exporter": "python",
   "pygments_lexer": "ipython3",
   "version": "3.7.4"
  }
 },
 "nbformat": 4,
 "nbformat_minor": 4
}
