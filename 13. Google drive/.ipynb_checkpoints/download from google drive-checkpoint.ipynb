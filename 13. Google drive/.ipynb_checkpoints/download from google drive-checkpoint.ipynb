{
 "cells": [
  {
   "cell_type": "code",
   "execution_count": 1,
   "metadata": {},
   "outputs": [],
   "source": [
    "import requests\n",
    "# https://www.it-swarm.asia/zh/python/python：使用url从谷歌驱动器下载文件/827287384/"
   ]
  },
  {
   "cell_type": "code",
   "execution_count": 12,
   "metadata": {},
   "outputs": [
    {
     "data": {
      "text/plain": [
       "['4437',\n",
       " '2813',\n",
       " '4415',\n",
       " '4417',\n",
       " '4419',\n",
       " '4421',\n",
       " '4422',\n",
       " '4423',\n",
       " '4427',\n",
       " '4428',\n",
       " '4429',\n",
       " '4432',\n",
       " '4433',\n",
       " '4435',\n",
       " '4436',\n",
       " '4440',\n",
       " '4442',\n",
       " '4443',\n",
       " '4444',\n",
       " '4445',\n",
       " '4446',\n",
       " '4447',\n",
       " '4448',\n",
       " '4449',\n",
       " '4450',\n",
       " '4451',\n",
       " '4452',\n",
       " '4454',\n",
       " '4455',\n",
       " '4456',\n",
       " '4457',\n",
       " '4458',\n",
       " '4459',\n",
       " '4460',\n",
       " '4462',\n",
       " '4465',\n",
       " '4467',\n",
       " '4468',\n",
       " '4471',\n",
       " '4473',\n",
       " '4474',\n",
       " '4491',\n",
       " '4492',\n",
       " '4503',\n",
       " '4516',\n",
       " '4536',\n",
       " '4542',\n",
       " '4546',\n",
       " '4552',\n",
       " '4560',\n",
       " '4561',\n",
       " '4566',\n",
       " '4581',\n",
       " '4593',\n",
       " '4600',\n",
       " '4601',\n",
       " '4602',\n",
       " '4603',\n",
       " '4604',\n",
       " '4605',\n",
       " '4614',\n",
       " '4631',\n",
       " '7904',\n",
       " '8002',\n",
       " '8141',\n",
       " '8252',\n",
       " '8305',\n",
       " '8313',\n",
       " '8368',\n",
       " '8465',\n",
       " '8485',\n",
       " '8623']"
      ]
     },
     "execution_count": 12,
     "metadata": {},
     "output_type": "execute_result"
    }
   ],
   "source": [
    "def dl_from_google_drive(id_):\n",
    "    URL = 'https://docs.google.com/uc?export=download'\n",
    "    session = requests.Session()\n",
    "    response = session.get(URL, params={'id':id_}, stream=True)\n",
    "    token = get_confirm_token(response)\n",
    "    \n",
    "    if token:\n",
    "        params = {'id':id_, 'confirm':token}\n",
    "        response = session.get(URL, params=params, stream=True)\n",
    "    \n",
    "    setting_valid_id = response.json()['valid_id']\n",
    "    \n",
    "    #print(response.json()['valid_id'])\n",
    "    \n",
    "    #save_response_content(response)\n",
    "    \n",
    "    return(setting_valid_id)\n",
    "\n",
    "def get_confirm_token(response):\n",
    "    for key,value in response.cookies.items():\n",
    "        if key.startswith('download_warning'):\n",
    "            return value\n",
    "    return None\n",
    "\n",
    "def save_response_content(response):\n",
    "    CHUNK_SIZE = 32768\n",
    "    \n",
    "    #with open('XXX','wb') as f:\n",
    "    #    for chunk in response.iter_content(CHUNK_SIZE):\n",
    "    #        if chunk: # if chunk alive\n",
    "    #            f.write(chunk)\n",
    "    #            \n",
    "\n",
    "file_id = '1k9CgZX4jeqnKVBA9czuhWSVBEPOItINy'\n",
    "valid_id = dl_from_google_drive(file_id)\n",
    "valid_id"
   ]
  },
  {
   "cell_type": "code",
   "execution_count": null,
   "metadata": {},
   "outputs": [],
   "source": [
    "['4437',\n",
    " '2813', '4415', '4417', '4419', '4421', '4422', '4423', '4427', '4428', '4429',\n",
    " '4432', '4433', '4435', '4436',  '4440', '4442', '4443', '4444', '4445', '4446', '4447',\n",
    " '4448', '4449', '4450', '4451', '4452', '4454', '4455', '4456', '4457', '4458', '4459',\n",
    " '4460', '4462', '4465', '4467', '4468', '4471', '4473', '4474', '4491', '4492', '4503',\n",
    " '4516', '4536', '4542', '4546', '4552', '4560', '4561', '4566', '4581', '4593', '4600',\n",
    " '4601', '4602', '4603', '4604', '4605', '4614', '4631', '7904', '8002', '8141', '8252',\n",
    " '8305', '8313', '8368', '8465', '8485', '8623']"
   ]
  },
  {
   "cell_type": "code",
   "execution_count": 18,
   "metadata": {},
   "outputs": [
    {
     "ename": "NameError",
     "evalue": "name 'setting_valid_id' is not defined",
     "output_type": "error",
     "traceback": [
      "\u001b[0;31m---------------------------------------------------------------------------\u001b[0m",
      "\u001b[0;31mNameError\u001b[0m                                 Traceback (most recent call last)",
      "\u001b[0;32m<ipython-input-18-bc8929b911c5>\u001b[0m in \u001b[0;36m<module>\u001b[0;34m\u001b[0m\n\u001b[0;32m----> 1\u001b[0;31m \u001b[0msetting_valid_id\u001b[0m\u001b[0;34m\u001b[0m\u001b[0;34m\u001b[0m\u001b[0m\n\u001b[0m",
      "\u001b[0;31mNameError\u001b[0m: name 'setting_valid_id' is not defined"
     ]
    }
   ],
   "source": [
    "setting_valid_id"
   ]
  },
  {
   "cell_type": "code",
   "execution_count": 7,
   "metadata": {},
   "outputs": [],
   "source": []
  },
  {
   "cell_type": "code",
   "execution_count": 2,
   "metadata": {},
   "outputs": [],
   "source": [
    "setting_dict = {'valid_id':[#'4437',\n",
    " '2813', '4415', '4417', '4419', '4421', '4422', '4423', '4427', '4428', '4429',\n",
    " '4432', '4433', '4435', '4436',  '4440', '4442', '4443', '4444', '4445', '4446', '4447',\n",
    " '4448', '4449', '4450', '4451', '4452', '4454', '4455', '4456', '4457', '4458', '4459',\n",
    " '4460', '4462', '4465', '4467', '4468', '4471', '4473', '4474', '4491', '4492', '4503',\n",
    " '4516', '4536', '4542', '4546', '4552', '4560', '4561', '4566', '4581', '4593', '4600',\n",
    " '4601', '4602', '4603', '4604', '4605', '4614', '4631', '7904', '8002', '8141', '8252',\n",
    " '8305', '8313', '8368', '8465', '8485', '8623']\n",
    "               }"
   ]
  },
  {
   "cell_type": "code",
   "execution_count": 3,
   "metadata": {},
   "outputs": [],
   "source": [
    "import json\n",
    "with open('web9_inqury_setting.json', 'w') as json_file:\n",
    "    json.dump(setting_dict, json_file, indent = 4, sort_keys=True)"
   ]
  },
  {
   "cell_type": "code",
   "execution_count": null,
   "metadata": {},
   "outputs": [],
   "source": [
    "https://drive.google.com/file/d/1k9CgZX4jeqnKVBA9czuhWSVBEPOItINy/view?usp=sharing"
   ]
  },
  {
   "cell_type": "code",
   "execution_count": 6,
   "metadata": {},
   "outputs": [
    {
     "data": {
      "text/plain": [
       "['2813',\n",
       " '4415',\n",
       " '4417',\n",
       " '4419',\n",
       " '4421',\n",
       " '4422',\n",
       " '4423',\n",
       " '4427',\n",
       " '4428',\n",
       " '4429',\n",
       " '4432',\n",
       " '4433',\n",
       " '4435',\n",
       " '4436',\n",
       " '4437',\n",
       " '4440',\n",
       " '4442',\n",
       " '4443',\n",
       " '4444',\n",
       " '4445',\n",
       " '4446',\n",
       " '4447',\n",
       " '4448',\n",
       " '4449',\n",
       " '4450',\n",
       " '4451',\n",
       " '4452',\n",
       " '4454',\n",
       " '4455',\n",
       " '4456',\n",
       " '4457',\n",
       " '4458',\n",
       " '4459',\n",
       " '4460',\n",
       " '4462',\n",
       " '4465',\n",
       " '4467',\n",
       " '4468',\n",
       " '4471',\n",
       " '4473',\n",
       " '4474',\n",
       " '4491',\n",
       " '4492',\n",
       " '4503',\n",
       " '4516',\n",
       " '4536',\n",
       " '4542',\n",
       " '4546',\n",
       " '4552',\n",
       " '4560',\n",
       " '4561',\n",
       " '4566',\n",
       " '4581',\n",
       " '4593',\n",
       " '4600',\n",
       " '4601',\n",
       " '4602',\n",
       " '4603',\n",
       " '4604',\n",
       " '4605',\n",
       " '4614',\n",
       " '4631',\n",
       " '7904',\n",
       " '8002',\n",
       " '8141',\n",
       " '8252',\n",
       " '8305',\n",
       " '8313',\n",
       " '8368',\n",
       " '8465',\n",
       " '8485',\n",
       " '8623']"
      ]
     },
     "execution_count": 6,
     "metadata": {},
     "output_type": "execute_result"
    }
   ],
   "source": [
    "itm"
   ]
  },
  {
   "cell_type": "code",
   "execution_count": null,
   "metadata": {},
   "outputs": [],
   "source": []
  }
 ],
 "metadata": {
  "kernelspec": {
   "display_name": "Python 3",
   "language": "python",
   "name": "python3"
  },
  "language_info": {
   "codemirror_mode": {
    "name": "ipython",
    "version": 3
   },
   "file_extension": ".py",
   "mimetype": "text/x-python",
   "name": "python",
   "nbconvert_exporter": "python",
   "pygments_lexer": "ipython3",
   "version": "3.7.3"
  }
 },
 "nbformat": 4,
 "nbformat_minor": 4
}
