{
 "cells": [
  {
   "cell_type": "code",
   "execution_count": 7,
   "metadata": {},
   "outputs": [],
   "source": [
    "list_2d = [[1,2,3],[4,5,6]]\n",
    "#flat_list = [itm for itm in item for item in list_2d] \n",
    "flat_list = [itm for item in list_2d for itm in item ]"
   ]
  },
  {
   "cell_type": "code",
   "execution_count": 8,
   "metadata": {},
   "outputs": [
    {
     "data": {
      "text/plain": [
       "[1, 2, 3, 4, 5, 6]"
      ]
     },
     "execution_count": 8,
     "metadata": {},
     "output_type": "execute_result"
    }
   ],
   "source": [
    "flat_list"
   ]
  },
  {
   "cell_type": "code",
   "execution_count": 11,
   "metadata": {},
   "outputs": [
    {
     "data": {
      "text/plain": [
       "[[],\n",
       " ['The',\n",
       "  'online',\n",
       "  'encyclopedia',\n",
       "  'project',\n",
       "  'Wikipedia',\n",
       "  'is',\n",
       "  'the',\n",
       "  'most',\n",
       "  'popular',\n",
       "  'wiki-based',\n",
       "  'website,',\n",
       "  'and',\n",
       "  'is',\n",
       "  'one',\n",
       "  'of',\n",
       "  'the',\n",
       "  'most',\n",
       "  'widely',\n",
       "  'viewed',\n",
       "  'sites',\n",
       "  'in',\n",
       "  'the',\n",
       "  'world,',\n",
       "  'having',\n",
       "  'been',\n",
       "  'ranked',\n",
       "  'in',\n",
       "  'the',\n",
       "  'top',\n",
       "  'twenty',\n",
       "  'since',\n",
       "  '2007.[3]',\n",
       "  'Wikipedia',\n",
       "  'is',\n",
       "  'not',\n",
       "  'a',\n",
       "  'single',\n",
       "  'wiki',\n",
       "  'but',\n",
       "  'rather',\n",
       "  'a',\n",
       "  'collection',\n",
       "  'of',\n",
       "  'hundreds',\n",
       "  'of',\n",
       "  'wikis,',\n",
       "  'with',\n",
       "  'each',\n",
       "  'one',\n",
       "  'pertaining',\n",
       "  'to',\n",
       "  'a',\n",
       "  'specific',\n",
       "  'language.'],\n",
       " []]"
      ]
     },
     "execution_count": 11,
     "metadata": {},
     "output_type": "execute_result"
    }
   ],
   "source": [
    "tx = \"\"\"\n",
    "The online encyclopedia project Wikipedia is the most popular wiki-based website, and is one of the most widely viewed sites in the world, having been ranked in the top twenty since 2007.[3] Wikipedia is not a single wiki but rather a collection of hundreds of wikis, with each one pertaining to a specific language.\n",
    "\"\"\"\n",
    "\n",
    "w = [[x for x in line.split()] for line in tx.split('\\n')]\n",
    "w"
   ]
  },
  {
   "cell_type": "code",
   "execution_count": 14,
   "metadata": {},
   "outputs": [
    {
     "data": {
      "text/plain": [
       "['2020-12-06 00:30:51,827 - root - WARNING - TEST WARNING',\n",
       " '2020-12-06 00:30:51,828 - root - ERROR - Test error',\n",
       " '2020-12-06 00:30:51,829 - root - CRITICAL - Test critical']"
      ]
     },
     "execution_count": 14,
     "metadata": {},
     "output_type": "execute_result"
    }
   ],
   "source": [
    "## Dump textfile in to a list\n",
    "text = [line.strip() for line in open('my.log')]\n",
    "text"
   ]
  },
  {
   "cell_type": "code",
   "execution_count": 35,
   "metadata": {},
   "outputs": [
    {
     "data": {
      "text/plain": [
       "[(True, 'lambda functions are anonymous functions.'),\n",
       " (True, 'anonymous functions dont have a name.'),\n",
       " (False, 'functions are objects in Python.')]"
      ]
     },
     "execution_count": 35,
     "metadata": {},
     "output_type": "execute_result"
    }
   ],
   "source": [
    "# add some mark by map\n",
    "txt = ['lambda functions are anonymous functions.',\n",
    "'anonymous functions dont have a name.',\n",
    "'functions are objects in Python.']\n",
    "\n",
    "# same work, i prefer list comprehension\n",
    "result = [(True, line) if 'anonymous' in line else (False, line) for line in txt]\n",
    "result = list(map(lambda line: (True,line) if 'anonymous' in line else (False, line), txt))\n",
    "result"
   ]
  },
  {
   "cell_type": "code",
   "execution_count": 46,
   "metadata": {},
   "outputs": [],
   "source": [
    "# slice and search\n",
    "letters = ''' We spent several years building our own database engine, Amazon Aurora, a fully-managed MySQL and PostgreSQL-compatible service with the same or better durability and availability as the commercial engines, but at one-tenth of the cost. We were not surprised when this worked.'''\n",
    "kw = 'SQL'\n",
    "\n",
    "find_function = lambda txt,kw: txt[txt.find(kw)-18 : txt.find(kw)+18] if kw in txt else -1"
   ]
  },
  {
   "cell_type": "code",
   "execution_count": 51,
   "metadata": {},
   "outputs": [
    {
     "data": {
      "text/plain": [
       "''"
      ]
     },
     "execution_count": 51,
     "metadata": {},
     "output_type": "execute_result"
    }
   ],
   "source": [
    "find_function(letters,'We')"
   ]
  },
  {
   "cell_type": "code",
   "execution_count": 58,
   "metadata": {},
   "outputs": [
    {
     "data": {
      "text/plain": [
       "['Firefox',\n",
       " 'Firefox',\n",
       " 'Chrome',\n",
       " 'Chrome',\n",
       " 'Safari',\n",
       " 'Safari',\n",
       " 'Safari',\n",
       " 'Safari',\n",
       " 'Chrome',\n",
       " 'Chrome',\n",
       " 'Firefox',\n",
       " 'Firefox']"
      ]
     },
     "execution_count": 58,
     "metadata": {},
     "output_type": "execute_result"
    }
   ],
   "source": [
    "# Replacement of strings\n",
    "visitors = ['Firefox', 'corrupted', 'Chrome', 'corrupted', 'Safari', 'corrupted', 'Safari', 'corrupted', 'Chrome', 'corrupted', 'Firefox', 'corrupted']\n",
    "\n",
    "# my solution\n",
    "new_visitors = [visitors[i] if visitors[i]!= 'corrupted' else visitors[i-1] for i,item in enumerate(visitors)]\n",
    "\n",
    "# given solution\n",
    "visitors[1::2] = visitors[::2]\n",
    "visitors"
   ]
  },
  {
   "cell_type": "markdown",
   "metadata": {},
   "source": [
    "# plot \n",
    "import matplotlib.pyplot as plt\n",
    "cardiac_cycle = [62, 60, 62, 64, 68, 77, 80, 76, 71, 66, 61, 60, 62][1:-2] *10\n",
    "\n",
    "plt.plot(cardiac_cycle)"
   ]
  },
  {
   "cell_type": "code",
   "execution_count": 65,
   "metadata": {},
   "outputs": [
    {
     "data": {
      "text/plain": [
       "True"
      ]
     },
     "execution_count": 65,
     "metadata": {},
     "output_type": "execute_result"
    }
   ],
   "source": [
    "any([])  # False\n",
    "all([])  # TRUE!!"
   ]
  },
  {
   "cell_type": "code",
   "execution_count": 75,
   "metadata": {},
   "outputs": [
    {
     "data": {
      "text/plain": [
       "['CheapCompany', 'SosoCompany']"
      ]
     },
     "execution_count": 75,
     "metadata": {},
     "output_type": "execute_result"
    }
   ],
   "source": [
    "# use of any\n",
    "# check if there is any value <9\n",
    "companies = {'CoolCompany' : {'Alice' : 33, 'Bob' : 28, 'Frank' : 29}, \n",
    "             'CheapCompany' : {'Ann' : 4, 'Lee' : 9, 'Chrisi' : 7}, \n",
    "             'SosoCompany' : {'Esther' : 38, 'Cole' : 8, 'Paris' : 18}}\n",
    "\n",
    "illegal = [x for x in companies if any(salary<9 for salary in companies[x].values())]\n",
    "illegal = [company for company,salaries in companies.items() if any(salary<9 for salary in salaries.values())]\n",
    "illegal"
   ]
  },
  {
   "cell_type": "code",
   "execution_count": 80,
   "metadata": {},
   "outputs": [
    {
     "data": {
      "text/plain": [
       "(1, 2, 3)"
      ]
     },
     "execution_count": 80,
     "metadata": {},
     "output_type": "execute_result"
    }
   ],
   "source": [
    "# Zip function\n",
    "# zip/unzip\n",
    "\n",
    "a = [1,2,3]\n",
    "b = [4,5,6]\n",
    "zipped = list(zip(a,b))\n",
    "\n",
    "c,d = zip(*zipped)\n",
    "c"
   ]
  },
  {
   "cell_type": "code",
   "execution_count": 81,
   "metadata": {},
   "outputs": [
    {
     "data": {
      "text/plain": [
       "[(1, 4), (2, 5), (3, 6)]"
      ]
     },
     "execution_count": 81,
     "metadata": {},
     "output_type": "execute_result"
    }
   ],
   "source": [
    "zipped"
   ]
  },
  {
   "cell_type": "code",
   "execution_count": 84,
   "metadata": {},
   "outputs": [
    {
     "data": {
      "text/plain": [
       "[1, 2, 3]"
      ]
     },
     "execution_count": 84,
     "metadata": {},
     "output_type": "execute_result"
    }
   ],
   "source": [
    "e = [i[0] for i in zipped]\n",
    "e"
   ]
  },
  {
   "cell_type": "code",
   "execution_count": 96,
   "metadata": {},
   "outputs": [
    {
     "data": {
      "text/plain": [
       "[{'name': 'Alice', 'salary': 180000, 'job': 'data scientist'},\n",
       " {'name': 'Bob', 'salary': 99000, 'job': 'mid-level manager'},\n",
       " {'name': 'Frank', 'salary': 87000, 'job': 'CEO'}]"
      ]
     },
     "execution_count": 96,
     "metadata": {},
     "output_type": "execute_result"
    }
   ],
   "source": [
    "# Your data consists of the column names and the employee data organized as list of tuples (rows). \n",
    "# Assign the column names to the rows and, thus, cre ate a list of dictionaries. \n",
    "# Each dictionary assigns the column names to the respective data values\n",
    "\n",
    "column_names = ['name', 'salary', 'job']\n",
    "db_rows = [('Alice', 180000, 'data scientist'),\n",
    "           ('Bob', 99000, 'mid-level manager'), \n",
    "           ('Frank', 87000, 'CEO')]\n",
    "\n",
    "# my solution\n",
    "dicts = [{column_names[0]:row[0], column_names[1]:row[1],column_names[2]:row[2]} for row in db_rows]\n",
    "\n",
    "# using zip\n",
    "dicts = [dict(zip(column_names, row)) for row in db_rows]\n",
    "dicts"
   ]
  },
  {
   "cell_type": "code",
   "execution_count": null,
   "metadata": {},
   "outputs": [],
   "source": []
  }
 ],
 "metadata": {
  "kernelspec": {
   "display_name": "Python 3",
   "language": "python",
   "name": "python3"
  },
  "language_info": {
   "codemirror_mode": {
    "name": "ipython",
    "version": 3
   },
   "file_extension": ".py",
   "mimetype": "text/x-python",
   "name": "python",
   "nbconvert_exporter": "python",
   "pygments_lexer": "ipython3",
   "version": "3.7.4"
  }
 },
 "nbformat": 4,
 "nbformat_minor": 4
}
