{
 "cells": [
  {
   "cell_type": "code",
   "execution_count": 1,
   "metadata": {},
   "outputs": [],
   "source": [
    "import re"
   ]
  },
  {
   "cell_type": "code",
   "execution_count": 82,
   "metadata": {},
   "outputs": [],
   "source": [
    "pattern= r\"\\d+(\\.\\d*)?\""
   ]
  },
  {
   "cell_type": "code",
   "execution_count": 103,
   "metadata": {},
   "outputs": [
    {
     "data": {
      "text/plain": [
       "['51321321253.2', '0']"
      ]
     },
     "execution_count": 103,
     "metadata": {},
     "output_type": "execute_result"
    }
   ],
   "source": [
    "re.findall(pattern, \"51321321253.20\")"
   ]
  },
  {
   "cell_type": "code",
   "execution_count": 97,
   "metadata": {},
   "outputs": [],
   "source": [
    "pattern = r\"\\d+\\.?\\d?\"\n"
   ]
  },
  {
   "cell_type": "code",
   "execution_count": 94,
   "metadata": {},
   "outputs": [],
   "source": [
    "re.search(pattern, ).group()"
   ]
  },
  {
   "cell_type": "code",
   "execution_count": 2,
   "metadata": {},
   "outputs": [
    {
     "ename": "NameError",
     "evalue": "name 'target' is not defined",
     "output_type": "error",
     "traceback": [
      "\u001b[1;31m---------------------------------------------------------------------------\u001b[0m",
      "\u001b[1;31mNameError\u001b[0m                                 Traceback (most recent call last)",
      "\u001b[1;32m<ipython-input-2-4d733d4bed12>\u001b[0m in \u001b[0;36m<module>\u001b[1;34m\u001b[0m\n\u001b[0;32m      1\u001b[0m patterns = [r\"RESULT\\s*\\w?\\s*\\d+\\.?\\d+|結果\\s*\\w?\\s*\\d+\\.?\\d+\",\n\u001b[0;32m      2\u001b[0m                         \u001b[1;34mr\"RESULT.*\\w?\\d+\\.?\\d+|結果.*\\w?\\d+\\.?\\d+\"\u001b[0m\u001b[1;33m,\u001b[0m\u001b[1;33m\u001b[0m\u001b[1;33m\u001b[0m\u001b[0m\n\u001b[1;32m----> 3\u001b[1;33m                         \u001b[1;34mfr\"{target}\\s*\\w?\\s*\\d+\\.?\\d+\"\u001b[0m\u001b[1;33m,\u001b[0m  \u001b[1;31m# pattern for ... H/L ...\u001b[0m\u001b[1;33m\u001b[0m\u001b[1;33m\u001b[0m\u001b[0m\n\u001b[0m\u001b[0;32m      4\u001b[0m                         fr\"{target}:\\s*\\d+\\.?\\d+\"]    # add this pattern to solve fail_crp.html\n",
      "\u001b[1;31mNameError\u001b[0m: name 'target' is not defined"
     ]
    }
   ],
   "source": [
    "patterns = [r\"RESULT\\s*\\w?\\s*\\d+\\.?\\d+|結果\\s*\\w?\\s*\\d+\\.?\\d+\",\n",
    "                        r\"RESULT.*\\w?\\d+\\.?\\d+|結果.*\\w?\\d+\\.?\\d+\",\n",
    "                        fr\"{target}\\s*\\w?\\s*\\d+\\.?\\d+\",  # pattern for ... H/L ... \n",
    "                        fr\"{target}:\\s*\\d+\\.?\\d+\"]    # add this pattern to solve fail_crp.html"
   ]
  }
 ],
 "metadata": {
  "kernelspec": {
   "display_name": "Python 3",
   "language": "python",
   "name": "python3"
  },
  "language_info": {
   "codemirror_mode": {
    "name": "ipython",
    "version": 3
   },
   "file_extension": ".py",
   "mimetype": "text/x-python",
   "name": "python",
   "nbconvert_exporter": "python",
   "pygments_lexer": "ipython3",
   "version": "3.7.3"
  }
 },
 "nbformat": 4,
 "nbformat_minor": 4
}
