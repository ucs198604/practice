{
 "cells": [
  {
   "cell_type": "code",
   "execution_count": 43,
   "metadata": {},
   "outputs": [],
   "source": [
    "import pyperclip\n",
    "message = 'This is my secret message#~~~.'"
   ]
  },
  {
   "cell_type": "code",
   "execution_count": 42,
   "metadata": {},
   "outputs": [],
   "source": [
    "# key = 13\n",
    "SYMBOLS = 'ABCDEFGHIJKLMNOPQRSTUVWXYZabcdefghijklmnopqrstuvwxyz1234567890 !?.'\n",
    "\n",
    "def ceasar_cipher(message, mode, key):\n",
    "    translated = ''\n",
    "    if mode == 'encrypt':\n",
    "        for character in message:\n",
    "            if character in SYMBOLS:\n",
    "                character_index = SYMBOLS.find(character)\n",
    "                new_index = SYMBOLS.find(character) + key\n",
    "                new_index = new_index%len(SYMBOLS) if new_index>=len(SYMBOLS) else new_index\n",
    "                translated = translated + SYMBOLS[new_index]\n",
    "            else:\n",
    "                translated = translated + character\n",
    "    if mode == 'decrypt':\n",
    "        for character in message:\n",
    "            if character in SYMBOLS:\n",
    "                character_index = SYMBOLS.find(character)\n",
    "                new_index = SYMBOLS.find(character) - key\n",
    "                new_index = new_index+len(SYMBOLS) if new_index<0 else new_index\n",
    "                translated = translated + SYMBOLS[new_index]\n",
    "            else:\n",
    "                translated = translated + character\n",
    "    return translated"
   ]
  },
  {
   "cell_type": "code",
   "execution_count": 32,
   "metadata": {},
   "outputs": [
    {
     "data": {
      "text/plain": [
       "'guv6Jv6Jz!J6rp5r7Jzr66ntr#~~~M'"
      ]
     },
     "execution_count": 32,
     "metadata": {},
     "output_type": "execute_result"
    }
   ],
   "source": [
    "ceasar_cipher(message, 'encrypt', 13)"
   ]
  },
  {
   "cell_type": "code",
   "execution_count": 33,
   "metadata": {},
   "outputs": [
    {
     "data": {
      "text/plain": [
       "'This is my secret message.'"
      ]
     },
     "execution_count": 33,
     "metadata": {},
     "output_type": "execute_result"
    }
   ],
   "source": [
    "ceasar_cipher('guv6Jv6Jz!J6rp5r7Jzr66ntrM', 'decrypt', 13)"
   ]
  },
  {
   "cell_type": "code",
   "execution_count": null,
   "metadata": {},
   "outputs": [],
   "source": []
  },
  {
   "cell_type": "code",
   "execution_count": 45,
   "metadata": {},
   "outputs": [],
   "source": [
    "def de_ceasar(message, SYMBOLS):\n",
    "    translated_array = []\n",
    "    for key in range(len(SYMBOLS)):  # total num symble items = key numbers\n",
    "        translated = ''\n",
    "        for character in message:\n",
    "            if character in SYMBOLS:\n",
    "                character_index = SYMBOLS.find(character)\n",
    "                new_index = SYMBOLS.find(character) - key\n",
    "                new_index = new_index+len(SYMBOLS) if new_index<0 else new_index\n",
    "                translated = translated + SYMBOLS[new_index]\n",
    "            else:\n",
    "                translated = translated + character\n",
    "        translated_array.append([key,translated])\n",
    "    return translated_array"
   ]
  },
  {
   "cell_type": "code",
   "execution_count": 47,
   "metadata": {},
   "outputs": [
    {
     "name": "stdout",
     "output_type": "stream",
     "text": [
      "[0, 'guv6Jv6Jz!J6rp5r7Jzr66ntr#~~~M']\n",
      "[1, 'ftu5Iu5Iy I5qo4q6Iyq55msq#~~~L']\n",
      "[2, 'est4Ht4Hx0H4pn3p5Hxp44lrp#~~~K']\n",
      "[3, 'drs3Gs3Gw9G3om2o4Gwo33kqo#~~~J']\n",
      "[4, 'cqr2Fr2Fv8F2nl1n3Fvn22jpn#~~~I']\n",
      "[5, 'bpq1Eq1Eu7E1mkzm2Eum11iom#~~~H']\n",
      "[6, 'aopzDpzDt6Dzljyl1Dtlzzhnl#~~~G']\n",
      "[7, 'ZnoyCoyCs5CykixkzCskyygmk#~~~F']\n",
      "[8, 'YmnxBnxBr4BxjhwjyBrjxxflj#~~~E']\n",
      "[9, 'XlmwAmwAq3AwigvixAqiwweki#~~~D']\n",
      "[10, 'Wklv.lv.p2.vhfuhw.phvvdjh#~~~C']\n",
      "[11, 'Vjku?ku?o1?ugetgv?oguucig#~~~B']\n",
      "[12, 'Uijt!jt!nz!tfdsfu!nfttbhf#~~~A']\n",
      "[13, 'This is my secret message#~~~.']\n",
      "[14, 'Sghr0hr0lx0rdbqds0ldrrZfd#~~~?']\n",
      "[15, 'Rfgq9gq9kw9qcapcr9kcqqYec#~~~!']\n",
      "[16, 'Qefp8fp8jv8pbZobq8jbppXdb#~~~ ']\n",
      "[17, 'Pdeo7eo7iu7oaYnap7iaooWca#~~~0']\n",
      "[18, 'Ocdn6dn6ht6nZXmZo6hZnnVbZ#~~~9']\n",
      "[19, 'Nbcm5cm5gs5mYWlYn5gYmmUaY#~~~8']\n",
      "[20, 'Mabl4bl4fr4lXVkXm4fXllTZX#~~~7']\n",
      "[21, 'LZak3ak3eq3kWUjWl3eWkkSYW#~~~6']\n",
      "[22, 'KYZj2Zj2dp2jVTiVk2dVjjRXV#~~~5']\n",
      "[23, 'JXYi1Yi1co1iUShUj1cUiiQWU#~~~4']\n",
      "[24, 'IWXhzXhzbnzhTRgTizbThhPVT#~~~3']\n",
      "[25, 'HVWgyWgyamygSQfShyaSggOUS#~~~2']\n",
      "[26, 'GUVfxVfxZlxfRPeRgxZRffNTR#~~~1']\n",
      "[27, 'FTUewUewYkweQOdQfwYQeeMSQ#~~~z']\n",
      "[28, 'ESTdvTdvXjvdPNcPevXPddLRP#~~~y']\n",
      "[29, 'DRScuScuWiucOMbOduWOccKQO#~~~x']\n",
      "[30, 'CQRbtRbtVhtbNLaNctVNbbJPN#~~~w']\n",
      "[31, 'BPQasQasUgsaMKZMbsUMaaIOM#~~~v']\n",
      "[32, 'AOPZrPZrTfrZLJYLarTLZZHNL#~~~u']\n",
      "[33, '.NOYqOYqSeqYKIXKZqSKYYGMK#~~~t']\n",
      "[34, '?MNXpNXpRdpXJHWJYpRJXXFLJ#~~~s']\n",
      "[35, '!LMWoMWoQcoWIGVIXoQIWWEKI#~~~r']\n",
      "[36, ' KLVnLVnPbnVHFUHWnPHVVDJH#~~~q']\n",
      "[37, '0JKUmKUmOamUGETGVmOGUUCIG#~~~p']\n",
      "[38, '9IJTlJTlNZlTFDSFUlNFTTBHF#~~~o']\n",
      "[39, '8HISkISkMYkSECRETkMESSAGE#~~~n']\n",
      "[40, '7GHRjHRjLXjRDBQDSjLDRR.FD#~~~m']\n",
      "[41, '6FGQiGQiKWiQCAPCRiKCQQ?EC#~~~l']\n",
      "[42, '5EFPhFPhJVhPB.OBQhJBPP!DB#~~~k']\n",
      "[43, '4DEOgEOgIUgOA?NAPgIAOO CA#~~~j']\n",
      "[44, '3CDNfDNfHTfN.!M.OfH.NN0B.#~~~i']\n",
      "[45, '2BCMeCMeGSeM? L?NeG?MM9A?#~~~h']\n",
      "[46, '1ABLdBLdFRdL!0K!MdF!LL8.!#~~~g']\n",
      "[47, 'z.AKcAKcEQcK 9J LcE KK7? #~~~f']\n",
      "[48, 'y?.Jb.JbDPbJ08I0KbD0JJ6!0#~~~e']\n",
      "[49, 'x!?Ia?IaCOaI97H9JaC9II5 9#~~~d']\n",
      "[50, 'w !HZ!HZBNZH86G8IZB8HH408#~~~c']\n",
      "[51, 'v0 GY GYAMYG75F7HYA7GG397#~~~b']\n",
      "[52, 'u90FX0FX.LXF64E6GX.6FF286#~~~a']\n",
      "[53, 't89EW9EW?KWE53D5FW?5EE175#~~~Z']\n",
      "[54, 's78DV8DV!JVD42C4EV!4DDz64#~~~Y']\n",
      "[55, 'r67CU7CU IUC31B3DU 3CCy53#~~~X']\n",
      "[56, 'q56BT6BT0HTB2zA2CT02BBx42#~~~W']\n",
      "[57, 'p45AS5AS9GSA1y.1BS91AAw31#~~~V']\n",
      "[58, 'o34.R4.R8FR.zx?zAR8z..v2z#~~~U']\n",
      "[59, 'n23?Q3?Q7EQ?yw!y.Q7y??u1y#~~~T']\n",
      "[60, 'm12!P2!P6DP!xv x?P6x!!tzx#~~~S']\n",
      "[61, 'lz1 O1 O5CO wu0w!O5w  syw#~~~R']\n",
      "[62, 'kyz0Nz0N4BN0vt9v N4v00rxv#~~~Q']\n",
      "[63, 'jxy9My9M3AM9us8u0M3u99qwu#~~~P']\n",
      "[64, 'iwx8Lx8L2.L8tr7t9L2t88pvt#~~~O']\n",
      "[65, 'hvw7Kw7K1?K7sq6s8K1s77ous#~~~N']\n"
     ]
    }
   ],
   "source": [
    "h_message = 'guv6Jv6Jz!J6rp5r7Jzr66ntr#~~~M'\n",
    "display = de_ceasar(h_message,SYMBOLS)\n",
    "for item in display:\n",
    "    print(item)"
   ]
  },
  {
   "cell_type": "code",
   "execution_count": null,
   "metadata": {},
   "outputs": [],
   "source": []
  }
 ],
 "metadata": {
  "kernelspec": {
   "display_name": "Python 3",
   "language": "python",
   "name": "python3"
  },
  "language_info": {
   "codemirror_mode": {
    "name": "ipython",
    "version": 3
   },
   "file_extension": ".py",
   "mimetype": "text/x-python",
   "name": "python",
   "nbconvert_exporter": "python",
   "pygments_lexer": "ipython3",
   "version": "3.7.4"
  }
 },
 "nbformat": 4,
 "nbformat_minor": 4
}
