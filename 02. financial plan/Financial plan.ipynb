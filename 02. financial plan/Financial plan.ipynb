{
 "cells": [
  {
   "cell_type": "markdown",
   "metadata": {},
   "source": [
    "# 用pandas預測你的人生財務曲線"
   ]
  },
  {
   "cell_type": "code",
   "execution_count": 2,
   "metadata": {},
   "outputs": [
    {
     "data": {
      "application/vnd.jupyter.widget-view+json": {
       "model_id": "837ccec8223e4a5ab13f6ffad15eb068",
       "version_major": 2,
       "version_minor": 0
      },
      "text/plain": [
       "interactive(children=(FloatSlider(value=500.0, description='起始資金', max=1000.0, step=25.0), IntSlider(value=32,…"
      ]
     },
     "metadata": {},
     "output_type": "display_data"
    },
    {
     "data": {
      "text/plain": [
       "<function __main__.asset_prediction(起始資金, 起始年紀, 每月薪水, 每月多投入, 每月開銷, 每月房租, 退休年齡, 投資部位, 投資年利率, 買房價格, 買房頭期款, 買房年紀, 房貸利率, 貸款年數)>"
      ]
     },
     "execution_count": 2,
     "metadata": {},
     "output_type": "execute_result"
    }
   ],
   "source": [
    "import matplotlib.pylab as plt\n",
    "import seaborn as sns\n",
    "import pandas as pd\n",
    "import random\n",
    "%matplotlib inline\n",
    "def asset_prediction(起始資金 ,起始年紀,\n",
    "    每月薪水 ,\n",
    "    每月多投入,\n",
    "    每月開銷 ,\n",
    "    每月房租 ,\n",
    "    退休年齡 ,\n",
    "    投資部位,\n",
    "    投資年利率,\n",
    "    買房價格,\n",
    "    買房頭期款,\n",
    "    買房年紀,\n",
    "    房貸利率,\n",
    "    貸款年數,):\n",
    "\n",
    "    預測時段 = range(起始年紀, 100)\n",
    "    每年淨額 = pd.Series(0, index=預測時段)\n",
    "    每年淨額.iloc[0] = 起始資金\n",
    "    每年淨額.loc[:退休年齡] += 每月薪水 * 12\n",
    "    每年淨額 -= (每月開銷 + 每月房租) * 12\n",
    "    \n",
    "    每年淨額加=每年淨額.copy()\n",
    "    每年淨額加.loc[:退休年齡]+=每月多投入*12\n",
    "    \n",
    " #   def save_more(arr,k_per_month,retire):\n",
    " #       arr2=arr\n",
    " #       arr2.loc[:retire]+= (k_per_month*12)\n",
    "#        return arr2\n",
    "#    \n",
    " #   每年淨額2=save_more(每年淨額,10,退休年齡)\n",
    "#    每年多存金額.loc[:退休年齡]+=120\n",
    "    \n",
    "    \n",
    "    def compound_interest(arr, ratio, return_rate):\n",
    "        ret = [arr.iloc[0]]\n",
    "        for v in arr[1:]:\n",
    "            ret.append(ret[-1] * ratio * (return_rate/100 + 1) + ret[-1] * (1 - ratio) + v)\n",
    "        return pd.Series(ret, 預測時段)\n",
    "    \n",
    "    買房花費 = pd.Series(0, index=預測時段)\n",
    "    買房花費[買房年紀] = 買房頭期款\n",
    "    買房花費.loc[買房年紀:買房年紀+貸款年數-1] += (買房價格 - 買房頭期款) / 貸款年數\n",
    "    \n",
    "    欠款 = pd.Series(0, index=預測時段)\n",
    "    欠款[買房年紀] = 買房價格\n",
    "    欠款 = 欠款.cumsum()\n",
    "    欠款 = 欠款 - 買房花費.cumsum()\n",
    "    利息 = 欠款.shift().fillna(0) * 房貸利率 / 100\n",
    "\n",
    "    \n",
    "\n",
    "    房租年繳 = pd.Series(每月房租*12, index=預測時段)\n",
    "    房租年繳.loc[買房年紀:] = 0\n",
    "    \n",
    "    每年淨額_買房 = pd.Series(0, index=預測時段)\n",
    "    每年淨額_買房.iloc[0] = 起始資金\n",
    "    每年淨額_買房.loc[:退休年齡] += 每月薪水 * 12\n",
    "    每年淨額_買房 -= (每月開銷*12 + 房租年繳 + 利息 + 買房花費)\n",
    "    \n",
    "\n",
    "    fig = plt.figure(figsize=(8,4), dpi=400)\n",
    "    ax = fig.add_axes([0,0,1,1])\n",
    "    ax.plot(compound_interest(每年淨額加, 投資部位, 投資年利率), c='g', alpha = 0.5, ls='--', label=f'save {每月多投入*10}k more per month')\n",
    "    ax.plot(compound_interest(每年淨額, 投資部位, 投資年利率),c='g', alpha = 0.8, lw=3, label='invest, no house')\n",
    "    ax.plot(compound_interest(每年淨額_買房, 投資部位, 投資年利率),c='r',alpha=0.8, label='invest, house')\n",
    "    ax.plot(每年淨額.cumsum(),c='grey', alpha=.8 , label='no invest, no house')\n",
    "    ax.plot(每年淨額_買房.cumsum(),c='black', alpha = .8, label='no invest, house')\n",
    "    ax.legend()\n",
    "\n",
    "    '''  \n",
    "    compound_interest(每年淨額加, 投資部位, 投資年利率).plot(c='g', alpha = 0.5, ls='--', label='10k more',figsize=(8,4))\n",
    "    compound_interest(每年淨額, 投資部位, 投資年利率).plot(c='g', alpha = 0.8, lw=3, label='invest, no house')\n",
    "    compound_interest(每年淨額_買房, 投資部位, 投資年利率).plot(c='r',alpha=0.8, label='invest, house')\n",
    "    每年淨額.cumsum().plot(c='grey', alpha=.8 , label='no invest, no house')\n",
    "    每年淨額_買房.cumsum().plot(c='black', alpha = .8, label='no invest, house')\n",
    "    plt.legend()\n",
    "    \n",
    "    ''' \n",
    "    '''\n",
    "    pd.DataFrame({\n",
    "        'no invest, no house': 每年淨額.cumsum(),\n",
    "        'invest, no house': compound_interest(每年淨額, 投資部位, 投資年利率),\n",
    "        'no invest, house': 每年淨額_買房.cumsum(),\n",
    "        'invest, house': compound_interest(每年淨額_買房, 投資部位, 投資年利率),\n",
    "        \n",
    "    }).plot()\n",
    "    \n",
    "    \n",
    "    '''\n",
    "    \n",
    "\n",
    " #   plt.style.use('ggplot')\n",
    "    plt.ylim(0, None)\n",
    "#    print('most', 每年淨額.max())\n",
    "    print(f'每月多投資{每月多投入}萬，最終資產 = {compound_interest(每年淨額加, 投資部位, 投資年利率).iloc[-1]:.1f} 萬')\n",
    "    print(f'最終資產 = {compound_interest(每年淨額, 投資部位, 投資年利率).iloc[-1]:.1f} 萬')\n",
    "    print('月繳房貸', (買房價格 - 買房頭期款) / 貸款年數 / 12)\n",
    "    print('每年利息', 利息.sum() / 貸款年數)\n",
    "    print('')\n",
    "\n",
    "\n",
    "import ipywidgets as widgets\n",
    "widgets.interact(asset_prediction, \n",
    "    起始資金=widgets.FloatSlider(min=0, max=1000, step=25, value=500),\n",
    "    起始年紀=widgets.IntSlider(min=0, max=100, step=1, value=32),\n",
    "    每月薪水=widgets.FloatSlider(min=0, max=40, step=0.1, value=20),\n",
    "    每月多投入=widgets.FloatSlider(min=0.0, max=2, step=0.1, value=0.2),\n",
    "    每月開銷=widgets.FloatSlider(min=0, max=20, step=1, value=5),\n",
    "    每月房租=widgets.FloatSlider(min=0, max=20, step=0.5, value=2),\n",
    "    退休年齡=widgets.IntSlider(min=0, max=100, step=1, value=39),\n",
    "    投資部位=widgets.FloatSlider(min=0, max=1, step=0.1, value=1),\n",
    "    投資年利率=widgets.FloatSlider(min=0, max=20, step=0.5, value=4),\n",
    "    買房價格=widgets.IntSlider(min=100, max=5000, step=50, value=3000),\n",
    "    買房頭期款=widgets.IntSlider(min=100, max=2000, step=50, value=100),\n",
    "    買房年紀=widgets.IntSlider(min=30, max=100, step=1, value=50),\n",
    "    房貸利率=widgets.FloatSlider(min=1, max=5, step=0.1, value=2),\n",
    "    貸款年數=widgets.IntSlider(min=0, max=40, step=1, value=20)\n",
    "                )\n",
    "    "
   ]
  },
  {
   "cell_type": "code",
   "execution_count": null,
   "metadata": {},
   "outputs": [],
   "source": []
  }
 ],
 "metadata": {
  "kernelspec": {
   "display_name": "Python 3",
   "language": "python",
   "name": "python3"
  },
  "language_info": {
   "codemirror_mode": {
    "name": "ipython",
    "version": 3
   },
   "file_extension": ".py",
   "mimetype": "text/x-python",
   "name": "python",
   "nbconvert_exporter": "python",
   "pygments_lexer": "ipython3",
   "version": "3.7.3"
  }
 },
 "nbformat": 4,
 "nbformat_minor": 2
}
