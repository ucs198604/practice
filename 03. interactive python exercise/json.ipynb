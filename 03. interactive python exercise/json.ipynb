{
 "cells": [
  {
   "cell_type": "code",
   "execution_count": 1,
   "metadata": {},
   "outputs": [],
   "source": [
    "import json\n"
   ]
  },
  {
   "cell_type": "code",
   "execution_count": 80,
   "metadata": {},
   "outputs": [],
   "source": [
    "\n",
    "import json\n",
    "with open(\"file2.json\", 'r') as f:\n",
    "    data2 = json.load(f)   # file2 to dict\n",
    "with open('file3.json', 'r') as f:\n",
    "    data3 = json.load(f)   # file3 to dicrt\n",
    "\n",
    "data2['metals'].update(data3) # combine gold into metal dictionary\n",
    "\n",
    "with open('file2.json', 'w') as f:\n",
    "    json.dump(data2,f, indent=4)\n"
   ]
  },
  {
   "cell_type": "code",
   "execution_count": 98,
   "metadata": {},
   "outputs": [],
   "source": [
    "\n",
    "\n",
    "    \n",
    "    \n",
    "import json\n",
    "\n",
    "def foo(metal, property, filepath):\n",
    "    with open(filepath) as f:\n",
    "        data = json.load(f)\n",
    "    return data['metals'][metal][property]\n",
    "\n"
   ]
  },
  {
   "cell_type": "code",
   "execution_count": 99,
   "metadata": {},
   "outputs": [
    {
     "name": "stdout",
     "output_type": "stream",
     "text": [
      "['', '2']\n"
     ]
    }
   ],
   "source": [
    "a = 'file2'\n",
    "print(a.split('file'))"
   ]
  },
  {
   "cell_type": "code",
   "execution_count": 101,
   "metadata": {},
   "outputs": [
    {
     "name": "stdout",
     "output_type": "stream",
     "text": [
      "bbxxx\n"
     ]
    }
   ],
   "source": [
    "lst = ['a', 1, 'bbxxx', 'xxx']\n",
    "\n",
    "\n",
    "\n",
    "# not working function: I get only the first occurence. Looks like the loop is not doing its job\n",
    "\n",
    "def foo(lst):\n",
    "\n",
    "    for i in lst:\n",
    "\n",
    "        if \"xxx\" in str(i):\n",
    "\n",
    "            return i\n",
    "\n",
    "print(foo(lst))\n",
    "\n"
   ]
  },
  {
   "cell_type": "code",
   "execution_count": 105,
   "metadata": {},
   "outputs": [
    {
     "data": {
      "text/plain": [
       "'a is <5'"
      ]
     },
     "execution_count": 105,
     "metadata": {},
     "output_type": "execute_result"
    }
   ],
   "source": [
    "def test(a):\n",
    "    while a<5:\n",
    "        a=a+1\n",
    "        return 'a is <5'\n",
    "        \n",
    "test(1)"
   ]
  },
  {
   "cell_type": "code",
   "execution_count": 106,
   "metadata": {},
   "outputs": [
    {
     "name": "stdout",
     "output_type": "stream",
     "text": [
      "bbxxx\n",
      "xxx\n"
     ]
    }
   ],
   "source": [
    "\n",
    "\n",
    "# for loop: correct output\n",
    "\n",
    "for i in lst:\n",
    "\n",
    "    if \"xxx\" in str(i):\n",
    "\n",
    "        print(i)"
   ]
  },
  {
   "cell_type": "code",
   "execution_count": null,
   "metadata": {},
   "outputs": [],
   "source": []
  }
 ],
 "metadata": {
  "kernelspec": {
   "display_name": "Python 3",
   "language": "python",
   "name": "python3"
  },
  "language_info": {
   "codemirror_mode": {
    "name": "ipython",
    "version": 3
   },
   "file_extension": ".py",
   "mimetype": "text/x-python",
   "name": "python",
   "nbconvert_exporter": "python",
   "pygments_lexer": "ipython3",
   "version": "3.7.4"
  }
 },
 "nbformat": 4,
 "nbformat_minor": 2
}
