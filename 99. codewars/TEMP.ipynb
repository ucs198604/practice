{
 "cells": [
  {
   "cell_type": "code",
   "execution_count": 80,
   "metadata": {},
   "outputs": [
    {
     "data": {
      "text/plain": [
       "[1, 2, 3, 4]"
      ]
     },
     "execution_count": 80,
     "metadata": {},
     "output_type": "execute_result"
    }
   ],
   "source": [
    "LST = [1,2,4]\n",
    "LST2 = LST[:]\n",
    "LST2[2:2]=[3]\n",
    "LST\n",
    "LST2"
   ]
  },
  {
   "cell_type": "code",
   "execution_count": 96,
   "metadata": {},
   "outputs": [
    {
     "data": {
      "text/plain": [
       "[1, 2, 3]"
      ]
     },
     "execution_count": 96,
     "metadata": {},
     "output_type": "execute_result"
    }
   ],
   "source": [
    "[1,2,3,4][0:-1]"
   ]
  },
  {
   "cell_type": "code",
   "execution_count": 97,
   "metadata": {},
   "outputs": [],
   "source": [
    "def encode_resistor_colors(ohms_string):\n",
    "    resistor = {0: 'black', 1: 'brown', 2: 'red', 3: 'orange', 4: 'yellow', 5: 'green', 6: 'blue', 7: 'violet', 8: 'gray', 9: 'white'}\n",
    "    new_string = ''\n",
    "    ohms_string = ohms_string.replace(' ohms','')\n",
    "    for s in ohms_string:\n",
    "        if s=='M':\n",
    "            new_string = new_string+'000000'\n",
    "        elif s=='k':\n",
    "            new_string = new_string+'000'\n",
    "        else:\n",
    "            new_string = new_string + s\n",
    "    if '.' in new_string:\n",
    "        new_string = new_string.replace('.','')[0:-1]\n",
    "    out_put = f\"{resistor[int(new_string[0])]} {resistor[int(new_string[1])]} {resistor[len(new_string)-2]} gold\"\n",
    "    \n",
    "    return out_put"
   ]
  },
  {
   "cell_type": "code",
   "execution_count": 98,
   "metadata": {},
   "outputs": [
    {
     "data": {
      "text/plain": [
       "'brown black green gold'"
      ]
     },
     "execution_count": 98,
     "metadata": {},
     "output_type": "execute_result"
    }
   ],
   "source": [
    "encode_resistor_colors('1M')"
   ]
  },
  {
   "cell_type": "code",
   "execution_count": null,
   "metadata": {},
   "outputs": [],
   "source": [
    "[3423].pop()"
   ]
  },
  {
   "cell_type": "code",
   "execution_count": 13,
   "metadata": {},
   "outputs": [
    {
     "data": {
      "text/plain": [
       "0"
      ]
     },
     "execution_count": 13,
     "metadata": {},
     "output_type": "execute_result"
    }
   ],
   "source": [
    "strr.index(min(strr))"
   ]
  },
  {
   "cell_type": "code",
   "execution_count": null,
   "metadata": {},
   "outputs": [],
   "source": []
  },
  {
   "cell_type": "code",
   "execution_count": 2,
   "metadata": {},
   "outputs": [],
   "source": [
    "# https://www.codewars.com/kata/52724507b149fa120600031d/train/python"
   ]
  },
  {
   "cell_type": "code",
   "execution_count": 9,
   "metadata": {},
   "outputs": [
    {
     "name": "stdout",
     "output_type": "stream",
     "text": [
      "onethousand\n",
      "1 0\n"
     ]
    }
   ],
   "source": [
    "number2words(1000)"
   ]
  },
  {
   "cell_type": "code",
   "execution_count": 8,
   "metadata": {},
   "outputs": [],
   "source": [
    "def number2words(n):\n",
    "    \"\"\" works for numbers between 0 and 999999 \"\"\"\n",
    "    numbers = {1:'one', 2:'two', 3:'three', 4:'four', 5:'five',\n",
    "          6:'six', 7:'seven', 8:'eight', 9:'nine', #0:'zero',\n",
    "          10:'ten',11:'eleven',12:'twelve',13:'thirteen',\n",
    "          14:'fourteen',15:'fifteen',16:'sixteen',17:'seventeen',\n",
    "          18:'eighteen',19:'nineteen', 20:'twenty',30:'thirty',\n",
    "          40:'forty',50:'fifty',60:'sixty',70:'seventy',80:'eighty',\n",
    "          90:'ninety'}\n",
    "    if n==0:\n",
    "        return zero\n",
    "    if n in numbers:\n",
    "        return numbers[n]\n",
    "    \n",
    "    d_1000, d_1 = divmod(n,1000)\n",
    "    \n",
    "    return_str = ''\n",
    "    if d_1000!=0:\n",
    "        if d_1000 in numbers:\n",
    "            return_str = f\"{numbers[d_1000]} thousand\"   \n",
    "    print(return_str)\n",
    "    \n",
    "    def to_number(num):\n",
    "        out_put = ''\n",
    "        if num in numbers:\n",
    "            out_put = numbers[num]\n",
    "        else:\n",
    "            d_100,d_10 = divmod(num,100)\n",
    "            if d_100 !=0:\n",
    "                d_100 = str(numbers[d_100]) + 'hundred'\n",
    "            else:\n",
    "                d_100 = ''\n",
    "            if d_10 in numbers:\n",
    "                d_10 = str(numbers[d_10])\n",
    "            else:\n",
    "                d_10,d_1 = divmod(d_10,10)\n",
    "                if d_10!=0:\n",
    "                    d_10 = str(numbers[d_10*10])\n",
    "                    if d_1!=0:\n",
    "                        d_1 = '-'+str(numbers[d_1])\n",
    "                else:\n",
    "                    pass\n",
    "        d_100 = str(d_100)\n",
    "        return text\n",
    "    \n",
    "    print(d_1000,d_1)\n"
   ]
  },
  {
   "cell_type": "code",
   "execution_count": 40,
   "metadata": {},
   "outputs": [
    {
     "name": "stdout",
     "output_type": "stream",
     "text": [
      "38\n"
     ]
    }
   ],
   "source": [
    "\n",
    "# value of polynomial\n",
    "strr = '12x+2'\n",
    "x = 3\n",
    "if strr[0] != '-':\n",
    "    strr = '+' + strr\n",
    "\n",
    "sign_list = []\n",
    "for index, chrr in enumerate(strr):\n",
    "    if chrr=='+' or chrr=='-':\n",
    "        sign_list.append(index)\n",
    "num_list = []\n",
    "for index, num in enumerate(sign_list):\n",
    "    if index<(len(sign_list)-1):\n",
    "        number = strr[num:sign_list[index+1]]\n",
    "        num_list.append(strr[num:sign_list[index+1]])\n",
    "    else:\n",
    "        num_list.append(strr[num:])\n",
    "\n",
    "total = 0\n",
    "for itm in num_list:\n",
    "    power = itm.split('^')[-1] if len(itm.split('^'))>1 else 1\n",
    "    x = x if len(itm.split('x')) >1 else 1\n",
    "    value = int(itm.split('x')[0])*x**(int(power))\n",
    "    total+=value\n",
    "print(total)\n",
    "#return total"
   ]
  },
  {
   "cell_type": "code",
   "execution_count": 68,
   "metadata": {},
   "outputs": [
    {
     "data": {
      "text/plain": [
       "5"
      ]
     },
     "execution_count": 68,
     "metadata": {},
     "output_type": "execute_result"
    }
   ],
   "source": [
    "\n",
    "# value of differntiate\n",
    "strr = 'x^2-x'\n",
    "x = 3\n",
    "if strr[0] != '-':\n",
    "    strr = '+' + strr\n",
    "\n",
    "sign_list = []\n",
    "for index, chrr in enumerate(strr):\n",
    "    if chrr=='+' or chrr=='-':\n",
    "        sign_list.append(index)\n",
    "num_list = []\n",
    "for index, num in enumerate(sign_list):\n",
    "    if index<(len(sign_list)-1):\n",
    "        number = strr[num:sign_list[index+1]]\n",
    "        num_list.append(strr[num:sign_list[index+1]])\n",
    "    else:\n",
    "        num_list.append(strr[num:])\n",
    "\n",
    "total = 0\n",
    "for itm in num_list:\n",
    "    if 'x' not in itm:\n",
    "        continue\n",
    "    power = int(itm.split('^')[-1]) if len(itm.split('^'))>1 else 1\n",
    "    new_power = power-1\n",
    "    coef = itm.split('x')[0]\n",
    "    if len(coef)==1:\n",
    "        coef=int(coef+'1')*power\n",
    "    else:\n",
    "        coef=int(coef)*power\n",
    "    value = coef * x **new_power\n",
    "    total += value\n",
    "\n",
    "total"
   ]
  },
  {
   "cell_type": "code",
   "execution_count": 17,
   "metadata": {},
   "outputs": [
    {
     "data": {
      "text/plain": [
       "['s.', ')']"
      ]
     },
     "execution_count": 17,
     "metadata": {},
     "output_type": "execute_result"
    }
   ],
   "source": [
    "total = 0\n",
    "for itm in num_list:\n",
    "    if 'x' not in itm:\n",
    "        continue\n",
    "    power = itm.split('^')[-1] if len(itm.split('^'))>1 else 1\n",
    "    x = x if len(itm.split('x')) >1 else 1\n",
    "    power = int(power) -1 # differentiate\n",
    "    value = int(itm.split('x')[0].split('+')[-1])*x**(int(power))\n",
    "    \n",
    "    total+=value\n",
    "print(total)\n",
    "#return total"
   ]
  },
  {
   "cell_type": "code",
   "execution_count": 18,
   "metadata": {},
   "outputs": [],
   "source": [
    "def stat(strg):\n",
    "    sec = []\n",
    "    for s in strg:\n",
    "        lst = s.split('|')\n",
    "        sec.append(int(lst[0])*60*60 + int(lst[1])*60 + int(lst[2]))\n",
    "    print(sec)"
   ]
  },
  {
   "cell_type": "code",
   "execution_count": 29,
   "metadata": {},
   "outputs": [
    {
     "data": {
      "text/plain": [
       "'00'"
      ]
     },
     "execution_count": 29,
     "metadata": {},
     "output_type": "execute_result"
    }
   ],
   "source": [
    "strr = '0'\n",
    "f\"{strr:0<2}\""
   ]
  },
  {
   "cell_type": "code",
   "execution_count": null,
   "metadata": {},
   "outputs": [],
   "source": []
  }
 ],
 "metadata": {
  "kernelspec": {
   "display_name": "Python 3",
   "language": "python",
   "name": "python3"
  },
  "language_info": {
   "codemirror_mode": {
    "name": "ipython",
    "version": 3
   },
   "file_extension": ".py",
   "mimetype": "text/x-python",
   "name": "python",
   "nbconvert_exporter": "python",
   "pygments_lexer": "ipython3",
   "version": "3.7.3"
  }
 },
 "nbformat": 4,
 "nbformat_minor": 4
}
