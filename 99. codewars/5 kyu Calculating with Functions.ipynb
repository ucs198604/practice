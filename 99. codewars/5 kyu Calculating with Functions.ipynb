{
 "cells": [
  {
   "cell_type": "code",
   "execution_count": 23,
   "metadata": {},
   "outputs": [],
   "source": [
    "# my solution\n",
    "\n",
    "from math import floor\n",
    "\n",
    "def cal(num, args):\n",
    "    # take the arguments as number1, [operation, number2], then return the calculation\n",
    "    if args[0]=='+':\n",
    "        return num+args[1]\n",
    "    if args[0]=='-':\n",
    "        return num-args[1]\n",
    "    if args[0]=='*':\n",
    "        return num*args[1]\n",
    "    if args[0]=='/':\n",
    "        return num/args[1]\n",
    "\n",
    "def zero(args=None): \n",
    "    # if there is arguments inside [operation, number2], then call the calculation function\n",
    "    # else, return the number represent itself\n",
    "    if args:\n",
    "        return floor(cal(0, args))\n",
    "    else:\n",
    "        return 0\n",
    "def one(args=None): #your code here\n",
    "    if args:\n",
    "        return floor(cal(1, args))\n",
    "    else:\n",
    "        return 1\n",
    "def two(args=None): #your code here\n",
    "    if args:\n",
    "        return floor(cal(2, args))\n",
    "    else:\n",
    "        return 2\n",
    "def three(args=None): #your code here\n",
    "    if args:\n",
    "        return floor(cal(3, args))\n",
    "    else:\n",
    "        return 3\n",
    "def four(args=None): #your code here\n",
    "    if args:\n",
    "        return floor(cal(4, args))\n",
    "    else:\n",
    "        return 4\n",
    "def five(args=None): #your code here\n",
    "    if args:\n",
    "        return floor(cal(5, args))\n",
    "    else:\n",
    "        return 5\n",
    "def six(args=None): #your code here\n",
    "    if args:\n",
    "        return floor(cal(6, args))\n",
    "    else:\n",
    "        return 6\n",
    "def seven(args=None): #your code here\n",
    "    if args:\n",
    "        return floor(cal(7, args))\n",
    "    else:\n",
    "        return 7\n",
    "def eight(args=None): #your code here\n",
    "    if args:\n",
    "        return floor(cal(8, args))\n",
    "    else:\n",
    "        return 8\n",
    "def nine(args=None): #your code here\n",
    "    if args:\n",
    "        return floor(cal(9, args))\n",
    "    else:\n",
    "        return 9\n",
    "\n",
    "def plus(a):\n",
    "    # return argument\n",
    "    return ['+',a]\n",
    "def minus(a): #your code here\n",
    "    return ['-',a]\n",
    "def times(a): #your code here\n",
    "    return ['*',a]\n",
    "def divided_by(a): #your code here\n",
    "    return ['/',a]"
   ]
  },
  {
   "cell_type": "markdown",
   "metadata": {},
   "source": []
  },
  {
   "cell_type": "code",
   "execution_count": 24,
   "metadata": {},
   "outputs": [
    {
     "data": {
      "text/plain": [
       "1.5"
      ]
     },
     "execution_count": 24,
     "metadata": {},
     "output_type": "execute_result"
    }
   ],
   "source": [
    "def zero(f = None): return 0 if not f else f(0)\n",
    "# if f=None -> no operation -> then return the number itself\n",
    "# if get operation f, then execute the function \n",
    "\n",
    "\n",
    "def one(f = None): return 1 if not f else f(1)\n",
    "def two(f = None): return 2 if not f else f(2)\n",
    "def three(f = None): return 3 if not f else f(3)\n",
    "def four(f = None): return 4 if not f else f(4)\n",
    "def five(f = None): return 5 if not f else f(5)\n",
    "def six(f = None): return 6 if not f else f(6)\n",
    "def seven(f = None): return 7 if not f else f(7)\n",
    "def eight(f = None): return 8 if not f else f(8)\n",
    "def nine(f = None): return 9 if not f else f(9)\n",
    "\n",
    "def plus(y): return lambda x: x+y\n",
    "# for plus(num()), this function will return a lambda function as lambda x: x + certain number\n",
    "# then, the lambda x: x + certain number will be taken to the 0-9 function\n",
    "# if 0-9 function gets the lambda function, it will return the value by executing the lambda function\n",
    "\n",
    "def minus(y): return lambda x: x-y\n",
    "def times(y): return lambda  x: x*y\n",
    "def divided_by(y): return lambda  x: x/y\n",
    "\n",
    "nine(divided_by(six()))"
   ]
  },
  {
   "cell_type": "code",
   "execution_count": null,
   "metadata": {},
   "outputs": [],
   "source": []
  }
 ],
 "metadata": {
  "kernelspec": {
   "display_name": "Python 3",
   "language": "python",
   "name": "python3"
  },
  "language_info": {
   "codemirror_mode": {
    "name": "ipython",
    "version": 3
   },
   "file_extension": ".py",
   "mimetype": "text/x-python",
   "name": "python",
   "nbconvert_exporter": "python",
   "pygments_lexer": "ipython3",
   "version": "3.7.3"
  }
 },
 "nbformat": 4,
 "nbformat_minor": 2
}
