{
 "cells": [
  {
   "cell_type": "markdown",
   "metadata": {},
   "source": [
    "5 kyu Sum of Pairs\n",
    "\n",
    "## learning points \n",
    "- using 'sets' to remove repeated elements\n",
    "- set is more efficient than list\n",
    "- use xx in OO to identify existence"
   ]
  },
  {
   "cell_type": "code",
   "execution_count": 1,
   "metadata": {},
   "outputs": [],
   "source": [
    "# this is too slow\n",
    "def sum_pairs(ints, s):\n",
    "    elect = []\n",
    "    ind = []\n",
    "    upper_limit = len(ints)\n",
    "    for i in range(0,upper_limit-1):\n",
    "        \n",
    "        for j in range(i+1,upper_limit):\n",
    "            if ints[i]+ints[j]==s:\n",
    "                elect.append([ints[i], ints[j]])\n",
    "                # ind.append(j)\n",
    "                upper_limit = j\n",
    "    \n",
    "    if elect:\n",
    "        #return elect[ind.index(min(ind))]\n",
    "        return elect[-1]\n",
    "    else:\n",
    "        return None\n",
    "    \n",
    "                \n",
    "                "
   ]
  },
  {
   "cell_type": "code",
   "execution_count": 2,
   "metadata": {},
   "outputs": [
    {
     "data": {
      "text/plain": [
       "[3, 7]"
      ]
     },
     "execution_count": 2,
     "metadata": {},
     "output_type": "execute_result"
    }
   ],
   "source": [
    "sum_pairs([10, 5, 2, 3, 7, 5],10) # 3,7"
   ]
  },
  {
   "cell_type": "code",
   "execution_count": 57,
   "metadata": {},
   "outputs": [],
   "source": [
    "# This works !!\n",
    "\n",
    "def sum_pairs(ints, s):\n",
    "    upper_limit = len(ints)\n",
    "    set_s = set(ints)  # add this, to enhance speed\n",
    "    i = 0\n",
    "    elect = []\n",
    "    while i<upper_limit:\n",
    "        if s-ints[i] in set_s:\n",
    "            try:\n",
    "                this = ints.index(s-ints[i],i+1,upper_limit)  \n",
    "                # to avoid catch self, so i+1\n",
    "                # not to search beyond upper_limit, because we have to return the eariliest set\n",
    "                if this < upper_limit:  # update value of upper_limit\n",
    "                    upper_limit = this\n",
    "                    elect = [ints[i],ints[this]]  # update value of combination set\n",
    "            except:\n",
    "                pass\n",
    "        i=i+1\n",
    "       \n",
    "    if elect:\n",
    "        return elect\n",
    "    else:\n",
    "        return None\n",
    "    \n",
    "                \n",
    "                "
   ]
  },
  {
   "cell_type": "code",
   "execution_count": 61,
   "metadata": {},
   "outputs": [
    {
     "data": {
      "text/plain": [
       "[3, 7]"
      ]
     },
     "execution_count": 61,
     "metadata": {},
     "output_type": "execute_result"
    }
   ],
   "source": [
    "sum_pairs([3, 5, 2, 3, 7, 5],10) # 3,7"
   ]
  },
  {
   "cell_type": "code",
   "execution_count": 60,
   "metadata": {},
   "outputs": [],
   "source": [
    "# very cleaver, viewing from back\n",
    "\n",
    "def sum_pairs(lst, s):\n",
    "    cache = set()\n",
    "    for i in lst:\n",
    "        if s - i in cache:\n",
    "            return [s - i, i]\n",
    "        cache.add(i)"
   ]
  },
  {
   "cell_type": "code",
   "execution_count": null,
   "metadata": {},
   "outputs": [],
   "source": []
  }
 ],
 "metadata": {
  "kernelspec": {
   "display_name": "Python 3",
   "language": "python",
   "name": "python3"
  },
  "language_info": {
   "codemirror_mode": {
    "name": "ipython",
    "version": 3
   },
   "file_extension": ".py",
   "mimetype": "text/x-python",
   "name": "python",
   "nbconvert_exporter": "python",
   "pygments_lexer": "ipython3",
   "version": "3.7.3"
  }
 },
 "nbformat": 4,
 "nbformat_minor": 2
}
