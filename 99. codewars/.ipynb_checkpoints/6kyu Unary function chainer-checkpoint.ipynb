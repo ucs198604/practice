{
 "cells": [
  {
   "cell_type": "code",
   "execution_count": null,
   "metadata": {},
   "outputs": [],
   "source": [
    "# https://www.codewars.com/kata/54ca3e777120b56cb6000710/solutions/python"
   ]
  },
  {
   "cell_type": "code",
   "execution_count": 29,
   "metadata": {},
   "outputs": [],
   "source": [
    "\n",
    "def f1(x): return x*2\n",
    "def f2(x): return x+2\n",
    "def f3(x): return x**2\n",
    "\n",
    "def f4(x): return x.split()\n",
    "def f5(xs): return [x[::-1].title() for x in xs]\n",
    "def f6(xs): return \"_\".join(xs)\n",
    "\n",
    "\n",
    "def chained(functions):\n",
    "    def out_put(parameter):  # return a out_put function, which takes a parameter\n",
    "        result = parameter # the result is either initial input or the result of previous calculation\n",
    "        for f in functions:\n",
    "            result = f(result)\n",
    "        return result\n",
    "    return out_put\n"
   ]
  },
  {
   "cell_type": "code",
   "execution_count": null,
   "metadata": {},
   "outputs": [],
   "source": [
    "def chained(functions):\n",
    "    def f(x):\n",
    "        for function in functions:\n",
    "            x = function(x)\n",
    "        return x\n",
    "    return f"
   ]
  },
  {
   "cell_type": "code",
   "execution_count": 30,
   "metadata": {},
   "outputs": [
    {
     "data": {
      "text/plain": [
       "4"
      ]
     },
     "execution_count": 30,
     "metadata": {},
     "output_type": "execute_result"
    }
   ],
   "source": [
    "chained([f1,f2,f3])(0)"
   ]
  },
  {
   "cell_type": "code",
   "execution_count": 19,
   "metadata": {},
   "outputs": [],
   "source": [
    "fz = lambda x:f1(f2(x))"
   ]
  },
  {
   "cell_type": "code",
   "execution_count": 20,
   "metadata": {},
   "outputs": [
    {
     "data": {
      "text/plain": [
       "4"
      ]
     },
     "execution_count": 20,
     "metadata": {},
     "output_type": "execute_result"
    }
   ],
   "source": [
    "fz(0)"
   ]
  },
  {
   "cell_type": "code",
   "execution_count": 18,
   "metadata": {},
   "outputs": [
    {
     "data": {
      "text/plain": [
       "4"
      ]
     },
     "execution_count": 18,
     "metadata": {},
     "output_type": "execute_result"
    }
   ],
   "source": [
    "def fz(x):\n",
    "    return f1(f2(x))\n",
    "\n",
    "fz(0)"
   ]
  },
  {
   "cell_type": "code",
   "execution_count": 23,
   "metadata": {},
   "outputs": [
    {
     "data": {
      "text/plain": [
       "0"
      ]
     },
     "execution_count": 23,
     "metadata": {},
     "output_type": "execute_result"
    }
   ],
   "source": []
  },
  {
   "cell_type": "code",
   "execution_count": null,
   "metadata": {},
   "outputs": [],
   "source": [
    "\n",
    "test.assert_equals( chained([f1,f2,f3])(0), 4 )\n",
    "test.assert_equals( chained([f1,f2,f3])(2), 36 )\n",
    "test.assert_equals( chained([f3,f2,f1])(2), 12 )\n",
    "\n",
    "test.assert_equals( chained([f4,f5,f6])(\"lorem ipsum dolor\"), \"Merol_Muspi_Rolod\")\n",
    "\n"
   ]
  }
 ],
 "metadata": {
  "kernelspec": {
   "display_name": "Python 3",
   "language": "python",
   "name": "python3"
  },
  "language_info": {
   "codemirror_mode": {
    "name": "ipython",
    "version": 3
   },
   "file_extension": ".py",
   "mimetype": "text/x-python",
   "name": "python",
   "nbconvert_exporter": "python",
   "pygments_lexer": "ipython3",
   "version": "3.7.3"
  }
 },
 "nbformat": 4,
 "nbformat_minor": 4
}
