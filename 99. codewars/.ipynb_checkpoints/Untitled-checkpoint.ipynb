{
 "cells": [
  {
   "cell_type": "code",
   "execution_count": 15,
   "metadata": {},
   "outputs": [
    {
     "name": "stdout",
     "output_type": "stream",
     "text": [
      "12\n",
      "32\n",
      "8\n",
      "1\n"
     ]
    }
   ],
   "source": [
    "x = 2\n",
    "strr = '3x^2-4x^3+4x-1'\n",
    "pos = strr.split('+')\n",
    "listt = []\n",
    "for itm in pos:\n",
    "    listt+=(itm.split('-'))\n",
    "for itm in listt:\n",
    "    power = itm.split('^')[-1] if len(itm.split('^'))>1 else 1\n",
    "    x = x if len(itm.split('x')) >1 else 1\n",
    "    value = int(itm.split('x')[0])*x**(int(power))\n",
    "    value = value*(-1) if '-' in itm else value\n",
    "    print(value)"
   ]
  },
  {
   "cell_type": "code",
   "execution_count": 40,
   "metadata": {},
   "outputs": [
    {
     "name": "stdout",
     "output_type": "stream",
     "text": [
      "38\n"
     ]
    }
   ],
   "source": [
    "\n",
    "# value of polynomial\n",
    "strr = '12x+2'\n",
    "x = 3\n",
    "if strr[0] != '-':\n",
    "    strr = '+' + strr\n",
    "\n",
    "sign_list = []\n",
    "for index, chrr in enumerate(strr):\n",
    "    if chrr=='+' or chrr=='-':\n",
    "        sign_list.append(index)\n",
    "num_list = []\n",
    "for index, num in enumerate(sign_list):\n",
    "    if index<(len(sign_list)-1):\n",
    "        number = strr[num:sign_list[index+1]]\n",
    "        num_list.append(strr[num:sign_list[index+1]])\n",
    "    else:\n",
    "        num_list.append(strr[num:])\n",
    "\n",
    "total = 0\n",
    "for itm in num_list:\n",
    "    power = itm.split('^')[-1] if len(itm.split('^'))>1 else 1\n",
    "    x = x if len(itm.split('x')) >1 else 1\n",
    "    value = int(itm.split('x')[0])*x**(int(power))\n",
    "    total+=value\n",
    "print(total)\n",
    "#return total"
   ]
  },
  {
   "cell_type": "code",
   "execution_count": 68,
   "metadata": {},
   "outputs": [
    {
     "data": {
      "text/plain": [
       "5"
      ]
     },
     "execution_count": 68,
     "metadata": {},
     "output_type": "execute_result"
    }
   ],
   "source": [
    "\n",
    "# value of differntiate\n",
    "strr = 'x^2-x'\n",
    "x = 3\n",
    "if strr[0] != '-':\n",
    "    strr = '+' + strr\n",
    "\n",
    "sign_list = []\n",
    "for index, chrr in enumerate(strr):\n",
    "    if chrr=='+' or chrr=='-':\n",
    "        sign_list.append(index)\n",
    "num_list = []\n",
    "for index, num in enumerate(sign_list):\n",
    "    if index<(len(sign_list)-1):\n",
    "        number = strr[num:sign_list[index+1]]\n",
    "        num_list.append(strr[num:sign_list[index+1]])\n",
    "    else:\n",
    "        num_list.append(strr[num:])\n",
    "\n",
    "total = 0\n",
    "for itm in num_list:\n",
    "    if 'x' not in itm:\n",
    "        continue\n",
    "    power = int(itm.split('^')[-1]) if len(itm.split('^'))>1 else 1\n",
    "    new_power = power-1\n",
    "    coef = itm.split('x')[0]\n",
    "    if len(coef)==1:\n",
    "        coef=int(coef+'1')*power\n",
    "    else:\n",
    "        coef=int(coef)*power\n",
    "    value = coef * x **new_power\n",
    "    total += value\n",
    "\n",
    "total"
   ]
  },
  {
   "cell_type": "code",
   "execution_count": 17,
   "metadata": {},
   "outputs": [
    {
     "data": {
      "text/plain": [
       "['s.', ')']"
      ]
     },
     "execution_count": 17,
     "metadata": {},
     "output_type": "execute_result"
    }
   ],
   "source": [
    "total = 0\n",
    "for itm in num_list:\n",
    "    if 'x' not in itm:\n",
    "        continue\n",
    "    power = itm.split('^')[-1] if len(itm.split('^'))>1 else 1\n",
    "    x = x if len(itm.split('x')) >1 else 1\n",
    "    power = int(power) -1 # differentiate\n",
    "    value = int(itm.split('x')[0].split('+')[-1])*x**(int(power))\n",
    "    \n",
    "    total+=value\n",
    "print(total)\n",
    "#return total"
   ]
  },
  {
   "cell_type": "code",
   "execution_count": 18,
   "metadata": {},
   "outputs": [],
   "source": [
    "def stat(strg):\n",
    "    sec = []\n",
    "    for s in strg:\n",
    "        lst = s.split('|')\n",
    "        sec.append(int(lst[0])*60*60 + int(lst[1])*60 + int(lst[2]))\n",
    "    print(sec)"
   ]
  },
  {
   "cell_type": "code",
   "execution_count": 29,
   "metadata": {},
   "outputs": [
    {
     "data": {
      "text/plain": [
       "'00'"
      ]
     },
     "execution_count": 29,
     "metadata": {},
     "output_type": "execute_result"
    }
   ],
   "source": [
    "strr = '0'\n",
    "f\"{strr:0<2}\""
   ]
  },
  {
   "cell_type": "code",
   "execution_count": null,
   "metadata": {},
   "outputs": [],
   "source": []
  }
 ],
 "metadata": {
  "kernelspec": {
   "display_name": "Python 3",
   "language": "python",
   "name": "python3"
  },
  "language_info": {
   "codemirror_mode": {
    "name": "ipython",
    "version": 3
   },
   "file_extension": ".py",
   "mimetype": "text/x-python",
   "name": "python",
   "nbconvert_exporter": "python",
   "pygments_lexer": "ipython3",
   "version": "3.7.3"
  }
 },
 "nbformat": 4,
 "nbformat_minor": 4
}
