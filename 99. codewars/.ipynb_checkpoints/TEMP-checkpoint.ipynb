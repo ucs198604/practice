{
 "cells": [
  {
   "cell_type": "code",
   "execution_count": null,
   "metadata": {},
   "outputs": [],
   "source": [
    "# https://www.codewars.com/kata/52724507b149fa120600031d/train/python"
   ]
  },
  {
   "cell_type": "code",
   "execution_count": 3,
   "metadata": {},
   "outputs": [
    {
     "data": {
      "text/plain": [
       "False"
      ]
     },
     "execution_count": 3,
     "metadata": {},
     "output_type": "execute_result"
    }
   ],
   "source": [
    "def number2words(n):\n",
    "    \"\"\" works for numbers between 0 and 999999 \"\"\"\n",
    "    d_1000, d_1 = divmod(n,1000)\n",
    "    numbers = {1:'one', 2:'two', 3:'three', 4:'four', 5:'five',\n",
    "              6:'six', 7:'seven', 8:'eight', 9:'nine',# 0:'zero',\n",
    "              10:'ten',11:'eleven',12:'twelve',13:'thirteen',\n",
    "              14:'fourteen',15:'fifteen',16:'sixteen',17:'seventeen',\n",
    "              18:'eighteen',19:'nineteen', 20:'twenty',30:'thirty',\n",
    "              40:'forty',50:'fifty',60:'sixty',70:'seventy',80:'eighty',\n",
    "              90:'ninety'}\n",
    "    def to_number(num):\n",
    "        out_put = ''\n",
    "        if num in numbers:\n",
    "            out_put = numbers[num]\n",
    "        else:\n",
    "            d_100,d_10 = divmod(num,100)\n",
    "            if d_100 !=0:\n",
    "                d_100 = str(numbers[d_100]) + 'hundred'\n",
    "            else:\n",
    "                d_100 = ''\n",
    "            if d_10 in numbers:\n",
    "                d_10 = str(numbers[d_10])\n",
    "            else:\n",
    "                d_10,d_1 = divmod(d_10,10)\n",
    "                if d_10!=0:\n",
    "                    d_10 = str(numbers[d_10*10])\n",
    "                    if d_1!=0:\n",
    "                        d_1 = '-'+str(numbers[d_1])\n",
    "                else:\n",
    "        d_100 = str(d_100)\n",
    "        return text\n",
    "    print(d_1000,d_1)\n"
   ]
  },
  {
   "cell_type": "code",
   "execution_count": 40,
   "metadata": {},
   "outputs": [
    {
     "name": "stdout",
     "output_type": "stream",
     "text": [
      "38\n"
     ]
    }
   ],
   "source": [
    "\n",
    "# value of polynomial\n",
    "strr = '12x+2'\n",
    "x = 3\n",
    "if strr[0] != '-':\n",
    "    strr = '+' + strr\n",
    "\n",
    "sign_list = []\n",
    "for index, chrr in enumerate(strr):\n",
    "    if chrr=='+' or chrr=='-':\n",
    "        sign_list.append(index)\n",
    "num_list = []\n",
    "for index, num in enumerate(sign_list):\n",
    "    if index<(len(sign_list)-1):\n",
    "        number = strr[num:sign_list[index+1]]\n",
    "        num_list.append(strr[num:sign_list[index+1]])\n",
    "    else:\n",
    "        num_list.append(strr[num:])\n",
    "\n",
    "total = 0\n",
    "for itm in num_list:\n",
    "    power = itm.split('^')[-1] if len(itm.split('^'))>1 else 1\n",
    "    x = x if len(itm.split('x')) >1 else 1\n",
    "    value = int(itm.split('x')[0])*x**(int(power))\n",
    "    total+=value\n",
    "print(total)\n",
    "#return total"
   ]
  },
  {
   "cell_type": "code",
   "execution_count": 68,
   "metadata": {},
   "outputs": [
    {
     "data": {
      "text/plain": [
       "5"
      ]
     },
     "execution_count": 68,
     "metadata": {},
     "output_type": "execute_result"
    }
   ],
   "source": [
    "\n",
    "# value of differntiate\n",
    "strr = 'x^2-x'\n",
    "x = 3\n",
    "if strr[0] != '-':\n",
    "    strr = '+' + strr\n",
    "\n",
    "sign_list = []\n",
    "for index, chrr in enumerate(strr):\n",
    "    if chrr=='+' or chrr=='-':\n",
    "        sign_list.append(index)\n",
    "num_list = []\n",
    "for index, num in enumerate(sign_list):\n",
    "    if index<(len(sign_list)-1):\n",
    "        number = strr[num:sign_list[index+1]]\n",
    "        num_list.append(strr[num:sign_list[index+1]])\n",
    "    else:\n",
    "        num_list.append(strr[num:])\n",
    "\n",
    "total = 0\n",
    "for itm in num_list:\n",
    "    if 'x' not in itm:\n",
    "        continue\n",
    "    power = int(itm.split('^')[-1]) if len(itm.split('^'))>1 else 1\n",
    "    new_power = power-1\n",
    "    coef = itm.split('x')[0]\n",
    "    if len(coef)==1:\n",
    "        coef=int(coef+'1')*power\n",
    "    else:\n",
    "        coef=int(coef)*power\n",
    "    value = coef * x **new_power\n",
    "    total += value\n",
    "\n",
    "total"
   ]
  },
  {
   "cell_type": "code",
   "execution_count": 17,
   "metadata": {},
   "outputs": [
    {
     "data": {
      "text/plain": [
       "['s.', ')']"
      ]
     },
     "execution_count": 17,
     "metadata": {},
     "output_type": "execute_result"
    }
   ],
   "source": [
    "total = 0\n",
    "for itm in num_list:\n",
    "    if 'x' not in itm:\n",
    "        continue\n",
    "    power = itm.split('^')[-1] if len(itm.split('^'))>1 else 1\n",
    "    x = x if len(itm.split('x')) >1 else 1\n",
    "    power = int(power) -1 # differentiate\n",
    "    value = int(itm.split('x')[0].split('+')[-1])*x**(int(power))\n",
    "    \n",
    "    total+=value\n",
    "print(total)\n",
    "#return total"
   ]
  },
  {
   "cell_type": "code",
   "execution_count": 18,
   "metadata": {},
   "outputs": [],
   "source": [
    "def stat(strg):\n",
    "    sec = []\n",
    "    for s in strg:\n",
    "        lst = s.split('|')\n",
    "        sec.append(int(lst[0])*60*60 + int(lst[1])*60 + int(lst[2]))\n",
    "    print(sec)"
   ]
  },
  {
   "cell_type": "code",
   "execution_count": 29,
   "metadata": {},
   "outputs": [
    {
     "data": {
      "text/plain": [
       "'00'"
      ]
     },
     "execution_count": 29,
     "metadata": {},
     "output_type": "execute_result"
    }
   ],
   "source": [
    "strr = '0'\n",
    "f\"{strr:0<2}\""
   ]
  },
  {
   "cell_type": "code",
   "execution_count": null,
   "metadata": {},
   "outputs": [],
   "source": []
  }
 ],
 "metadata": {
  "kernelspec": {
   "display_name": "Python 3",
   "language": "python",
   "name": "python3"
  },
  "language_info": {
   "codemirror_mode": {
    "name": "ipython",
    "version": 3
   },
   "file_extension": ".py",
   "mimetype": "text/x-python",
   "name": "python",
   "nbconvert_exporter": "python",
   "pygments_lexer": "ipython3",
   "version": "3.7.3"
  }
 },
 "nbformat": 4,
 "nbformat_minor": 4
}
