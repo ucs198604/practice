{
 "cells": [
  {
   "cell_type": "markdown",
   "metadata": {},
   "source": [
    "Linked Lists - Length & Count\n",
    "Linked Lists - Push & BuildOneTwoThree\n",
    "Linked Lists - Length & Count\n",
    "Linked Lists - Get Nth Node\n",
    "Linked Lists - Insert Nth Node\n",
    "Linked Lists - Sorted Insert\n",
    "Linked Lists - Insert Sort\n",
    "Linked Lists - Append\n",
    "Linked Lists - Remove Duplicates\n",
    "Linked Lists - Move Node\n",
    "Linked Lists - Move Node In-place\n",
    "Linked Lists - Alternating Split\n",
    "Linked Lists - Front Back Split\n",
    "Linked Lists - Shuffle Merge\n",
    "Linked Lists - Sorted Merge\n",
    "Linked Lists - Merge Sort\n",
    "Linked Lists - Sorted Intersect\n",
    "Linked Lists - Iterative Reverse\n",
    "Linked Lists - Recursive Reverse"
   ]
  }
 ],
 "metadata": {
  "kernelspec": {
   "display_name": "Python 3",
   "language": "python",
   "name": "python3"
  },
  "language_info": {
   "codemirror_mode": {
    "name": "ipython",
    "version": 3
   },
   "file_extension": ".py",
   "mimetype": "text/x-python",
   "name": "python",
   "nbconvert_exporter": "python",
   "pygments_lexer": "ipython3",
   "version": "3.7.3"
  }
 },
 "nbformat": 4,
 "nbformat_minor": 4
}
