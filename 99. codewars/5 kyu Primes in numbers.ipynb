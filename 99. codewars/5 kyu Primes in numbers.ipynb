{
 "cells": [
  {
   "cell_type": "markdown",
   "metadata": {},
   "source": [
    "Given a positive number n > 1 find the prime factor decomposition of n. The result will be a string with the following form :\n",
    "\n",
    "\"(p1\\*\\*n1)(p2\\*\\*n2)...(pk\\*\\*nk)\"\n",
    "with the p(i) in increasing order and n(i) empty if n(i) is 1.\n",
    "\n",
    "Example: n = 86240 should return \"(2\\*\\*5)(5)(7\\*\\*2)(11)\""
   ]
  },
  {
   "cell_type": "code",
   "execution_count": 191,
   "metadata": {},
   "outputs": [],
   "source": [
    "def primeFactors(n):\n",
    "    table2=[]  # create blank table to store factors\n",
    "    current = n  # create current number\n",
    "    \n",
    "    # all the prime numbers are even except for 2, so manage 2 first\n",
    "    while current%2==0:\n",
    "        table2.append(2)  # store to table\n",
    "        current = int(current/2)\n",
    "        \n",
    "    \n",
    "    for i in range(3,current+1,2):  # start testing prime numbers, 3,5,7,9..., up to current number\n",
    "        if current ==1:  # current number == 1 means cannot be break down\n",
    "            break\n",
    "        check=1\n",
    "        while check ==1:\n",
    "            mod = current%i  # mod number calculated once\n",
    "            if mod == 0:\n",
    "                table2.append(i)  # add new factor\n",
    "                check = 1\n",
    "                current /=i\n",
    "            else:\n",
    "                check = 0\n",
    "\n",
    "    output = ''\n",
    "\n",
    "    previous = 0\n",
    "    for j in range(len(table2)):  # how many factors\n",
    "        count = table2.count(table2[j])  # the amount of certain factor\n",
    "        if count ==1:\n",
    "            output = f\"{output}({table2[j]})\"\n",
    "        if count >1 and table2[j]!=previous:  # ignoring repeated factors\n",
    "            output = f\"{output}({table2[j]}**{count})\"\n",
    "        previous = table2[j]\n",
    "    \n",
    "    if table2 ==[]:  # empty if n is a prime number\n",
    "        table2.append(n)\n",
    "    print(output)\n",
    "    \n",
    "    return output\n",
    "    "
   ]
  },
  {
   "cell_type": "code",
   "execution_count": 192,
   "metadata": {},
   "outputs": [
    {
     "name": "stdout",
     "output_type": "stream",
     "text": [
      "(2**5)(5)(7**2)(11)\n"
     ]
    },
    {
     "data": {
      "text/plain": [
       "'(2**5)(5)(7**2)(11)'"
      ]
     },
     "execution_count": 192,
     "metadata": {},
     "output_type": "execute_result"
    }
   ],
   "source": [
    "primeFactors(86240)"
   ]
  },
  {
   "cell_type": "code",
   "execution_count": 109,
   "metadata": {},
   "outputs": [
    {
     "data": {
      "text/plain": [
       "200"
      ]
     },
     "execution_count": 109,
     "metadata": {},
     "output_type": "execute_result"
    }
   ],
   "source": []
  },
  {
   "cell_type": "markdown",
   "metadata": {},
   "source": [
    "Great solution"
   ]
  },
  {
   "cell_type": "code",
   "execution_count": 170,
   "metadata": {},
   "outputs": [],
   "source": [
    "def primeFactors(n):\n",
    "    ret = ''\n",
    "    for i in range(2, n + 1):\n",
    "        num = 0\n",
    "        while(n % i == 0):\n",
    "            num += 1\n",
    "            n /= i\n",
    "        if num > 0:\n",
    "            ret += '({}{})'.format(i, '**%d' % num if num > 1 else '')\n",
    "        if n == 1:\n",
    "            return ret"
   ]
  },
  {
   "cell_type": "code",
   "execution_count": 175,
   "metadata": {},
   "outputs": [
    {
     "data": {
      "text/plain": [
       "'(3)(599597)'"
      ]
     },
     "execution_count": 175,
     "metadata": {},
     "output_type": "execute_result"
    }
   ],
   "source": [
    "primeFactors(1798791)"
   ]
  },
  {
   "cell_type": "code",
   "execution_count": null,
   "metadata": {},
   "outputs": [],
   "source": []
  }
 ],
 "metadata": {
  "kernelspec": {
   "display_name": "Python 3",
   "language": "python",
   "name": "python3"
  },
  "language_info": {
   "codemirror_mode": {
    "name": "ipython",
    "version": 3
   },
   "file_extension": ".py",
   "mimetype": "text/x-python",
   "name": "python",
   "nbconvert_exporter": "python",
   "pygments_lexer": "ipython3",
   "version": "3.7.3"
  }
 },
 "nbformat": 4,
 "nbformat_minor": 2
}
