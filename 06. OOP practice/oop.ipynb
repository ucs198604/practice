{
 "cells": [
  {
   "cell_type": "code",
   "execution_count": 69,
   "metadata": {
    "scrolled": true
   },
   "outputs": [
    {
     "name": "stdout",
     "output_type": "stream",
     "text": [
      "a test class called naruto is created\n",
      "100\n",
      "100\n"
     ]
    }
   ],
   "source": [
    "class test:\n",
    "    total = 0\n",
    "    def __init__(self,name):\n",
    "        self.name = name\n",
    "        self.total = 100\n",
    "        print(f'a test class called {self.name} is created')\n",
    "        test.total +=1  # 利用 class_name.variable 來存取 class variables\n",
    "        \n",
    "    def ret(self):\n",
    "        print('total created is',test.total)  # 利用 class_name.variable 來存取 class variables\n",
    "        print('i am',self.name) # 利用在 __init__中定義了的 instance attribute, self.XXX 來存取 instance variables\n",
    "    \n",
    "    def get_total(self):\n",
    "        return(self.total)\n",
    "        \n",
    "    @classmethod\n",
    "    def class_m(cls):\n",
    "        print(cls.total)  # 利用 cls.XXX 來存取 class 資料\n",
    "        \n",
    "    @staticmethod\n",
    "    def static_m():\n",
    "        print('im static')\n",
    "\n",
    "a = test('naruto')\n",
    "\n",
    "print(a.get_total())\n",
    "print(test.get_total(a))"
   ]
  },
  {
   "cell_type": "code",
   "execution_count": 70,
   "metadata": {},
   "outputs": [
    {
     "data": {
      "text/plain": [
       "{'name': 'naruto', 'total': 100}"
      ]
     },
     "execution_count": 70,
     "metadata": {},
     "output_type": "execute_result"
    }
   ],
   "source": [
    "a.__dict__"
   ]
  },
  {
   "cell_type": "code",
   "execution_count": 114,
   "metadata": {},
   "outputs": [
    {
     "data": {
      "text/plain": [
       "(12, 100)"
      ]
     },
     "execution_count": 114,
     "metadata": {},
     "output_type": "execute_result"
    }
   ],
   "source": [
    "class dog:\n",
    "    \n",
    "    weight = 100\n",
    "    \n",
    "    def __init__(self, weight):\n",
    "        self.__weight = weight\n",
    "    def ww(self):\n",
    "        \"\"\"this returns weight of class\"\"\"\n",
    "        return self.__weight, dog.weight\n",
    "    \n",
    "    @classmethod\n",
    "    def x(cls):\n",
    "        return(cls.weight, dog.weight)\n",
    "    \n",
    "a = dog(12)\n",
    "a.ww()"
   ]
  },
  {
   "cell_type": "code",
   "execution_count": 138,
   "metadata": {},
   "outputs": [
    {
     "name": "stdout",
     "output_type": "stream",
     "text": [
      "here comes a 5-year-old animal\n",
      "a cat called poka is comming\n",
      "here comes a 1-year-old animal\n",
      "a dog called husky is comming\n",
      "mew\n",
      "bark\n"
     ]
    }
   ],
   "source": [
    "class animal:\n",
    "    '''we are all animals'''\n",
    "    def __init__(self,name,age):\n",
    "        self.name = name\n",
    "        self.age = age\n",
    "        print(f'here comes a {self.age}-year-old animal')\n",
    "        \n",
    "    def speak(self):\n",
    "        print('bark or mew')\n",
    "        \n",
    "class cat(animal):\n",
    "    def __init__(self, name, age, weight):\n",
    "        animal.__init__(self, name, age)\n",
    "        self.wieght = weight\n",
    "        print(f'a cat called {self.name} is comming')\n",
    "    def speak(self):\n",
    "        print('mew')\n",
    "        \n",
    "class dog(animal):\n",
    "    def __init__(self, name, age, weight):\n",
    "        animal.__init__(self,name,age)\n",
    "        self.weight = weight\n",
    "        print(f'a dog called {self.name} is comming')\n",
    "    def speak(self):\n",
    "        print('bark')\n",
    "        \n",
    "        \n",
    "a = cat('poka',5,100)\n",
    "b = dog('husky',1,34)\n",
    "\n",
    "a.speak()\n",
    "b.speak()"
   ]
  },
  {
   "cell_type": "code",
   "execution_count": 146,
   "metadata": {},
   "outputs": [
    {
     "data": {
      "text/plain": [
       "[-1, -10, -50, 200]"
      ]
     },
     "execution_count": 146,
     "metadata": {},
     "output_type": "execute_result"
    }
   ],
   "source": [
    "lst = [1,10,50,100]\n",
    "lst2 = [i*2 if i>50 else -1*i for i in lst]\n",
    "lst2"
   ]
  },
  {
   "cell_type": "code",
   "execution_count": null,
   "metadata": {},
   "outputs": [],
   "source": []
  }
 ],
 "metadata": {
  "kernelspec": {
   "display_name": "Python 3.7.4 64-bit ('base': conda)",
   "language": "python",
   "name": "python37464bitbasecondad1e57498e3fd4f6c90ab822f500f601d"
  },
  "language_info": {
   "codemirror_mode": {
    "name": "ipython",
    "version": 3
   },
   "file_extension": ".py",
   "mimetype": "text/x-python",
   "name": "python",
   "nbconvert_exporter": "python",
   "pygments_lexer": "ipython3",
   "version": "3.7.4"
  }
 },
 "nbformat": 4,
 "nbformat_minor": 2
}
