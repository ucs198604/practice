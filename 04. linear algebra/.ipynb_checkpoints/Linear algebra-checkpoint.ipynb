{
 "cells": [
  {
   "cell_type": "markdown",
   "metadata": {},
   "source": [
    "### Basics of Linear Algebra for Machine Learning -- Discover the Mathematical Language of Data in Python"
   ]
  },
  {
   "cell_type": "markdown",
   "metadata": {},
   "source": [
    "## Introduction\n",
    "- linear algebra is the math of data; matrices and vectors are the language of data\n",
    "- linear algebra is a valuable tool in statistics\n",
    "- matrix fatorization (used in PCA), linear least squares (used in regression), eigendecomposition, singular value decomposition (used for dimension reduction, feature selection, visualization, noise reduction...)\n",
    "- row -> each observation; column -> features\n"
   ]
  },
  {
   "cell_type": "markdown",
   "metadata": {},
   "source": [
    "## Numpy"
   ]
  },
  {
   "cell_type": "markdown",
   "metadata": {},
   "source": [
    "### Basic ndarray operations"
   ]
  },
  {
   "cell_type": "code",
   "execution_count": 2,
   "metadata": {},
   "outputs": [
    {
     "data": {
      "text/plain": [
       "numpy.ndarray"
      ]
     },
     "execution_count": 2,
     "metadata": {},
     "output_type": "execute_result"
    }
   ],
   "source": [
    "# np.array()\n",
    "from numpy import array\n",
    "import numpy as np\n",
    "data = [1,2,3,4,5]\n",
    "\n",
    "data = array(data)\n",
    "type(data)"
   ]
  },
  {
   "cell_type": "code",
   "execution_count": 21,
   "metadata": {},
   "outputs": [
    {
     "name": "stdout",
     "output_type": "stream",
     "text": [
      "2\n",
      "2\n",
      "[1 2 3 4 5]\n",
      "[1 2 3 4 5]\n"
     ]
    }
   ],
   "source": [
    "# array indexing\n",
    "\n",
    "data2 = [[1,2,3,4,5],[6,7,8,9,0]]  # 2x5\n",
    "data2 = array(data2)\n",
    "\n",
    "# both methods will do\n",
    "print(data2[0,1])\n",
    "print(data2[0][1])\n",
    "\n",
    "# same method\n",
    "print(data2[0])\n",
    "print(data2[0,])"
   ]
  },
  {
   "cell_type": "code",
   "execution_count": 37,
   "metadata": {},
   "outputs": [],
   "source": [
    "# slicing\n",
    "data2 = [[1,2,3,4,5],\n",
    "         [6,7,8,9,0]]\n",
    "data2 = array(data2)\n",
    "\n",
    "data2[0:1][2:] # this returns empty of shape=(0,5)\n",
    "data2[0:1,2:] # this is the correct expression\n",
    "\n",
    "# for slicing X (input) and y (output features)\n",
    "X = data2[:, :-1]\n",
    "y = data2[:, -1]  # [5,0], becoming 1D array, y.shape = (2,)\n",
    "\n",
    "# for spliting train and test rows\n",
    "split = 3\n",
    "train = data2[:split, :]\n",
    "test = data2[split:, :]\n",
    "train, test = data2[:split, :], data2[split:, :]\n",
    "\n",
    "\n"
   ]
  },
  {
   "cell_type": "code",
   "execution_count": 65,
   "metadata": {},
   "outputs": [
    {
     "data": {
      "text/plain": [
       "array([[[11],\n",
       "        [22]],\n",
       "\n",
       "       [[33],\n",
       "        [44]],\n",
       "\n",
       "       [[55],\n",
       "        [66]]])"
      ]
     },
     "execution_count": 65,
     "metadata": {},
     "output_type": "execute_result"
    }
   ],
   "source": [
    "# reshape 1D to 2D\n",
    "# after slicing, y may become 1D array\n",
    "# eg. scikit-learn requires 2-D array to be the output variable\n",
    "\n",
    "# np.reshape(array, (n,m))\n",
    "# ndarray.reshape(n,m)\n",
    "\n",
    "arrayA = np.arange(8)\n",
    "# arrayA = array([0, 1, 2, 3, 4, 5, 6, 7])\n",
    "\n",
    "# same expression\n",
    "np.reshape(arrayA, (2, 4))  # if nxm not match -> arise error\n",
    "arrayA.reshape(2,4)\n",
    "arrayA.reshape((2,4)) # both legit\n",
    "arrayA.reshape(-1,4) # use -1 as an unspecified argument\n",
    "\n",
    "arrayA = arrayA.reshape(-1,1)  # convert to nx1, 2D array\n",
    "arrayA.shape # (8,) to (8,1)\n",
    "\n",
    "data = array([[11,22],\n",
    "       [33,44],\n",
    "       [55,66]])   # shape = (3,2)\n",
    "data = data.reshape(data.shape[0],data.shape[1],1)  # (3,2) 2D to (3,2,1) 3D array\n",
    "data"
   ]
  },
  {
   "cell_type": "code",
   "execution_count": 5,
   "metadata": {},
   "outputs": [
    {
     "data": {
      "text/plain": [
       "array([[4, 4, 4],\n",
       "       [4, 4, 4]])"
      ]
     },
     "execution_count": 5,
     "metadata": {},
     "output_type": "execute_result"
    }
   ],
   "source": [
    "# Array addition, broad casting\n",
    "\n",
    "A = array([[1,2,3],\n",
    "         [1,2,3]])\n",
    "B = array([1])  \n",
    "C = array([3,2,1]) \n",
    "A+B ## B form a 2x3 array, to add on A; 234,234\n",
    "A+C # C form 2x3 array ,to add on A; 444,444"
   ]
  },
  {
   "cell_type": "markdown",
   "metadata": {},
   "source": [
    "### Vectors and vector arithmetic\n",
    "- np.dot(a,b)\n",
    "- for 1D array -> inner product\n",
    "- for 2D array -> matrix mutiplication"
   ]
  },
  {
   "cell_type": "code",
   "execution_count": 27,
   "metadata": {},
   "outputs": [
    {
     "data": {
      "text/plain": [
       "14"
      ]
     },
     "execution_count": 27,
     "metadata": {},
     "output_type": "execute_result"
    }
   ],
   "source": [
    "from numpy import array\n",
    "v = array([1,2,3,4,5])\n",
    "\n",
    "# vector multiplication\n",
    "# NOT dot product\n",
    "a = array([1,2,3])\n",
    "b = array([4])\n",
    "a*b  # array([ 4,  8, 12])\n",
    "\n",
    "c = array([3,4,5])\n",
    "a*c  # array([ 3,  8, 15])\n",
    "\n",
    "# vector division\n",
    "a = array([1,2,3])\n",
    "a/a  # array([1., 1., 1.])\n",
    "\n",
    "# dot product\n",
    "a.dot(a)  # 1*1 + 2*2 + 3*3 = 14\n",
    "np.dot(a,a) # 14\n",
    "\n",
    "# for 1D array -> inner product; for 2D array -> matrix mutiplication\n"
   ]
  },
  {
   "cell_type": "code",
   "execution_count": 6,
   "metadata": {},
   "outputs": [
    {
     "data": {
      "text/plain": [
       "3.0"
      ]
     },
     "execution_count": 6,
     "metadata": {},
     "output_type": "execute_result"
    }
   ],
   "source": [
    "# Vector norm = vector length\n",
    "\n",
    "# L1 norm -> sum of absolute values of the vector, aka taxicab norm, Manhattan norm\n",
    "# L2 norm -> 平方和開根號\n",
    "# max norm -> calculated as maxinum vector values\n",
    "\n",
    "from numpy.linalg import norm\n",
    "\n",
    "a = array([1,2,3])\n",
    "norm(a,1)  # 6\n",
    "norm(a,2)  # 3.7416573867739413\n",
    "norm(a) # 3.7416573867739413, default parameter is 2\n",
    "norm(a,np.inf) # aka maxnorm, 3"
   ]
  },
  {
   "cell_type": "code",
   "execution_count": 24,
   "metadata": {},
   "outputs": [
    {
     "data": {
      "text/plain": [
       "array([[22, 28],\n",
       "       [49, 64]])"
      ]
     },
     "execution_count": 24,
     "metadata": {},
     "output_type": "execute_result"
    }
   ],
   "source": [
    "# Matrices, matrix arithmetic\n",
    "from numpy import array\n",
    "import numpy as np\n",
    "\n",
    "A = array([[1,2,3],\n",
    "          [4,5,6]])\n",
    "A[0,2]==A[0][2]  # True, same expression\n",
    "\n",
    "# Madamard product  C = A o B, element x element\n",
    "A*A  # [1,4,9],[16,25,36]\n",
    "\n",
    "C = array([2,2,2])\n",
    "A*C  # [2,4,6],[8,10,12], broadcasting\n",
    "\n",
    "# Division is also legit\n",
    "A/A  # [1,1,1],[1,1,1]\n",
    "\n",
    "# Matrix-Matrix multiplication, dot product, C = A•B = AB\n",
    "A = array([[1,2,3],\n",
    "           [4,5,6]])\n",
    "B = array([[1,2],\n",
    "           [3,4],\n",
    "           [5,6]])\n",
    "np.dot(A,B)\n",
    "A@B \n",
    "A.dot(B)  # all the same"
   ]
  },
  {
   "cell_type": "code",
   "execution_count": 25,
   "metadata": {},
   "outputs": [
    {
     "data": {
      "text/plain": [
       "array([14, 32])"
      ]
     },
     "execution_count": 25,
     "metadata": {},
     "output_type": "execute_result"
    }
   ],
   "source": [
    "A = array([[1,2,3],\n",
    "           [4,5,6]])\n",
    "B = array([1,2,3])\n",
    "A@B"
   ]
  },
  {
   "cell_type": "code",
   "execution_count": 70,
   "metadata": {},
   "outputs": [
    {
     "data": {
      "text/plain": [
       "array([[1, 0],\n",
       "       [0, 1]])"
      ]
     },
     "execution_count": 70,
     "metadata": {},
     "output_type": "execute_result"
    }
   ],
   "source": [
    "# Forms of matrices\n",
    "# square, symmetric, upper triangular, lower triangular, diagonal, identity, orthogonal\n",
    "\n",
    "# calculating triangular form\n",
    "import numpy as np\n",
    "import numpy.linalg as la\n",
    "\n",
    "M = array([[1,2,3],\n",
    "          [4,5,6],\n",
    "          [7,8,9]])\n",
    "np.triu(M)\n",
    "np.tril(M)  # NOT in LU factorization\n",
    "\n",
    "# diagonal matrix\n",
    "# 對角線不為零，其他為零； 不一定要 square\n",
    "np.diag(M)  # array([1, 5, 9])\n",
    "np.diag(np.diag(M))  # 回傳剩下的matrix  [1,0,0],[0,5,0],[0,0,9]\n",
    "\n",
    "# creating identity matrix\n",
    "np.identity(4)\n",
    "\n",
    "# orthogonal matrix 正交矩陣\n",
    "# 2 vectors are orthogonal if their dot product =0\n",
    "# orthonomal -> orthogonal and normalized (lenth=1)\n",
    "# transpose of orthogonal matrix = inverse of orthogonal matrix\n",
    "# Q.T = Q.inverse\n",
    "# Q•Q.T = Q.T•Q = I\n",
    "\n",
    "AA = np.array([[1,0],[0,-1]])\n",
    "AA.T == la.inv(AA)  # True for all, AA.transpose = AA.inverse -> AA is orthogonal\n",
    "AA@AA.T # = I2"
   ]
  },
  {
   "cell_type": "code",
   "execution_count": 83,
   "metadata": {},
   "outputs": [
    {
     "data": {
      "text/plain": [
       "array([[-2. ,  1. ],\n",
       "       [ 1.5, -0.5]])"
      ]
     },
     "execution_count": 83,
     "metadata": {},
     "output_type": "execute_result"
    }
   ],
   "source": [
    "# inverse of matrix\n",
    "import numpy.linalg as la\n",
    "\n",
    "X = np.array([[1,2],[3,4]])\n",
    "la.inv(X)\n"
   ]
  },
  {
   "cell_type": "code",
   "execution_count": 96,
   "metadata": {},
   "outputs": [
    {
     "data": {
      "text/plain": [
       "2"
      ]
     },
     "execution_count": 96,
     "metadata": {},
     "output_type": "execute_result"
    }
   ],
   "source": [
    "# Trace, square matrix\n",
    "import numpy as np\n",
    "np.trace([[1,2],\n",
    "          [3,4]])  # 5\n",
    "\n",
    "# Determinant, square matrix, noted as |A| or det(A)\n",
    "import numpy.linalg as la\n",
    "la.det([[1,2],\n",
    "        [3,4]])  # -2\n",
    "\n",
    "# Rank\n",
    "# num of independent row/col \n",
    "# python uses single value decomposition method\n",
    "import numpy.linalg as la\n",
    "la.matrix_rank([[1,2],\n",
    "                [3,4]])  # 2"
   ]
  },
  {
   "cell_type": "code",
   "execution_count": 107,
   "metadata": {},
   "outputs": [
    {
     "name": "stdout",
     "output_type": "stream",
     "text": [
      "  (0, 0)\t1\n",
      "  (0, 3)\t1\n",
      "  (1, 2)\t2\n",
      "  (1, 5)\t1\n",
      "  (2, 3)\t2\n",
      "[[1 0 0 1 0 0]\n",
      " [0 0 2 0 0 1]\n",
      " [0 0 0 2 0 0]]\n"
     ]
    },
    {
     "data": {
      "text/plain": [
       "0.7222222222222222"
      ]
     },
     "execution_count": 107,
     "metadata": {},
     "output_type": "execute_result"
    }
   ],
   "source": [
    "# Sparse matrix\n",
    "# comprised of mostly 0s -> computational savings\n",
    "# sparsity = num of 0s / num of elements\n",
    "# one hot encoding, count encoding, NLP, recommendation system\n",
    "# CSR, compressed sparse row is often used to represent sparse matrices in machine learning\n",
    "\n",
    "import numpy as np\n",
    "from scipy.sparse import csr_matrix\n",
    "\n",
    "A = array([[1,0,0,1,0,0],\n",
    "          [0,0,2,0,0,1],\n",
    "          [0,0,0,2,0,0]])\n",
    "# convert to sparse matrix, CSR method\n",
    "S = csr_matrix(A)\n",
    "print(S)\n",
    "B = S.todense()\n",
    "print(B)\n",
    "\n",
    "sparsity = 1-np.count_nonzero(A)/A.size\n",
    "sparsity"
   ]
  },
  {
   "cell_type": "code",
   "execution_count": 110,
   "metadata": {},
   "outputs": [
    {
     "data": {
      "text/plain": [
       "array([[[[ 1,  2,  3],\n",
       "         [ 4,  5,  6],\n",
       "         [ 7,  8,  9]],\n",
       "\n",
       "        [[ 2,  4,  6],\n",
       "         [ 8, 10, 12],\n",
       "         [14, 16, 18]]],\n",
       "\n",
       "\n",
       "       [[[ 3,  6,  9],\n",
       "         [12, 15, 18],\n",
       "         [21, 24, 27]],\n",
       "\n",
       "        [[ 4,  8, 12],\n",
       "         [16, 20, 24],\n",
       "         [28, 32, 36]]]])"
      ]
     },
     "execution_count": 110,
     "metadata": {},
     "output_type": "execute_result"
    }
   ],
   "source": [
    "# tensor dot\n",
    "# A of m-dimension, B of n-dimension, tensordot(A,B) = A⨂B -> m+n dimension\n",
    "import numpy as np\n",
    "\n",
    "A = np.array([[1,2],[3,4]])  # 2D\n",
    "B = np.array([[1,2,3],[4,5,6],[7,8,9]]) # 3D\n",
    "np.tensordot(A,B,axes=0)  # axes must be 0"
   ]
  },
  {
   "cell_type": "markdown",
   "metadata": {},
   "source": [
    "### Matrix factorization, decomposition\n",
    "- LU factorization\n",
    "- QR factorization\n",
    "- Cholesky decomposition"
   ]
  },
  {
   "cell_type": "code",
   "execution_count": 116,
   "metadata": {},
   "outputs": [
    {
     "name": "stdout",
     "output_type": "stream",
     "text": [
      "[[0. 1. 0.]\n",
      " [0. 0. 1.]\n",
      " [1. 0. 0.]]\n",
      "[[1.         0.         0.        ]\n",
      " [0.14285714 1.         0.        ]\n",
      " [0.57142857 0.5        1.        ]]\n",
      "[[ 7.00000000e+00  8.00000000e+00  9.00000000e+00]\n",
      " [ 0.00000000e+00  8.57142857e-01  1.71428571e+00]\n",
      " [ 0.00000000e+00  0.00000000e+00 -1.58603289e-16]]\n",
      "[[7. 8. 9.]\n",
      " [1. 2. 3.]\n",
      " [4. 5. 6.]]\n",
      "[[1. 2. 3.]\n",
      " [4. 5. 6.]\n",
      " [7. 8. 9.]]\n"
     ]
    }
   ],
   "source": [
    "# LU factorization, PLU factorization\n",
    "# for square matrix\n",
    "# A = LU\n",
    "# L = lower triangle matrix; U = upper triangle matrix\n",
    "# A = LUP, P to permute the rows of parent matrix\n",
    "\n",
    "import numpy as np\n",
    "from scipy.linalg import lu\n",
    "\n",
    "A = array([[1,2,3],\n",
    "           [4,5,6],\n",
    "           [7,8,9]])\n",
    "# convert A to P, L, U\n",
    "P,L,U = lu(A) \n",
    "print(P)\n",
    "print(L)\n",
    "print(U)\n",
    "print(L@U) # LU \n",
    "print(P@L@U)  # PLU = A"
   ]
  },
  {
   "cell_type": "code",
   "execution_count": 123,
   "metadata": {},
   "outputs": [
    {
     "name": "stdout",
     "output_type": "stream",
     "text": [
      "[[-0.12309149  0.90453403  0.40824829]\n",
      " [-0.49236596  0.30151134 -0.81649658]\n",
      " [-0.86164044 -0.30151134  0.40824829]]\n",
      "[[-8.12403840e+00 -9.60113630e+00 -1.10782342e+01]\n",
      " [ 0.00000000e+00  9.04534034e-01  1.80906807e+00]\n",
      " [ 0.00000000e+00  0.00000000e+00 -1.11164740e-15]]\n"
     ]
    }
   ],
   "source": [
    "# QR factorization\n",
    "# 不一定要 square\n",
    "# Q is a square matrix, of mxm size\n",
    "# R is a upper triangle matrix, of mxn size\n",
    "import numpy as np\n",
    "import numpy.linalg as la\n",
    "\n",
    "A = array([[1,2,3],\n",
    "           [4,5,6],\n",
    "           [7,8,9]])\n",
    "\n",
    "# convert A to Q, R\n",
    "\n",
    "Q,R = la.qr(A, mode='complete')  # mode='reduced' by default\n",
    "print(Q)\n",
    "print(R)"
   ]
  },
  {
   "cell_type": "code",
   "execution_count": 126,
   "metadata": {},
   "outputs": [
    {
     "data": {
      "text/plain": [
       "array([[2., 1., 1.],\n",
       "       [1., 2., 1.],\n",
       "       [1., 1., 2.]])"
      ]
     },
     "execution_count": 126,
     "metadata": {},
     "output_type": "execute_result"
    }
   ],
   "source": [
    "# Cholesky decomposition\n",
    "# for square, symmetric matrix, with values >=0 \n",
    "# A = L•L.T , L a lower triangular matrix\n",
    "# A = U.T•U , U a upper triangular matrix\n",
    "# used to solve linear least squares for linear regression, simulation, optimization methods\n",
    "# Cholesky decomposition is mor efficient than LU decomposition\n",
    "\n",
    "import numpy as np\n",
    "import numpy.linalg as la\n",
    "\n",
    "A = array([[2,1,1],\n",
    "           [1,2,1],\n",
    "           [1,1,2]])\n",
    "L = la.cholesky(A)  # return L\n",
    "L@L.T  # 回來本來的 matrix A\n",
    "\n"
   ]
  },
  {
   "cell_type": "markdown",
   "metadata": {},
   "source": [
    "### Eigendecomposition"
   ]
  },
  {
   "cell_type": "code",
   "execution_count": 160,
   "metadata": {},
   "outputs": [
    {
     "name": "stdout",
     "output_type": "stream",
     "text": [
      "[ 1.61168440e+01 -1.11684397e+00 -9.75918483e-16]\n",
      "[[-0.23197069 -0.78583024  0.40824829]\n",
      " [-0.52532209 -0.08675134 -0.81649658]\n",
      " [-0.8186735   0.61232756  0.40824829]]\n",
      "[ -3.73863537  -8.46653421 -13.19443305]\n",
      "[ -3.73863537  -8.46653421 -13.19443305]\n",
      "[[-0.23197069 -0.78583024  0.40824829]\n",
      " [-0.52532209 -0.08675134 -0.81649658]\n",
      " [-0.8186735   0.61232756  0.40824829]]\n"
     ]
    },
    {
     "data": {
      "text/plain": [
       "array([[1., 2., 3.],\n",
       "       [4., 5., 6.],\n",
       "       [7., 8., 9.]])"
      ]
     },
     "execution_count": 160,
     "metadata": {},
     "output_type": "execute_result"
    }
   ],
   "source": [
    "# Eigendecomposition\n",
    "# decomposing a square matrix, into a set of eigenvectors and eigenvalues\n",
    "# to decompose matrix A -> A𝝊 = 𝝀𝝊\n",
    "# 𝝊 -> eigenvector; 𝝀 -> eigenvalue, a scalar\n",
    "# a matrix could have one eigenvector and eigenvalue for each dimension of the parent matrix\n",
    "# not all square matrices can be decomposed into eigenvectors/eigenvalues\n",
    "# A = Q•𝜦•Q-1\n",
    "# Q -> matrix comporised of eigenvectors\n",
    "# 𝜦 -> upper case of 𝝀, a diagonal matrix comprised of eigenvalues\n",
    "# eigenvectors are unit vectors, linear length =1\n",
    "# eigenvalue -> give eigenvector magnitude, scaling it\n",
    "\n",
    "import numpy\n",
    "import numpy.linalg as la\n",
    "\n",
    "A = array([[1,2,3],[4,5,6],[7,8,9]])\n",
    "value, vector = la.eig(A)  # return sets of eigenvalues and vector\n",
    "print(value)\n",
    "print(vector)\n",
    "\n",
    "# A𝝊 = 𝝀𝝊\n",
    "eval0 = value[0]\n",
    "evec0 = vector[:,0] # 1st column, 1st eigenvector, which pairs with 1st eigenvalue\n",
    "\n",
    "# 𝝀𝝊\n",
    "print(eval0*evec0)\n",
    "\n",
    "# A𝝊\n",
    "print(A@evec0)\n",
    "\n",
    "# A = Q•𝜦•Q-1\n",
    "# Q -> matrix comporised of eigenvectors\n",
    "# 𝜦 -> upper case of 𝝀, a diagonal matrix comprised of eigenvalues\n",
    "L = np.diag(value)  # create a diagonal matrix, comprised of eigen values\n",
    "\n",
    "print(vector)\n",
    "vector@L@la.inv(vector) # A = Q•𝜦•Q-1\n"
   ]
  },
  {
   "cell_type": "code",
   "execution_count": null,
   "metadata": {},
   "outputs": [],
   "source": []
  }
 ],
 "metadata": {
  "kernelspec": {
   "display_name": "Python 3",
   "language": "python",
   "name": "python3"
  },
  "language_info": {
   "codemirror_mode": {
    "name": "ipython",
    "version": 3
   },
   "file_extension": ".py",
   "mimetype": "text/x-python",
   "name": "python",
   "nbconvert_exporter": "python",
   "pygments_lexer": "ipython3",
   "version": "3.7.4"
  }
 },
 "nbformat": 4,
 "nbformat_minor": 2
}
